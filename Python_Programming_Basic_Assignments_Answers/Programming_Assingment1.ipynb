{
 "cells": [
  {
   "cell_type": "markdown",
   "source": [
    "# Ineuron Programming_Assingment1"
   ],
   "metadata": {}
  },
  {
   "cell_type": "markdown",
   "source": [
    "## 1. Write a Python program to print \"Hello Python\"?"
   ],
   "metadata": {}
  },
  {
   "cell_type": "code",
   "execution_count": 4,
   "source": [
    "print('Hello Python')"
   ],
   "outputs": [
    {
     "output_type": "stream",
     "name": "stdout",
     "text": [
      "Hello Python\n"
     ]
    }
   ],
   "metadata": {}
  },
  {
   "cell_type": "markdown",
   "source": [
    "## 2. Write a Python program to do arithmetical operations addition and division.?"
   ],
   "metadata": {}
  },
  {
   "cell_type": "code",
   "execution_count": 6,
   "source": [
    "print(\"Sum of 10 and 20 is: \",(10+20))\r\n",
    "print(\"Division of 20 by 10 is: \",(20/10))"
   ],
   "outputs": [
    {
     "output_type": "stream",
     "name": "stdout",
     "text": [
      "Sum of 10 and 20 is:  30\n",
      "Division of 20 by 10 is:  2.0\n"
     ]
    }
   ],
   "metadata": {}
  },
  {
   "cell_type": "markdown",
   "source": [
    "## 3. Write a Python program to find the area of a triangle?"
   ],
   "metadata": {}
  },
  {
   "cell_type": "code",
   "execution_count": 11,
   "source": [
    "import math\r\n",
    "\r\n",
    "a, b, c = 10, 20, 15\r\n",
    "s = (a+b+c)/2\r\n",
    "print(s)\r\n",
    "print(f'Area of triangle with sides {a}, {b}, and {c} is: ',(math.sqrt(s*(s-a)*(s-b)*(s-c))))"
   ],
   "outputs": [
    {
     "output_type": "stream",
     "name": "stdout",
     "text": [
      "22.5\n",
      "Area of triangle with sides 10, 20, and 15 is:  72.61843774138907\n"
     ]
    }
   ],
   "metadata": {}
  },
  {
   "cell_type": "markdown",
   "source": [
    "## 4. Write a Python program to swap two variables?"
   ],
   "metadata": {}
  },
  {
   "cell_type": "code",
   "execution_count": 1,
   "source": [
    "a = 10\r\n",
    "b = 20\r\n",
    "print('Value of (a,b) is: ',(a,b))\r\n",
    "a,b = b,a\r\n",
    "print('Value of (a,b) after swap is: ',(a,b))"
   ],
   "outputs": [
    {
     "output_type": "stream",
     "name": "stdout",
     "text": [
      "Value of (a,b) is:  (10, 20)\n",
      "Value of (a,b) after swap is:  (20, 10)\n"
     ]
    }
   ],
   "metadata": {}
  },
  {
   "cell_type": "markdown",
   "source": [
    "## 5. Write a Python program to generate a random number?"
   ],
   "metadata": {}
  },
  {
   "cell_type": "code",
   "execution_count": 2,
   "source": [
    "import random\r\n",
    "num = random.randint(1,500)\r\n",
    "print(num)"
   ],
   "outputs": [
    {
     "output_type": "stream",
     "name": "stdout",
     "text": [
      "45\n"
     ]
    }
   ],
   "metadata": {}
  }
 ],
 "metadata": {
  "orig_nbformat": 4,
  "language_info": {
   "name": "python",
   "version": "3.8.8",
   "mimetype": "text/x-python",
   "codemirror_mode": {
    "name": "ipython",
    "version": 3
   },
   "pygments_lexer": "ipython3",
   "nbconvert_exporter": "python",
   "file_extension": ".py"
  },
  "kernelspec": {
   "name": "python3",
   "display_name": "Python 3.8.8 64-bit ('base': conda)"
  },
  "interpreter": {
   "hash": "485035c5b2a6f2b50dc2dc5ca51aeeb931032fbc9adc2e30c7c528d6bf8a9176"
  }
 },
 "nbformat": 4,
 "nbformat_minor": 2
}