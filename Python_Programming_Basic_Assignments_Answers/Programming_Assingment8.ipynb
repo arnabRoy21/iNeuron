{
 "cells": [
  {
   "cell_type": "markdown",
   "metadata": {},
   "source": [
    "# Programming_Assingment8"
   ]
  },
  {
   "cell_type": "markdown",
   "metadata": {},
   "source": [
    "## 1. Write a Python Program to Add Two Matrices?"
   ]
  },
  {
   "cell_type": "code",
   "execution_count": 1,
   "metadata": {},
   "outputs": [
    {
     "name": "stdout",
     "output_type": "stream",
     "text": [
      "[60, 100, 40]\n",
      "[100, 120, 90]\n",
      "[110, 130, 180]\n"
     ]
    }
   ],
   "source": [
    "X = [[10,20,30],\r\n",
    "     [40 ,50,60],\r\n",
    "     [70 ,80,90]]\r\n",
    "\r\n",
    "Y = [[50,80,10],\r\n",
    "     [60,70,30],\r\n",
    "     [40,50,90]]\r\n",
    "\r\n",
    "result = [[0,0,0],\r\n",
    "          [0,0,0],\r\n",
    "          [0,0,0]]\r\n",
    "\r\n",
    "\r\n",
    "for i in range(len(X)):\r\n",
    "   for j in range(len(X[0])):\r\n",
    "       result[i][j] = X[i][j] + Y[i][j]\r\n",
    "\r\n",
    "for r in result:\r\n",
    "   print(r)"
   ]
  },
  {
   "cell_type": "markdown",
   "metadata": {},
   "source": [
    "## 2. Write a Python Program to Multiply Two Matrices?"
   ]
  },
  {
   "cell_type": "code",
   "execution_count": 3,
   "metadata": {},
   "outputs": [
    {
     "name": "stdout",
     "output_type": "stream",
     "text": [
      "[600, 1024, 60, 270]\n",
      "[740, 3265, 109, 860]\n",
      "[5195, 1165, 328, 230]\n"
     ]
    }
   ],
   "source": [
    "X = [[12,7,3],\r\n",
    "     [40 ,5,6],\r\n",
    "     [7 ,80,9]]\r\n",
    "\r\n",
    "Y = [[5,80,1,20],\r\n",
    "     [60,7,3,0],\r\n",
    "     [40,5,9,10]]\r\n",
    "\r\n",
    "result = [[0,0,0,0],\r\n",
    "          [0,0,0,0],\r\n",
    "          [0,0,0,0]]\r\n",
    "\r\n",
    "\r\n",
    "for i in range(len(X)):\r\n",
    "   for j in range(len(Y[0])):\r\n",
    "       for k in range(len(Y)):\r\n",
    "           result[i][j] += X[i][k] * Y[k][j]\r\n",
    "\r\n",
    "for r in result:\r\n",
    "   print(r)"
   ]
  },
  {
   "cell_type": "markdown",
   "metadata": {},
   "source": [
    "## 3. Write a Python Program to Transpose a Matrix?"
   ]
  },
  {
   "cell_type": "code",
   "execution_count": 8,
   "metadata": {},
   "outputs": [
    {
     "name": "stdout",
     "output_type": "stream",
     "text": [
      "[12, 40, 7]\n",
      "[7, 5, 80]\n",
      "[3, 6, 9]\n"
     ]
    }
   ],
   "source": [
    "X = [[12,7,3],\r\n",
    "     [40 ,5,6],\r\n",
    "     [7 ,80,9]]\r\n",
    "\r\n",
    "XT = [[0,0,0],\r\n",
    "      [0,0,0],\r\n",
    "      [0,0,0]]\r\n",
    "\r\n",
    "row = len(X[0])\r\n",
    "col = len(X)\r\n",
    "\r\n",
    "for i in range(row):\r\n",
    "     for j in range(col):\r\n",
    "          XT[i][j] = X[j][i]\r\n",
    "\r\n",
    "for r in XT:\r\n",
    "   print(r)"
   ]
  },
  {
   "cell_type": "markdown",
   "metadata": {},
   "source": [
    "## 4. Write a Python Program to Sort Words in Alphabetic Order?"
   ]
  },
  {
   "cell_type": "code",
   "execution_count": 10,
   "metadata": {},
   "outputs": [
    {
     "name": "stdout",
     "output_type": "stream",
     "text": [
      "Arnab\n",
      "Hi,\n",
      "This\n",
      "is\n"
     ]
    }
   ],
   "source": [
    "my_str = \"Hi, This is Arnab\"\r\n",
    "\r\n",
    "word_list = my_str.split()\r\n",
    "\r\n",
    "word_list.sort()\r\n",
    "\r\n",
    "for word in word_list:\r\n",
    "    print(word)"
   ]
  },
  {
   "cell_type": "markdown",
   "metadata": {},
   "source": [
    "## 5. Write a Python Program to Remove Punctuation From a String?"
   ]
  },
  {
   "cell_type": "code",
   "execution_count": 11,
   "metadata": {},
   "outputs": [
    {
     "name": "stdout",
     "output_type": "stream",
     "text": [
      "Hi This is Arnab How are you\n"
     ]
    }
   ],
   "source": [
    "punctuations = '''!()-[]{};:'\"\\,<>./?@#$%^&*_~'''\r\n",
    "\r\n",
    "my_str = \"Hi! This is Arnab. How are you?\"\r\n",
    "\r\n",
    "str_without_punc = \"\"\r\n",
    "for char in my_str:\r\n",
    "   if char not in punctuations:\r\n",
    "       str_without_punc += char\r\n",
    "print(str_without_punc)"
   ]
  }
 ],
 "metadata": {
  "interpreter": {
   "hash": "485035c5b2a6f2b50dc2dc5ca51aeeb931032fbc9adc2e30c7c528d6bf8a9176"
  },
  "kernelspec": {
   "display_name": "Python 3.8.8 64-bit ('base': conda)",
   "name": "python3"
  },
  "language_info": {
   "codemirror_mode": {
    "name": "ipython",
    "version": 3
   },
   "file_extension": ".py",
   "mimetype": "text/x-python",
   "name": "python",
   "nbconvert_exporter": "python",
   "pygments_lexer": "ipython3",
   "version": "3.8.8"
  },
  "orig_nbformat": 4
 },
 "nbformat": 4,
 "nbformat_minor": 2
}