{
 "cells": [
  {
   "cell_type": "markdown",
   "metadata": {},
   "source": [
    "# Programming_Assingment10"
   ]
  },
  {
   "cell_type": "markdown",
   "metadata": {},
   "source": [
    "## 1. Write a Python program to find sum of elements in list?"
   ]
  },
  {
   "cell_type": "code",
   "execution_count": 1,
   "metadata": {},
   "outputs": [
    {
     "name": "stdout",
     "output_type": "stream",
     "text": [
      "Sum of all elements in the list is:  15\n"
     ]
    }
   ],
   "source": [
    "my_list = [1,3,3,2,6]\n",
    "print('Sum of all elements in the list is: ',sum(my_list))"
   ]
  },
  {
   "cell_type": "markdown",
   "metadata": {},
   "source": [
    "## 2. Write a Python program to  Multiply all numbers in the list?"
   ]
  },
  {
   "cell_type": "code",
   "execution_count": 2,
   "metadata": {},
   "outputs": [
    {
     "name": "stdout",
     "output_type": "stream",
     "text": [
      "Product of all elements in the list is:  108\n"
     ]
    }
   ],
   "source": [
    "import math\n",
    "\n",
    "my_list = [1,3,3,2,6]\n",
    "print('Product of all elements in the list is: ',math.prod(my_list))"
   ]
  },
  {
   "cell_type": "markdown",
   "metadata": {},
   "source": [
    "## 3. Write a Python program to find smallest number in a list?"
   ]
  },
  {
   "cell_type": "code",
   "execution_count": 5,
   "metadata": {},
   "outputs": [
    {
     "name": "stdout",
     "output_type": "stream",
     "text": [
      "Smallest number in the list is:  2\n"
     ]
    }
   ],
   "source": [
    "my_list = [15,3,3,2,6]\r\n",
    "print('Smallest number in the list is: ',min(my_list))"
   ]
  },
  {
   "cell_type": "markdown",
   "metadata": {},
   "source": [
    "## 4. Write a Python program to find largest number in a list?"
   ]
  },
  {
   "cell_type": "code",
   "execution_count": 6,
   "metadata": {},
   "outputs": [
    {
     "name": "stdout",
     "output_type": "stream",
     "text": [
      "Largest number in the list is:  15\n"
     ]
    }
   ],
   "source": [
    "my_list = [15,3,3,2,6]\r\n",
    "print('Largest number in the list is: ',max(my_list))"
   ]
  },
  {
   "cell_type": "markdown",
   "metadata": {},
   "source": [
    "## 5. Write a Python program to find second largest number in a list?"
   ]
  },
  {
   "cell_type": "code",
   "execution_count": 10,
   "metadata": {},
   "outputs": [
    {
     "name": "stdout",
     "output_type": "stream",
     "text": [
      "Second largest number in the list is:  3\n"
     ]
    }
   ],
   "source": [
    "my_list = [15,3,3,2,6]\r\n",
    "uniq_list_sorted = list(sorted(set(my_list)))\r\n",
    "\r\n",
    "print('Second largest number in the list is: ',uniq_list_sorted[1])\r\n"
   ]
  },
  {
   "cell_type": "markdown",
   "metadata": {},
   "source": [
    "## 6. Write a Python program to find N largest elements from a list?"
   ]
  },
  {
   "cell_type": "code",
   "execution_count": 1,
   "metadata": {},
   "outputs": [
    {
     "name": "stdout",
     "output_type": "stream",
     "text": [
      "List is:  [15, 3, 3, 2, 6]\n",
      "1st largest number in the list is:  2\n"
     ]
    }
   ],
   "source": [
    "my_list = [15,3,3,2,6]\r\n",
    "uniq_list_sorted = list(sorted(set(my_list)))\r\n",
    "\r\n",
    "print('List is: ',my_list)\r\n",
    "filt = int(input(\"Enter value to find the nth largest value in the list\"))\r\n",
    "\r\n",
    "if filt%10 == 1:\r\n",
    "    suffix = 'st'\r\n",
    "elif filt%10 == 2:\r\n",
    "    suffix = 'nd'\r\n",
    "elif filt%10 == 3:\r\n",
    "    suffix = 'rd'\r\n",
    "else:\r\n",
    "    suffix = 'th'   \r\n",
    "\r\n",
    "print(f'{filt}{suffix} largest number in the list is: ', uniq_list_sorted[filt-1])"
   ]
  },
  {
   "cell_type": "markdown",
   "metadata": {},
   "source": [
    "## 7. Write a Python program to print even numbers in a list?"
   ]
  },
  {
   "cell_type": "code",
   "execution_count": 19,
   "metadata": {},
   "outputs": [
    {
     "name": "stdout",
     "output_type": "stream",
     "text": [
      "The even numbers in the list are: \n",
      "2\n",
      "6\n"
     ]
    }
   ],
   "source": [
    "my_list = [15,3,3,2,6]\r\n",
    "print(\"The even numbers in the list are: \")\r\n",
    "for i in my_list:\r\n",
    "    if i%2 == 0:\r\n",
    "        print(i)\r\n"
   ]
  },
  {
   "cell_type": "markdown",
   "metadata": {},
   "source": [
    "## 8. Write a Python program to print odd numbers in a List?"
   ]
  },
  {
   "cell_type": "code",
   "execution_count": 21,
   "metadata": {},
   "outputs": [
    {
     "name": "stdout",
     "output_type": "stream",
     "text": [
      "The odd numbers in the list are: \n",
      "15\n",
      "3\n",
      "3\n"
     ]
    }
   ],
   "source": [
    "my_list = [15,3,3,2,6]\r\n",
    "print(\"The odd numbers in the list are: \")\r\n",
    "for i in my_list:\r\n",
    "    if i%2 != 0:\r\n",
    "        print(i)"
   ]
  },
  {
   "cell_type": "markdown",
   "metadata": {},
   "source": [
    "## 9. Write a Python program to Remove empty List from List?"
   ]
  },
  {
   "cell_type": "code",
   "execution_count": 31,
   "metadata": {},
   "outputs": [
    {
     "name": "stdout",
     "output_type": "stream",
     "text": [
      "List without empty list is:  [15, 3, 3, 2, 6]\n"
     ]
    }
   ],
   "source": [
    "my_list = [15,3, [], 3,2,[], 6]\r\n",
    "list_without_empty_list = []\r\n",
    "\r\n",
    "for i in my_list:\r\n",
    "    if (type(i) == list and len(i) == 0 ):\r\n",
    "        continue\r\n",
    "    list_without_empty_list.append(i)\r\n",
    "print(\"List without empty list is: \", list_without_empty_list)"
   ]
  },
  {
   "cell_type": "markdown",
   "metadata": {},
   "source": [
    "## 10. Write a Python program to Cloning or Copying a list?"
   ]
  },
  {
   "cell_type": "code",
   "execution_count": 32,
   "metadata": {},
   "outputs": [
    {
     "name": "stdout",
     "output_type": "stream",
     "text": [
      "The copied list is:  [15, 3, 3, 2, 6]\n"
     ]
    }
   ],
   "source": [
    "my_list = [15,3,3,2,6]\r\n",
    "\r\n",
    "copied_list = my_list.copy()\r\n",
    "\r\n",
    "print('The copied list is: ', copied_list)"
   ]
  },
  {
   "cell_type": "markdown",
   "metadata": {},
   "source": [
    "## 11. Write a Python program to Count occurrences of an element in a list?"
   ]
  },
  {
   "cell_type": "code",
   "execution_count": 36,
   "metadata": {},
   "outputs": [
    {
     "name": "stdout",
     "output_type": "stream",
     "text": [
      "List is:  [15, 3, 3, 2, 6]\n",
      "The occurences of 3 in the list is: 2\n"
     ]
    }
   ],
   "source": [
    "my_list = [15,3,3,2,6]\r\n",
    "\r\n",
    "print('List is: ', my_list)\r\n",
    "filt = int(input('Enter the element to get its occurence in the list: '))\r\n",
    "count = 0\r\n",
    "for i in my_list:\r\n",
    "    if i == filt:\r\n",
    "        count = count + 1\r\n",
    "print(f\"The occurences of {filt} in the list is: {count}\")"
   ]
  }
 ],
 "metadata": {
  "interpreter": {
   "hash": "485035c5b2a6f2b50dc2dc5ca51aeeb931032fbc9adc2e30c7c528d6bf8a9176"
  },
  "kernelspec": {
   "display_name": "Python 3.8.8 64-bit ('base': conda)",
   "name": "python3"
  },
  "language_info": {
   "codemirror_mode": {
    "name": "ipython",
    "version": 3
   },
   "file_extension": ".py",
   "mimetype": "text/x-python",
   "name": "python",
   "nbconvert_exporter": "python",
   "pygments_lexer": "ipython3",
   "version": "3.8.8"
  }
 },
 "nbformat": 4,
 "nbformat_minor": 2
}