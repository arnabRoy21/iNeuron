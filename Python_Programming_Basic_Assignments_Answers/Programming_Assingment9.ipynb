{
 "cells": [
  {
   "cell_type": "markdown",
   "source": [
    "# Programming_Assingment9"
   ],
   "metadata": {}
  },
  {
   "cell_type": "markdown",
   "source": [
    "## 1. Write a Python program to check if the given number is a Disarium Number?"
   ],
   "metadata": {}
  },
  {
   "cell_type": "code",
   "execution_count": 5,
   "source": [
    "import math\r\n",
    " \r\n",
    "def check(num):\r\n",
    " \r\n",
    "    len_num = len(str(num))\r\n",
    "    sum = 0\r\n",
    "    x = num\r\n",
    "    while (x != 0):\r\n",
    "        r = x % 10\r\n",
    "        sum = sum + r**len_num\r\n",
    "        len_num = len_num - 1\r\n",
    "        x = int(x/10)\r\n",
    "    print(sum)\r\n",
    "\r\n",
    "    if sum == num:\r\n",
    "        return 1\r\n",
    "    else:\r\n",
    "        return 0\r\n",
    "\r\n",
    "val = int(input(\"Enter a number to check if its a Disarium Number or not\"))\r\n",
    "if check(val) == 1:\r\n",
    "    print(f\"{val} is a Disarium Number\")\r\n",
    "else:\r\n",
    "    print(f\"{val} is not a Disarium Number\")"
   ],
   "outputs": [
    {
     "output_type": "stream",
     "name": "stdout",
     "text": [
      "175\n",
      "175 is a Disarium Number\n"
     ]
    }
   ],
   "metadata": {}
  },
  {
   "cell_type": "markdown",
   "source": [
    "## 2. Write a Python program to print all disarium numbers between 1 to 100?"
   ],
   "metadata": {}
  },
  {
   "cell_type": "code",
   "execution_count": 7,
   "source": [
    "import math\r\n",
    " \r\n",
    "def check(num):\r\n",
    " \r\n",
    "    len_num = len(str(num))\r\n",
    "    sum = 0\r\n",
    "    x = num\r\n",
    "    while (x != 0):\r\n",
    "        r = x % 10\r\n",
    "        sum = sum + r**len_num\r\n",
    "        len_num = len_num - 1\r\n",
    "        x = int(x/10)\r\n",
    "\r\n",
    "    if sum == num:\r\n",
    "        return 1\r\n",
    "    else:\r\n",
    "        return 0\r\n",
    "print(\"The Disarium no.s between 1 and 100 are: \")\r\n",
    "disarium_list = []\r\n",
    "for number in range(1,100):\r\n",
    "    if check(number) == 1:\r\n",
    "        disarium_list.append(number)\r\n",
    "print(disarium_list)"
   ],
   "outputs": [
    {
     "output_type": "stream",
     "name": "stdout",
     "text": [
      "The Disarium no.s between 1 and 100 are: \n",
      "[1, 2, 3, 4, 5, 6, 7, 8, 9, 89]\n"
     ]
    }
   ],
   "metadata": {}
  },
  {
   "cell_type": "markdown",
   "source": [
    "## 3. Write a Python program to check if the given number is Happy Number?"
   ],
   "metadata": {}
  },
  {
   "cell_type": "code",
   "execution_count": 26,
   "source": [
    "def isHappyNumber(num):  \r\n",
    "    rem = sum = 0 \r\n",
    "    while(num > 0):  \r\n",
    "        rem = num%10\r\n",
    "        sum = sum + (rem*rem)\r\n",
    "        num = num//10\r\n",
    "    return sum  \r\n",
    "\r\n",
    "num = int(input(\"Enter a no. to check if its a happy number or not\"))\r\n",
    "result = num\r\n",
    "while(result != 1 and result != 4):  \r\n",
    "    result = isHappyNumber(result) \r\n",
    "if(result == 1):\r\n",
    "    print(f'{num} is a Happy Number')\r\n",
    "else:\r\n",
    "    print(f'{num} is not a Happy Number')"
   ],
   "outputs": [
    {
     "output_type": "stream",
     "name": "stdout",
     "text": [
      "44 is a Happy Number\n"
     ]
    }
   ],
   "metadata": {}
  },
  {
   "cell_type": "markdown",
   "source": [
    "## 4. Write a Python program to print all happy numbers between 1 and 100?"
   ],
   "metadata": {}
  },
  {
   "cell_type": "code",
   "execution_count": 24,
   "source": [
    "def isHappyNumber(num):  \r\n",
    "    rem = sum = 0 \r\n",
    "    while(num > 0):  \r\n",
    "        rem = num%10\r\n",
    "        sum = sum + (rem*rem)\r\n",
    "        num = num//10\r\n",
    "    return sum  \r\n",
    "          \r\n",
    "\r\n",
    "print(\"List of happy numbers between 1 and 100: \")\r\n",
    "happy_num = [] \r\n",
    "for num in range(1, 101):   \r\n",
    "    result = num\r\n",
    "    while(result != 1 and result != 4):  \r\n",
    "        result = isHappyNumber(result)\r\n",
    "      \r\n",
    "    if(result == 1):  \r\n",
    "         happy_num.append(num)\r\n",
    "print(happy_num)"
   ],
   "outputs": [
    {
     "output_type": "stream",
     "name": "stdout",
     "text": [
      "List of happy numbers between 1 and 100: \n",
      "[1, 7, 10, 13, 19, 23, 28, 31, 32, 44, 49, 68, 70, 79, 82, 86, 91, 94, 97, 100]\n"
     ]
    }
   ],
   "metadata": {}
  },
  {
   "cell_type": "markdown",
   "source": [
    "## 5. Write a Python program to determine whether the given number is a Harshad Number?"
   ],
   "metadata": {}
  },
  {
   "cell_type": "code",
   "execution_count": 32,
   "source": [
    "def isHarshadNumber(num):  \r\n",
    "    val = num\r\n",
    "    sum = 0\r\n",
    "    while(num > 0):  \r\n",
    "        rem = num%10\r\n",
    "        sum = sum + rem\r\n",
    "        num = num//10\r\n",
    "    if val%sum == 0:\r\n",
    "        return 1\r\n",
    "    else:\r\n",
    "        return 0\r\n",
    "num = int(input(\"Enter a number to check if its a Harshad Number or not\"))\r\n",
    "if isHarshadNumber(num) == 1:\r\n",
    "    print(f'{num} is a Harshad Number') \r\n",
    "else:\r\n",
    "    print(f'{num} is not a Harshad Number')"
   ],
   "outputs": [
    {
     "output_type": "stream",
     "name": "stdout",
     "text": [
      "156 is a Harshad Number\n"
     ]
    }
   ],
   "metadata": {}
  },
  {
   "cell_type": "markdown",
   "source": [
    "## 6. Write a Python program to print all pronic numbers between 1 and 100?"
   ],
   "metadata": {}
  },
  {
   "cell_type": "code",
   "execution_count": 35,
   "source": [
    "def isPronicNumber(num):    \r\n",
    "    flag = False;    \r\n",
    "        \r\n",
    "    for i in range(1, num+1):      \r\n",
    "        if((i*(i+1)) == num):    \r\n",
    "            flag = True;    \r\n",
    "            break;    \r\n",
    "    return flag;       \r\n",
    "print(\"Pronic numbers between 1 and 100: \");    \r\n",
    "for i in range(1, 101):    \r\n",
    "    if(isPronicNumber(i)):    \r\n",
    "        print(i, end=\", \")"
   ],
   "outputs": [
    {
     "output_type": "stream",
     "name": "stdout",
     "text": [
      "Pronic numbers between 1 and 100: \n",
      "2, 6, 12, 20, 30, 42, 56, 72, 90, "
     ]
    }
   ],
   "metadata": {}
  }
 ],
 "metadata": {
  "orig_nbformat": 4,
  "language_info": {
   "name": "python",
   "version": "3.8.8",
   "mimetype": "text/x-python",
   "codemirror_mode": {
    "name": "ipython",
    "version": 3
   },
   "pygments_lexer": "ipython3",
   "nbconvert_exporter": "python",
   "file_extension": ".py"
  },
  "kernelspec": {
   "name": "python3",
   "display_name": "Python 3.8.8 64-bit ('base': conda)"
  },
  "interpreter": {
   "hash": "485035c5b2a6f2b50dc2dc5ca51aeeb931032fbc9adc2e30c7c528d6bf8a9176"
  }
 },
 "nbformat": 4,
 "nbformat_minor": 2
}