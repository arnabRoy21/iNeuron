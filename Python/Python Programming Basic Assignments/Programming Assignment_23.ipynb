{
 "cells": [
  {
   "cell_type": "markdown",
   "metadata": {},
   "source": [
    "# Ineuron Programming Assignment_23"
   ]
  },
  {
   "cell_type": "markdown",
   "metadata": {},
   "source": [
    "### 1. Create a function that takes a number as an argument and returns True or False depending on whether the number is symmetrical or not. A number is symmetrical when it is the same as its reverse.\n",
    "**Examples:**<br>\n",
    "is_symmetrical(7227) ➞ True<br>\n",
    "is_symmetrical(12567) ➞ False<br>\n",
    "is_symmetrical(44444444) ➞ True<br>\n",
    "is_symmetrical(9939) ➞ False<br>\n",
    "is_symmetrical(1112111) ➞ True<br>\n",
    "\n"
   ]
  },
  {
   "cell_type": "markdown",
   "metadata": {},
   "source": [
    "### 2. Given a string of numbers separated by a comma and space, return the product of the numbers.\n",
    "**Examples:**<br>\n",
    "multiply_nums(\"2, 3\") ➞ 6<br>\n",
    "multiply_nums(\"1, 2, 3, 4\") ➞ 24<br>\n",
    "multiply_nums(\"54, 75, 453, 0\") ➞ 0<br>\n",
    "multiply_nums(\"10, -2\") ➞ -20<br>\n",
    "\n"
   ]
  },
  {
   "cell_type": "markdown",
   "metadata": {},
   "source": [
    "### 3.Create a function that squares every digit of a number.\n",
    "**Examples:**<br>\n",
    "square_digits(9119) ➞ 811181<br>\n",
    "square_digits(2483) ➞ 416649<br>\n",
    "square_digits(3212) ➞ 9414<br><br>\n",
    "**Notes:**<br>\n",
    "The function receives an integer and must return an integer.<br>\n",
    "\n"
   ]
  },
  {
   "cell_type": "markdown",
   "metadata": {},
   "source": [
    "### 4. Create a function that sorts a list and removes all duplicate items from it.\n",
    "**Examples:**<br>\n",
    "setify([1, 3, 3, 5, 5]) ➞ [1, 3, 5]<br>\n",
    "setify([4, 4, 4, 4]) ➞ [4]<br>\n",
    "setify([5, 7, 8, 9, 10, 15]) ➞ [5, 7, 8, 9, 10, 15]<br>\n",
    "setify([3, 3, 3, 2, 1]) ➞ [1, 2, 3]<br>\n",
    "\n"
   ]
  },
  {
   "cell_type": "markdown",
   "metadata": {},
   "source": [
    "### 5. Create a function that returns the mean of all digits.\n",
    "**Examples:**<br>\n",
    "mean(42) ➞ 3<br>\n",
    "mean(12345) ➞ 3<br>\n",
    "mean(666) ➞ 6<br><br>\n",
    "**Notes:**\n",
    "- The mean of all digits is the sum of digits / how many digits there are (e.g. mean of digits in 512 is (5+1+2)/ (number of digits) = 8/3=2).\n",
    "- The mean will always be an integer."
   ]
  }
 ],
 "metadata": {
  "interpreter": {
   "hash": "ed98f0601b831bcc7b83204b240d5de8690f3d4c7ae43c4dad5e24aa4ea3791d"
  },
  "kernelspec": {
   "display_name": "Python 3.9.7 ('base')",
   "language": "python",
   "name": "python3"
  },
  "language_info": {
   "codemirror_mode": {
    "name": "ipython",
    "version": 3
   },
   "file_extension": ".py",
   "mimetype": "text/x-python",
   "name": "python",
   "nbconvert_exporter": "python",
   "pygments_lexer": "ipython3",
   "version": "3.9.7"
  },
  "orig_nbformat": 4
 },
 "nbformat": 4,
 "nbformat_minor": 2
}
