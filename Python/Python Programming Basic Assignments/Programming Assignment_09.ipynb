{
 "cells": [
  {
   "cell_type": "markdown",
   "metadata": {},
   "source": [
    "# Programming Assignment_09"
   ]
  },
  {
   "cell_type": "markdown",
   "metadata": {},
   "source": [
    "### 1. Write a Python program to check if the given number is a Disarium Number?"
   ]
  },
  {
   "cell_type": "code",
   "execution_count": 5,
   "metadata": {},
   "outputs": [
    {
     "name": "stdout",
     "output_type": "stream",
     "text": [
      "175\n",
      "175 is a Disarium Number\n"
     ]
    }
   ],
   "source": [
    "import math\n",
    " \n",
    "def check(num):\n",
    " \n",
    "    len_num = len(str(num))\n",
    "    sum = 0\n",
    "    x = num\n",
    "    while (x != 0):\n",
    "        r = x % 10\n",
    "        sum = sum + r**len_num\n",
    "        len_num = len_num - 1\n",
    "        x = int(x/10)\n",
    "    print(sum)\n",
    "\n",
    "    if sum == num:\n",
    "        return 1\n",
    "    else:\n",
    "        return 0\n",
    "\n",
    "val = int(input(\"Enter a number to check if its a Disarium Number or not\"))\n",
    "if check(val) == 1:\n",
    "    print(f\"{val} is a Disarium Number\")\n",
    "else:\n",
    "    print(f\"{val} is not a Disarium Number\")"
   ]
  },
  {
   "cell_type": "markdown",
   "metadata": {},
   "source": [
    "### 2. Write a Python program to print all disarium numbers between 1 to 100?"
   ]
  },
  {
   "cell_type": "code",
   "execution_count": 7,
   "metadata": {},
   "outputs": [
    {
     "name": "stdout",
     "output_type": "stream",
     "text": [
      "The Disarium no.s between 1 and 100 are: \n",
      "[1, 2, 3, 4, 5, 6, 7, 8, 9, 89]\n"
     ]
    }
   ],
   "source": [
    "import math\n",
    " \n",
    "def check(num):\n",
    " \n",
    "    len_num = len(str(num))\n",
    "    sum = 0\n",
    "    x = num\n",
    "    while (x != 0):\n",
    "        r = x % 10\n",
    "        sum = sum + r**len_num\n",
    "        len_num = len_num - 1\n",
    "        x = int(x/10)\n",
    "\n",
    "    if sum == num:\n",
    "        return 1\n",
    "    else:\n",
    "        return 0\n",
    "print(\"The Disarium no.s between 1 and 100 are: \")\n",
    "disarium_list = []\n",
    "for number in range(1,100):\n",
    "    if check(number) == 1:\n",
    "        disarium_list.append(number)\n",
    "print(disarium_list)"
   ]
  },
  {
   "cell_type": "markdown",
   "metadata": {},
   "source": [
    "### 3. Write a Python program to check if the given number is Happy Number?"
   ]
  },
  {
   "cell_type": "code",
   "execution_count": 26,
   "metadata": {},
   "outputs": [
    {
     "name": "stdout",
     "output_type": "stream",
     "text": [
      "44 is a Happy Number\n"
     ]
    }
   ],
   "source": [
    "def isHappyNumber(num):  \n",
    "    rem = sum = 0 \n",
    "    while(num > 0):  \n",
    "        rem = num%10\n",
    "        sum = sum + (rem*rem)\n",
    "        num = num//10\n",
    "    return sum  \n",
    "\n",
    "num = int(input(\"Enter a no. to check if its a happy number or not\"))\n",
    "result = num\n",
    "while(result != 1 and result != 4):  \n",
    "    result = isHappyNumber(result) \n",
    "if(result == 1):\n",
    "    print(f'{num} is a Happy Number')\n",
    "else:\n",
    "    print(f'{num} is not a Happy Number')"
   ]
  },
  {
   "cell_type": "markdown",
   "metadata": {},
   "source": [
    "### 4. Write a Python program to print all happy numbers between 1 and 100?"
   ]
  },
  {
   "cell_type": "code",
   "execution_count": 24,
   "metadata": {},
   "outputs": [
    {
     "name": "stdout",
     "output_type": "stream",
     "text": [
      "List of happy numbers between 1 and 100: \n",
      "[1, 7, 10, 13, 19, 23, 28, 31, 32, 44, 49, 68, 70, 79, 82, 86, 91, 94, 97, 100]\n"
     ]
    }
   ],
   "source": [
    "def isHappyNumber(num):  \n",
    "    rem = sum = 0 \n",
    "    while(num > 0):  \n",
    "        rem = num%10\n",
    "        sum = sum + (rem*rem)\n",
    "        num = num//10\n",
    "    return sum  \n",
    "          \n",
    "\n",
    "print(\"List of happy numbers between 1 and 100: \")\n",
    "happy_num = [] \n",
    "for num in range(1, 101):   \n",
    "    result = num\n",
    "    while(result != 1 and result != 4):  \n",
    "        result = isHappyNumber(result)\n",
    "      \n",
    "    if(result == 1):  \n",
    "         happy_num.append(num)\n",
    "print(happy_num)"
   ]
  },
  {
   "cell_type": "markdown",
   "metadata": {},
   "source": [
    "### 5. Write a Python program to determine whether the given number is a Harshad Number?"
   ]
  },
  {
   "cell_type": "code",
   "execution_count": 32,
   "metadata": {},
   "outputs": [
    {
     "name": "stdout",
     "output_type": "stream",
     "text": [
      "156 is a Harshad Number\n"
     ]
    }
   ],
   "source": [
    "def isHarshadNumber(num):  \n",
    "    val = num\n",
    "    sum = 0\n",
    "    while(num > 0):  \n",
    "        rem = num%10\n",
    "        sum = sum + rem\n",
    "        num = num//10\n",
    "    if val%sum == 0:\n",
    "        return 1\n",
    "    else:\n",
    "        return 0\n",
    "num = int(input(\"Enter a number to check if its a Harshad Number or not\"))\n",
    "if isHarshadNumber(num) == 1:\n",
    "    print(f'{num} is a Harshad Number') \n",
    "else:\n",
    "    print(f'{num} is not a Harshad Number')"
   ]
  },
  {
   "cell_type": "markdown",
   "metadata": {},
   "source": [
    "### 6. Write a Python program to print all pronic numbers between 1 and 100?"
   ]
  },
  {
   "cell_type": "code",
   "execution_count": 35,
   "metadata": {},
   "outputs": [
    {
     "name": "stdout",
     "output_type": "stream",
     "text": [
      "Pronic numbers between 1 and 100: \n",
      "2, 6, 12, 20, 30, 42, 56, 72, 90, "
     ]
    }
   ],
   "source": [
    "def isPronicNumber(num):    \n",
    "    flag = False;    \n",
    "        \n",
    "    for i in range(1, num+1):      \n",
    "        if((i*(i+1)) == num):    \n",
    "            flag = True;    \n",
    "            break;    \n",
    "    return flag;       \n",
    "print(\"Pronic numbers between 1 and 100: \");    \n",
    "for i in range(1, 101):    \n",
    "    if(isPronicNumber(i)):    \n",
    "        print(i, end=\", \")"
   ]
  }
 ],
 "metadata": {
  "interpreter": {
   "hash": "485035c5b2a6f2b50dc2dc5ca51aeeb931032fbc9adc2e30c7c528d6bf8a9176"
  },
  "kernelspec": {
   "display_name": "Python 3.8.8 64-bit ('base': conda)",
   "name": "python3"
  },
  "language_info": {
   "codemirror_mode": {
    "name": "ipython",
    "version": 3
   },
   "file_extension": ".py",
   "mimetype": "text/x-python",
   "name": "python",
   "nbconvert_exporter": "python",
   "pygments_lexer": "ipython3",
   "version": "3.8.8"
  },
  "orig_nbformat": 4
 },
 "nbformat": 4,
 "nbformat_minor": 2
}
