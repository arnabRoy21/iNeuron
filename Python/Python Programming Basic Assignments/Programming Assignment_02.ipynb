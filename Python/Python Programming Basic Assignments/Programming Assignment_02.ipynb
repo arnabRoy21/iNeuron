{
 "cells": [
  {
   "cell_type": "markdown",
   "metadata": {},
   "source": [
    "# Ineuron Programming Assignment_02"
   ]
  },
  {
   "cell_type": "markdown",
   "metadata": {},
   "source": [
    "### 1. Write a Python program to convert kilometers to miles?\n"
   ]
  },
  {
   "cell_type": "code",
   "execution_count": 1,
   "metadata": {},
   "outputs": [
    {
     "name": "stdout",
     "output_type": "stream",
     "text": [
      "125KM in miles is: 77.671375miles\n"
     ]
    }
   ],
   "source": [
    "def km_to_miles(val_in_km):\n",
    "    print(f'{val_in_km}KM in miles is: {0.621371*val_in_km}miles')\n",
    "\n",
    "km_to_miles(125)"
   ]
  },
  {
   "cell_type": "markdown",
   "metadata": {},
   "source": [
    "### 2. Write a Python program to convert Celsius to Fahrenheit?\n",
    "\n",
    "$\n",
    "F = \\frac{9}{5}C\\degree +32\n",
    "$"
   ]
  },
  {
   "cell_type": "code",
   "execution_count": 3,
   "metadata": {},
   "outputs": [
    {
     "name": "stdout",
     "output_type": "stream",
     "text": [
      "32C° in fahreneit is: 89.6F°\n"
     ]
    }
   ],
   "source": [
    "def celcius_to_fah(c):\n",
    "    print(f'{c}C° in fahreneit is: {9/5*c +32}F°')\n",
    "\n",
    "celcius_to_fah(32)"
   ]
  },
  {
   "cell_type": "markdown",
   "metadata": {},
   "source": [
    "### 3. Write a Python program to display calendar?\n"
   ]
  },
  {
   "cell_type": "code",
   "execution_count": 13,
   "metadata": {},
   "outputs": [
    {
     "name": "stdout",
     "output_type": "stream",
     "text": [
      "      May 2022\n",
      "Mo Tu We Th Fr Sa Su\n",
      "                   1\n",
      " 2  3  4  5  6  7  8\n",
      " 9 10 11 12 13 14 15\n",
      "16 17 18 19 20 21 22\n",
      "23 24 25 26 27 28 29\n",
      "30 31\n",
      "\n"
     ]
    },
    {
     "data": {
      "text/plain": [
       "NoneType"
      ]
     },
     "execution_count": 13,
     "metadata": {},
     "output_type": "execute_result"
    }
   ],
   "source": [
    "import calendar\n",
    "def calendar_display(year, month):\n",
    "    print(calendar.month(year, month))\n",
    "\n",
    "calendar_display(2022, 5)"
   ]
  },
  {
   "cell_type": "markdown",
   "metadata": {},
   "source": [
    "### 4. Write a Python program to solve quadratic equation?\n",
    "\n",
    "\n",
    "$\n",
    "The\\ quadratic\\ formula\\ is: x = \\frac{-b\\pm\\sqrt{b^2-4ac}}{2a}\n",
    "$"
   ]
  },
  {
   "cell_type": "code",
   "execution_count": 11,
   "metadata": {},
   "outputs": [
    {
     "name": "stdout",
     "output_type": "stream",
     "text": [
      "The solution are (-0.25-1.3919410907075054j) and (-0.25+1.3919410907075054j)\n"
     ]
    }
   ],
   "source": [
    "import cmath\n",
    "\n",
    "def quadratic_solver(a, b, c):\n",
    "    d = (b**2) - (4*a*c)\n",
    "    sol1 = (-b-cmath.sqrt(d))/(2*a)\n",
    "    sol2 = (-b+cmath.sqrt(d))/(2*a)\n",
    "    print(f'The solution are {sol1} and {sol2}')\n",
    "\n",
    "quadratic_solver(2,1,4)"
   ]
  },
  {
   "cell_type": "markdown",
   "metadata": {},
   "source": [
    "### 5. Write a Python program to swap two variables without temp variable?"
   ]
  },
  {
   "cell_type": "code",
   "execution_count": 2,
   "metadata": {},
   "outputs": [
    {
     "name": "stdout",
     "output_type": "stream",
     "text": [
      "Value of (a, b) after swapping: (3,2)\n"
     ]
    }
   ],
   "source": [
    "def swap(a, b):\n",
    "    a, b = b, a\n",
    "    print(f'Value of (a, b) after swapping: ({a},{b})')\n",
    "\n",
    "swap(2,3)"
   ]
  }
 ],
 "metadata": {
  "interpreter": {
   "hash": "ed98f0601b831bcc7b83204b240d5de8690f3d4c7ae43c4dad5e24aa4ea3791d"
  },
  "kernelspec": {
   "display_name": "Python 3.9.7 ('base')",
   "language": "python",
   "name": "python3"
  },
  "language_info": {
   "codemirror_mode": {
    "name": "ipython",
    "version": 3
   },
   "file_extension": ".py",
   "mimetype": "text/x-python",
   "name": "python",
   "nbconvert_exporter": "python",
   "pygments_lexer": "ipython3",
   "version": "3.9.7"
  },
  "orig_nbformat": 4
 },
 "nbformat": 4,
 "nbformat_minor": 2
}
