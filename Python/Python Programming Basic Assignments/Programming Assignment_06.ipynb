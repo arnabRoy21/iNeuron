{
 "cells": [
  {
   "cell_type": "markdown",
   "metadata": {},
   "source": [
    "# Programming Assignment_06"
   ]
  },
  {
   "cell_type": "markdown",
   "metadata": {},
   "source": [
    "### 1. Write a Python Program to Display Fibonacci Sequence Using Recursion?\n"
   ]
  },
  {
   "cell_type": "code",
   "execution_count": 13,
   "metadata": {},
   "outputs": [
    {
     "name": "stdout",
     "output_type": "stream",
     "text": [
      "0 1 1 2 3 5 8 13 21 34 "
     ]
    }
   ],
   "source": [
    "def fibo(num):\n",
    "    if num <= 1:\n",
    "        return num\n",
    "    else:\n",
    "        return fibo(num-1)+fibo(num-2)\n",
    "    \n",
    "term = 10\n",
    "for i in range(0, term):\n",
    "    print(fibo(i), end=' ')\n"
   ]
  },
  {
   "cell_type": "markdown",
   "metadata": {},
   "source": [
    "### 2. Write a Python Program to Find Factorial of Number Using Recursion?\n"
   ]
  },
  {
   "cell_type": "code",
   "execution_count": 6,
   "metadata": {},
   "outputs": [
    {
     "data": {
      "text/plain": [
       "120"
      ]
     },
     "execution_count": 6,
     "metadata": {},
     "output_type": "execute_result"
    }
   ],
   "source": [
    "def factorial(num):\n",
    "    assert num>=0\n",
    "    if num == 1 or num == 0:\n",
    "        return 1\n",
    "    return num * factorial(num-1)\n",
    "\n",
    "factorial(5)"
   ]
  },
  {
   "cell_type": "markdown",
   "metadata": {},
   "source": [
    "### 3. Write a Python Program to calculate your Body Mass Index?\n"
   ]
  },
  {
   "cell_type": "code",
   "execution_count": 7,
   "metadata": {},
   "outputs": [
    {
     "name": "stdout",
     "output_type": "stream",
     "text": [
      "Your Body Mass Index is 23.634033007530842\n",
      "You are healthy.\n"
     ]
    }
   ],
   "source": [
    "def bmi_cal():\n",
    "    height = float(input(\"Enter the height in cm: \"))  \n",
    "    weight = float(input(\"Enter the weight in kg: \"))  \n",
    "\n",
    "    BMI = weight / (height/100)**2  \n",
    "\n",
    "    print(\"Your Body Mass Index is\", BMI)  \n",
    "    \n",
    "    if BMI <= 18.5:  \n",
    "        print(\"You are underweight.\")  \n",
    "    elif BMI <= 24.9:  \n",
    "        print(\"You are healthy.\")  \n",
    "    elif BMI <= 29.9:  \n",
    "        the_print(\"You are over weight.\")  \n",
    "    else:  \n",
    "        print(\"You are obese.\")  \n",
    "\n",
    "bmi_cal()"
   ]
  },
  {
   "cell_type": "markdown",
   "metadata": {},
   "source": [
    "### 4. Write a Python Program to calculate the natural logarithm of any number?\n"
   ]
  },
  {
   "cell_type": "code",
   "execution_count": 9,
   "metadata": {},
   "outputs": [
    {
     "name": "stdout",
     "output_type": "stream",
     "text": [
      "Natural logarithm of 15 is : 2.70805020110221\n",
      "Natural logarithm of 15 is : 1.6826061944859854\n"
     ]
    }
   ],
   "source": [
    "import math\n",
    " \n",
    "print (f'Natural logarithm of 15 is : {math.log(15)}') \n",
    "print (f'Natural logarithm of 15 is : {math.log(15,5)}')\n"
   ]
  },
  {
   "cell_type": "markdown",
   "metadata": {},
   "source": [
    "### 5. Write a Python Program for cube sum of first n natural numbers?"
   ]
  },
  {
   "cell_type": "code",
   "execution_count": 8,
   "metadata": {},
   "outputs": [
    {
     "name": "stdout",
     "output_type": "stream",
     "text": [
      "Result: 36\n"
     ]
    }
   ],
   "source": [
    "def sum_cube_digits(term):\n",
    "    sum_ = 0\n",
    "    for num in range(1, term+1):\n",
    "        sum_ += num**3\n",
    "    print(f'Result: {sum_}')\n",
    "\n",
    "sum_cube_digits(3)"
   ]
  }
 ],
 "metadata": {
  "interpreter": {
   "hash": "ed98f0601b831bcc7b83204b240d5de8690f3d4c7ae43c4dad5e24aa4ea3791d"
  },
  "kernelspec": {
   "display_name": "Python 3.9.7 ('base')",
   "language": "python",
   "name": "python3"
  },
  "language_info": {
   "codemirror_mode": {
    "name": "ipython",
    "version": 3
   },
   "file_extension": ".py",
   "mimetype": "text/x-python",
   "name": "python",
   "nbconvert_exporter": "python",
   "pygments_lexer": "ipython3",
   "version": "3.9.7"
  },
  "orig_nbformat": 4
 },
 "nbformat": 4,
 "nbformat_minor": 2
}
