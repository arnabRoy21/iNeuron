{
 "cells": [
  {
   "cell_type": "markdown",
   "metadata": {},
   "source": [
    "# Ineuron Programming Assignment_11"
   ]
  },
  {
   "cell_type": "markdown",
   "metadata": {},
   "source": [
    "### 1. Write a Python program to find words which are greater than given length k?"
   ]
  },
  {
   "cell_type": "code",
   "execution_count": 9,
   "metadata": {},
   "outputs": [
    {
     "name": "stdout",
     "output_type": "stream",
     "text": [
      "Entered Sentence:  This is a programming assignment of iNeuron\n",
      "k:  8\n",
      "O/P:  ['programming', 'assignment']\n"
     ]
    }
   ],
   "source": [
    "sent = input('Enter a sentence')\n",
    "sent_arr = sent.split(\" \")\n",
    "k = int(input('Enter a no. to find the words in the sentence whose length is greater than the no.'))\n",
    "valid_words = [valid_word for valid_word in sent_arr if len(valid_word) > k]\n",
    "print('Entered Sentence: ', sent)\n",
    "print('k: ',k)\n",
    "print('O/P: ', valid_words)"
   ]
  },
  {
   "cell_type": "markdown",
   "metadata": {},
   "source": [
    "### 2. Write a Python program for removing i-th character from a string?"
   ]
  },
  {
   "cell_type": "code",
   "execution_count": 13,
   "metadata": {},
   "outputs": [
    {
     "name": "stdout",
     "output_type": "stream",
     "text": [
      "Entered Sentence:  Spectacular\n",
      "k:  5\n",
      "O/P:  Spectcular\n"
     ]
    }
   ],
   "source": [
    "sent = input('Enter a sentence')\n",
    "k = int(input('Enter index to remove corresponding character from the sentence'))\n",
    "first_part = sent[:k]\n",
    "second_part = sent[k+1:]\n",
    "print('Entered Sentence: ', sent)\n",
    "print('k: ',k)\n",
    "print('O/P: ', first_part+second_part)"
   ]
  },
  {
   "cell_type": "markdown",
   "metadata": {},
   "source": [
    "### 3. Write a Python program to split and join a string?"
   ]
  },
  {
   "cell_type": "code",
   "execution_count": 15,
   "metadata": {},
   "outputs": [
    {
     "name": "stdout",
     "output_type": "stream",
     "text": [
      "['Hi.', 'This', 'is', 'an', 'example', 'string']\n",
      "Hi._This_is_an_example_string\n"
     ]
    }
   ],
   "source": [
    "input_string = 'Hi. This is an example string'\n",
    "#split\n",
    "string_arr = input_string.split(' ')\n",
    "print(string_arr)\n",
    "#join\n",
    "print('_'.join(string_arr))"
   ]
  },
  {
   "cell_type": "markdown",
   "metadata": {},
   "source": [
    "### 4. Write a Python to check if a given string is binary string or not?"
   ]
  },
  {
   "cell_type": "code",
   "execution_count": 18,
   "metadata": {},
   "outputs": [
    {
     "name": "stdout",
     "output_type": "stream",
     "text": [
      "Entered Sentence:  10110\n",
      "O/P:  Entered sentence is a binary string\n"
     ]
    }
   ],
   "source": [
    "sent = input('Enter a sentence')\n",
    "binary = ['0','1']\n",
    "flag = False\n",
    "for char in sent:\n",
    "    if char in binary:\n",
    "        flag = True\n",
    "    else:\n",
    "        flag = False\n",
    "if flag == True:\n",
    "    out = 'Entered sentence is a binary string'\n",
    "else:\n",
    "    out = 'Entered sentence is not a binary string'\n",
    "\n",
    "print('Entered Sentence: ', sent)\n",
    "print('O/P: ', out)"
   ]
  },
  {
   "cell_type": "markdown",
   "metadata": {},
   "source": [
    "### 5. Write a Python program to find uncommon words from two Strings?"
   ]
  },
  {
   "cell_type": "code",
   "execution_count": 28,
   "metadata": {},
   "outputs": [
    {
     "name": "stdout",
     "output_type": "stream",
     "text": [
      "Uncommon words between the sentences:  {'Hello', 'also', 'world!'}\n"
     ]
    }
   ],
   "source": [
    "first_sent = input('Enter first sentence')\n",
    "second_sent = input('Enter second sentence')\n",
    "uncommon_words_from_first_sent = [word for word in first_sent.split(' ') if word not in second_sent.split(' ')]\n",
    "uncommon_words_from_second_sent = [word for word in second_sent.split(' ') if word not in first_sent.split(' ')]\n",
    "uncommon_words = set(uncommon_words_from_first_sent + uncommon_words_from_second_sent)\n",
    "print('Uncommon words between the sentences: ', uncommon_words)"
   ]
  },
  {
   "cell_type": "markdown",
   "metadata": {},
   "source": [
    "### 6. Write a Python to find all duplicate characters in string?"
   ]
  },
  {
   "cell_type": "code",
   "execution_count": 37,
   "metadata": {},
   "outputs": [
    {
     "name": "stdout",
     "output_type": "stream",
     "text": [
      "Entered Sentence:  happyee\n",
      "Duplicate characters are:  {'e', 'p'}\n"
     ]
    }
   ],
   "source": [
    "sent = input('Enter a sentence')\n",
    "duplicate_list = []\n",
    "unseen_list = []\n",
    "for char in sent:\n",
    "    if char not in unseen_list:\n",
    "        unseen_list.append(char)\n",
    "    else:\n",
    "        duplicate_list.append(char)\n",
    "print('Entered Sentence: ', sent)\n",
    "print('Duplicate characters are: ', set(duplicate_list))"
   ]
  },
  {
   "cell_type": "markdown",
   "metadata": {},
   "source": [
    "### 7. Write a Python Program to check if a string contains any special character?"
   ]
  },
  {
   "cell_type": "code",
   "execution_count": 34,
   "metadata": {},
   "outputs": [
    {
     "name": "stdout",
     "output_type": "stream",
     "text": [
      "Entered Sentence:  Th@s is @n ex@mp!e of spe_cial $trings*\n",
      "The special characters in the string are:  ['@', '!', '_', '$', '*']\n"
     ]
    }
   ],
   "source": [
    "sent = input('Enter a sentence')\n",
    "special_chars = '[@_!#$%^&*()<>?/\\|}{~:]'\n",
    "result = []\n",
    "for char in sent:\n",
    "    if char in special_chars and char not in result:\n",
    "        result.append(char)\n",
    "print('Entered Sentence: ', sent)\n",
    "print('The special characters in the string are: ', result)"
   ]
  }
 ],
 "metadata": {
  "interpreter": {
   "hash": "ed98f0601b831bcc7b83204b240d5de8690f3d4c7ae43c4dad5e24aa4ea3791d"
  },
  "kernelspec": {
   "display_name": "Python 3.9.7 ('base')",
   "language": "python",
   "name": "python3"
  },
  "language_info": {
   "codemirror_mode": {
    "name": "ipython",
    "version": 3
   },
   "file_extension": ".py",
   "mimetype": "text/x-python",
   "name": "python",
   "nbconvert_exporter": "python",
   "pygments_lexer": "ipython3",
   "version": "3.9.7"
  },
  "orig_nbformat": 4
 },
 "nbformat": 4,
 "nbformat_minor": 2
}
