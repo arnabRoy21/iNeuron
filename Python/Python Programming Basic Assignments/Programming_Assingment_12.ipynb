{
 "cells": [
  {
   "cell_type": "markdown",
   "metadata": {},
   "source": [
    "# Ineuron Programming Assignment_12"
   ]
  },
  {
   "cell_type": "markdown",
   "metadata": {},
   "source": [
    "### 1. Write a Python program to Extract Unique values dictionary values?\n",
    "\n"
   ]
  },
  {
   "cell_type": "code",
   "execution_count": 1,
   "metadata": {},
   "outputs": [
    {
     "name": "stdout",
     "output_type": "stream",
     "text": [
      "The unique values in the dictionary is:  {'Sachin', 'Dravid', 'Sourav'}\n"
     ]
    }
   ],
   "source": [
    "my_dict = {1: 'Sourav', 2: 'Sachin', 3: 'Dravid', 4: 'Sourav', 5: 'Sachin'}\n",
    "print('The unique values in the dictionary is: ', set(my_dict.values()))"
   ]
  },
  {
   "cell_type": "markdown",
   "metadata": {},
   "source": [
    "### 2. Write a Python program to find the sum of all items in a dictionary?\n"
   ]
  },
  {
   "cell_type": "code",
   "execution_count": 2,
   "metadata": {},
   "outputs": [
    {
     "name": "stdout",
     "output_type": "stream",
     "text": [
      "Sum of the items in the dictionary is:  52\n"
     ]
    }
   ],
   "source": [
    "my_dict = {1:10, 2: 20, 3: 22}\n",
    "print('Sum of the items in the dictionary is: ', sum(my_dict.values()))"
   ]
  },
  {
   "cell_type": "markdown",
   "metadata": {},
   "source": [
    "### 3. Write a Python program to Merging two Dictionaries?\n"
   ]
  },
  {
   "cell_type": "code",
   "execution_count": 12,
   "metadata": {},
   "outputs": [
    {
     "name": "stdout",
     "output_type": "stream",
     "text": [
      "{'first_name': 'Arnab', 'last_name': 'Roy', 'city': 'Kolkata', 'email': 'arnab93roy@gmail.com'}\n"
     ]
    }
   ],
   "source": [
    "dict_1 = {\n",
    "    'first_name': 'Arnab',\n",
    "    'last_name': 'Roy'\n",
    "}\n",
    "dict_2 = {\n",
    "    'city': 'Kolkata',\n",
    "    'email': 'arnab93roy@gmail.com'\n",
    "}\n",
    "dict_1.update(dict_2)\n",
    "print(dict_1)"
   ]
  },
  {
   "cell_type": "markdown",
   "metadata": {},
   "source": [
    "### 4. Write a Python program to convert key-values list to flat dictionary?\n"
   ]
  },
  {
   "cell_type": "code",
   "execution_count": 15,
   "metadata": {},
   "outputs": [
    {
     "data": {
      "text/plain": [
       "{'a': 10, 'b': 20, 'c': 30}"
      ]
     },
     "execution_count": 15,
     "metadata": {},
     "output_type": "execute_result"
    }
   ],
   "source": [
    "my_list = [('a',10),('b',20),('c',30)]\n",
    "my_dict = {}\n",
    "for key, value in my_list:\n",
    "    my_dict[key] = value\n",
    "my_dict\n",
    "    "
   ]
  },
  {
   "cell_type": "markdown",
   "metadata": {},
   "source": [
    "### 5. Write a Python program to insertion at the beginning in OrderedDict?\n"
   ]
  },
  {
   "cell_type": "code",
   "execution_count": 20,
   "metadata": {},
   "outputs": [
    {
     "name": "stdout",
     "output_type": "stream",
     "text": [
      "dict_1 OrderedDict([('India', 'Virat'), ('Australia', 'Mitchell'), ('New Zealand', 'Kane')])\n",
      "dict_1 OrderedDict([('India', 'Virat'), ('Australia', 'Mitchell'), ('New Zealand', 'Kane'), ('South Africa', 'Faf du Plessis')])\n",
      "dict_1 OrderedDict([('South Africa', 'Faf du Plessis'), ('India', 'Virat'), ('Australia', 'Mitchell'), ('New Zealand', 'Kane')])\n"
     ]
    }
   ],
   "source": [
    "from collections import OrderedDict\n",
    "dict_1 = OrderedDict({'India':'Virat','Australia':'Mitchell','New Zealand':'Kane'})\n",
    "print('dict_1',dict_1)\n",
    "dict_2 = {'South Africa':'Faf du Plessis'}\n",
    "dict_1.update(dict_2)\n",
    "print('dict_1',dict_1)\n",
    "dict_1.move_to_end('South Africa',last=False)\n",
    "print('dict_1',dict_1)"
   ]
  },
  {
   "cell_type": "markdown",
   "metadata": {},
   "source": [
    "### 6. Write a Python program to check order of character in string using OrderedDict()?\n"
   ]
  },
  {
   "cell_type": "code",
   "execution_count": 28,
   "metadata": {},
   "outputs": [
    {
     "name": "stdout",
     "output_type": "stream",
     "text": [
      "{'d': 5, 'b': 3, 'a': 6, 'c': 1}\n",
      "OrderedDict([('a', 6), ('b', 3), ('c', 1), ('d', 5)])\n"
     ]
    }
   ],
   "source": [
    "from collections import OrderedDict\n",
    "\n",
    "initial_list = {'d': 5, 'b': 3, 'a': 6, 'c': 1}\n",
    "print(initial_list)\n",
    "\n",
    "final_list = OrderedDict(dict(sorted(initial_list.items())))\n",
    "print(final_list)"
   ]
  },
  {
   "cell_type": "markdown",
   "metadata": {},
   "source": [
    "### 7. Write a Python program to sort Python Dictionaries by Key or Value?"
   ]
  },
  {
   "cell_type": "code",
   "execution_count": 30,
   "metadata": {},
   "outputs": [
    {
     "name": "stdout",
     "output_type": "stream",
     "text": [
      "{'a': 40, 'b': 30, 'c': 20, 'd': 10}\n",
      "{'d': 10, 'c': 20, 'b': 30, 'a': 40}\n"
     ]
    }
   ],
   "source": [
    "dict_items = {'b':30,'a':40,'d':10,'c':20}\n",
    "\n",
    "def sort_dict(dict_items,sort_type):\n",
    "    if sort_type == 'key':\n",
    "        print(dict(sorted(dict_items.items(), key=lambda x:x[0], reverse=False)))\n",
    "    else:\n",
    "        print(dict(sorted(dict_items.items(), key=lambda x:x[1], reverse=False)))\n",
    "        \n",
    "sort_dict(dict_items,'key')        \n",
    "sort_dict(dict_items,'value')"
   ]
  }
 ],
 "metadata": {
  "interpreter": {
   "hash": "ed98f0601b831bcc7b83204b240d5de8690f3d4c7ae43c4dad5e24aa4ea3791d"
  },
  "kernelspec": {
   "display_name": "Python 3.9.7 ('base')",
   "language": "python",
   "name": "python3"
  },
  "language_info": {
   "codemirror_mode": {
    "name": "ipython",
    "version": 3
   },
   "file_extension": ".py",
   "mimetype": "text/x-python",
   "name": "python",
   "nbconvert_exporter": "python",
   "pygments_lexer": "ipython3",
   "version": "3.9.7"
  },
  "orig_nbformat": 4
 },
 "nbformat": 4,
 "nbformat_minor": 2
}
