{
 "cells": [
  {
   "cell_type": "markdown",
   "metadata": {},
   "source": [
    "# Ineuron Programming Assignment_16"
   ]
  },
  {
   "cell_type": "markdown",
   "metadata": {},
   "source": [
    "### 1. Write a function that stutters a word as if someone is struggling to read it. The first two letters are repeated twice with an ellipsis ... and space after each, and then the word is pronounced with a question mark ?.\n",
    "**Examples:**\n",
    "\n",
    "\n",
    "`stutter(\"incredible\") ➞ \"in... in... incredible?\"`\n",
    "\n",
    "\n",
    "`stutter(\"enthusiastic\") ➞ \"en... en... enthusiastic?\"`\n",
    "\n",
    "\n",
    "`stutter(\"outstanding\") ➞ \"ou... ou... outstanding?\"`\n",
    "\n",
    "\n",
    "\n",
    "Hint :- Assume all input is in lower case and at least two characters long."
   ]
  },
  {
   "cell_type": "code",
   "execution_count": 2,
   "metadata": {},
   "outputs": [
    {
     "name": "stdout",
     "output_type": "stream",
     "text": [
      "in... in... incredible?\n",
      "en... en... enthusiastic?\n",
      "ou... ou... outstanding?\n"
     ]
    }
   ],
   "source": [
    "def stutter(word):\n",
    "    return word[0:2] + '... ' + word[0:2] + '... ' + word + '?'\n",
    "\n",
    "print(stutter(\"incredible\"))\n",
    "print(stutter(\"enthusiastic\"))\n",
    "print(stutter(\"outstanding\"))"
   ]
  },
  {
   "cell_type": "markdown",
   "metadata": {},
   "source": [
    "### 2. Create a function that takes an angle in radians and returns the corresponding angle in degrees rounded to one decimal place.\n",
    "**Examples:**\n",
    "\n",
    "\n",
    "radians_to_degrees(1) ➞ 57.3\n",
    "\n",
    "\n",
    "radians_to_degrees(20) ➞ 1145.9\n",
    "\n",
    "\n",
    "radians_to_degrees(50) ➞ 2864.8"
   ]
  },
  {
   "cell_type": "code",
   "execution_count": 8,
   "metadata": {},
   "outputs": [
    {
     "name": "stdout",
     "output_type": "stream",
     "text": [
      "57.3\n",
      "1145.9\n",
      "2864.8\n"
     ]
    }
   ],
   "source": [
    "import math\n",
    "def radians_to_degrees(rad):\n",
    "    result = (180/math.pi)*rad\n",
    "    print(f'{result:.1f}')\n",
    "\n",
    "radians_to_degrees(1)\n",
    "radians_to_degrees(20)\n",
    "radians_to_degrees(50)"
   ]
  },
  {
   "cell_type": "markdown",
   "metadata": {},
   "source": [
    "### 3. In this challenge, establish if a given integer num is a Curzon number. If 1 plus 2 elevated to num is exactly divisible by 1 plus 2 multiplied by num, then num is a Curzon number. Given a non-negative integer num, implement a function that returns True if num is a Curzon number, or False otherwise.\n",
    "**Examples:**<br>\n",
    "\n",
    "is_curzon(5) ➞ True<br>\n",
    "\\# 2 ** 5 + 1 = 33<br>\n",
    "\\# 2 * 5 + 1 = 11<br>\n",
    "\\#33 is a multiple of 11<br><br>\n",
    "is_curzon(10) ➞ False<br>\n",
    "\\# 2 ** 10 + 1 = 1025<br>\n",
    "\\# 2 * 10 + 1 = 21<br>\n",
    "\\#1025 is not a multiple of 21<br><br>\n",
    "is_curzon(14) ➞ True<br>\n",
    "\\# 2 ** 14 + 1 = 16385<br>\n",
    "\\# 2 * 14 + 1 = 29<br>\n",
    "\\#16385 is a multiple of 29<br>\n"
   ]
  },
  {
   "cell_type": "code",
   "execution_count": 11,
   "metadata": {},
   "outputs": [
    {
     "name": "stdout",
     "output_type": "stream",
     "text": [
      "True\n",
      "False\n",
      "True\n"
     ]
    }
   ],
   "source": [
    "def curzon(num):\n",
    "    divisor = 2*num + 1\n",
    "    dividend = 2**num + 1\n",
    "    if dividend % divisor == 0:\n",
    "        return True\n",
    "    else:\n",
    "        return False\n",
    "\n",
    "print(curzon(5))\n",
    "print(curzon(10))\n",
    "print(curzon(14))"
   ]
  },
  {
   "cell_type": "markdown",
   "metadata": {},
   "source": [
    "### 4. Given the side length x find the area of a hexagon.\n",
    "\n",
    "**Note:** Area of hexagon is given by,<br>\n",
    "$$\n",
    "  \\frac{3\\sqrt{3}*{side^2}}{2}\n",
    "$$"
   ]
  },
  {
   "cell_type": "code",
   "execution_count": 15,
   "metadata": {},
   "outputs": [
    {
     "name": "stdout",
     "output_type": "stream",
     "text": [
      "2.6\n",
      "10.4\n",
      "23.4\n"
     ]
    }
   ],
   "source": [
    "def area_hexagon(side):\n",
    "    return (3*3**(.5)*side**(2))/2\n",
    "\n",
    "print(f'{area_hexagon(1):.1f}')\n",
    "print(f'{area_hexagon(2):.1f}')\n",
    "print(f'{area_hexagon(3):.1f}')"
   ]
  },
  {
   "cell_type": "markdown",
   "metadata": {},
   "source": [
    "### 5. Create a function that returns a base-2 (binary) representation of a base-10 (decimal) string number. \n",
    "\n",
    "**To convert is simple:** ((2) means base-2 and (10) means base-10) 010101001(2) = 1 + 8 + 32 + 128.<br>\n",
    "Going from right to left, the value of the most right bit is 1, now from that every bit to the left\n",
    "will be x2 the value, value of an 8 bit binary numbers are (256, 128, 64, 32, 16, 8, 4, 2, 1).<br><br>\n",
    "**Examples:**<br>\n",
    "binary(1) ➞ \"1\"<br>\n",
    "\\# 1\\*1 = 1<br>\n",
    "binary(5) ➞ \"101\"<br>\n",
    "\\# 1\\*1 + 1\\*4 = 5<br>\n",
    "binary(10) ➞ \"1010\"<br>\n",
    "\\# 1\\*2 + 1\\*8 = 10"
   ]
  },
  {
   "cell_type": "code",
   "execution_count": 22,
   "metadata": {},
   "outputs": [
    {
     "name": "stdout",
     "output_type": "stream",
     "text": [
      "1\n",
      "101\n",
      "1010\n"
     ]
    }
   ],
   "source": [
    "def binary(num):\n",
    "    sum = ''\n",
    "    while num != 0:\n",
    "        sum = str((num%2)) + sum\n",
    "        num = num//2\n",
    "    return sum\n",
    "\n",
    "print(binary(1))\n",
    "print(binary(5))\n",
    "print(binary(10))"
   ]
  }
 ],
 "metadata": {
  "interpreter": {
   "hash": "ed98f0601b831bcc7b83204b240d5de8690f3d4c7ae43c4dad5e24aa4ea3791d"
  },
  "kernelspec": {
   "display_name": "Python 3.9.7 ('base')",
   "language": "python",
   "name": "python3"
  },
  "language_info": {
   "codemirror_mode": {
    "name": "ipython",
    "version": 3
   },
   "file_extension": ".py",
   "mimetype": "text/x-python",
   "name": "python",
   "nbconvert_exporter": "python",
   "pygments_lexer": "ipython3",
   "version": "3.9.7"
  },
  "orig_nbformat": 4
 },
 "nbformat": 4,
 "nbformat_minor": 2
}
