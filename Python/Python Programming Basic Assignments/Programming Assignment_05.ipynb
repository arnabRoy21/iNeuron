{
 "cells": [
  {
   "cell_type": "markdown",
   "metadata": {},
   "source": [
    "# Programming Assignment_05"
   ]
  },
  {
   "cell_type": "markdown",
   "metadata": {},
   "source": [
    "### 1. Write a Python Program to Find LCM?\n"
   ]
  },
  {
   "cell_type": "code",
   "execution_count": 20,
   "metadata": {},
   "outputs": [
    {
     "name": "stdout",
     "output_type": "stream",
     "text": [
      "Lcm of 60 and 36 is: 180\n"
     ]
    }
   ],
   "source": [
    "def lcm(num1, num2):\n",
    "    if(num1 > num2 ): \n",
    "        max = num1\n",
    "    else:\n",
    "        max = num2\n",
    "    while(True):\n",
    "        if(max % num1 == 0 and max % num2 == 0):   \n",
    "            print(f'Lcm of {num1} and {num2} is: {max}')\n",
    "            break;\n",
    "        max = max+ 1\n",
    "\n",
    "lcm(60, 36)"
   ]
  },
  {
   "cell_type": "markdown",
   "metadata": {},
   "source": [
    "### 2. Write a Python Program to Find HCF?\n"
   ]
  },
  {
   "cell_type": "code",
   "execution_count": 19,
   "metadata": {},
   "outputs": [
    {
     "name": "stdout",
     "output_type": "stream",
     "text": [
      "Hcf of 60 and 36 is: 12\n"
     ]
    }
   ],
   "source": [
    "def hcf(num1, num2):\n",
    "    for i in range(1, min(num1, num2)):\n",
    "        if num1 % i == 0 and num2 % i == 0:\n",
    "            hcf = i\n",
    "\n",
    "    print(f'Hcf of {num1} and {num2} is: {hcf}')\n",
    "\n",
    "hcf(60, 36)"
   ]
  },
  {
   "cell_type": "markdown",
   "metadata": {},
   "source": [
    "### 3. Write a Python Program to Convert Decimal to Binary, Octal and Hexadecimal?\n"
   ]
  },
  {
   "cell_type": "code",
   "execution_count": 18,
   "metadata": {},
   "outputs": [
    {
     "name": "stdout",
     "output_type": "stream",
     "text": [
      "160 in base-2 system is: 10100000\n",
      "160 in base-8 system is: 240\n",
      "160 in base-16 system is: a0\n"
     ]
    }
   ],
   "source": [
    "def decimal_to_base_conv(num, base):\n",
    "    result = ''\n",
    "    n = num\n",
    "    mapping = {\n",
    "        10: 'a',\n",
    "        11: 'b',\n",
    "        12: 'c',\n",
    "        13: 'd',\n",
    "        14: 'e',\n",
    "        15: 'f',\n",
    "    }\n",
    "    while n!=0:\n",
    "        rem = n%base\n",
    "        if rem in mapping:\n",
    "            rem = mapping[rem]\n",
    "        else:\n",
    "            rem = str(rem)\n",
    "        result = rem + result\n",
    "        n = n//base\n",
    "    print(f'{num} in base-{base} system is: {result}')\n",
    "\n",
    "decimal_to_base_conv(160,2)\n",
    "decimal_to_base_conv(160,8)\n",
    "decimal_to_base_conv(160,16)\n",
    "\n"
   ]
  },
  {
   "cell_type": "markdown",
   "metadata": {},
   "source": [
    "### 4. Write a Python Program To Find ASCII value of a character?\n"
   ]
  },
  {
   "cell_type": "code",
   "execution_count": 2,
   "metadata": {},
   "outputs": [
    {
     "name": "stdout",
     "output_type": "stream",
     "text": [
      "97\n",
      "65\n",
      "49\n"
     ]
    }
   ],
   "source": [
    "def ascii_val(char):\n",
    "    print(ord(char))\n",
    "\n",
    "ascii_val('a')\n",
    "ascii_val('A')\n",
    "ascii_val('1')"
   ]
  },
  {
   "cell_type": "markdown",
   "metadata": {},
   "source": [
    "### 5. Write a Python Program to Make a Simple Calculator with 4 basic mathematical operations?"
   ]
  },
  {
   "cell_type": "code",
   "execution_count": 5,
   "metadata": {},
   "outputs": [
    {
     "name": "stdout",
     "output_type": "stream",
     "text": [
      "=====================\n",
      "Select operation.\n",
      "1.Add\n",
      "2.Subtract\n",
      "3.Multiply\n",
      "4.Divide\n",
      "=====================\n",
      "5.0 + 10.0 = 15.0\n",
      "=====================\n",
      "Select operation.\n",
      "1.Add\n",
      "2.Subtract\n",
      "3.Multiply\n",
      "4.Divide\n",
      "=====================\n"
     ]
    }
   ],
   "source": [
    "\n",
    "def add(x, y):\n",
    "    return x + y\n",
    "\n",
    "def subtract(x, y):\n",
    "    return x - y\n",
    "\n",
    "def multiply(x, y):\n",
    "    return x * y\n",
    "\n",
    "def divide(x, y):\n",
    "    return x / y\n",
    "\n",
    "def display_options():\n",
    "    print('=====================')\n",
    "    print(\"Select operation.\")\n",
    "    print(\"1.Add\")\n",
    "    print(\"2.Subtract\")\n",
    "    print(\"3.Multiply\")\n",
    "    print(\"4.Divide\")\n",
    "    print('=====================')\n",
    "\n",
    "while True:\n",
    "    display_options()\n",
    "    choice = input(\"Enter choice(1/2/3/4/5): \")\n",
    "\n",
    "    if choice == '5':\n",
    "        break\n",
    "\n",
    "    if choice in ('1', '2', '3', '4'):\n",
    "        num1 = float(input(\"Enter first number: \"))\n",
    "        num2 = float(input(\"Enter second number: \"))\n",
    "\n",
    "        if choice == '1':\n",
    "            print(num1, \"+\", num2, \"=\", add(num1, num2))\n",
    "\n",
    "        elif choice == '2':\n",
    "            print(num1, \"-\", num2, \"=\", subtract(num1, num2))\n",
    "\n",
    "        elif choice == '3':\n",
    "            print(num1, \"*\", num2, \"=\", multiply(num1, num2))\n",
    "\n",
    "        elif choice == '4':\n",
    "            print(num1, \"/\", num2, \"=\", divide(num1, num2))\n",
    "\n"
   ]
  }
 ],
 "metadata": {
  "interpreter": {
   "hash": "ed98f0601b831bcc7b83204b240d5de8690f3d4c7ae43c4dad5e24aa4ea3791d"
  },
  "kernelspec": {
   "display_name": "Python 3.9.7 ('base')",
   "language": "python",
   "name": "python3"
  },
  "language_info": {
   "codemirror_mode": {
    "name": "ipython",
    "version": 3
   },
   "file_extension": ".py",
   "mimetype": "text/x-python",
   "name": "python",
   "nbconvert_exporter": "python",
   "pygments_lexer": "ipython3",
   "version": "3.9.7"
  },
  "orig_nbformat": 4
 },
 "nbformat": 4,
 "nbformat_minor": 2
}
