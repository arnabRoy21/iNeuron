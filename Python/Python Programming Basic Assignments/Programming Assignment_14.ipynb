{
  "cells": [
    {
      "cell_type": "markdown",
      "metadata": {},
      "source": [
        "# Ineuron Programming Assignment_14"
      ]
    },
    {
      "cell_type": "markdown",
      "metadata": {
        "id": "8-1oRBC7xr7-"
      },
      "source": [
        "### 1. Define a class with a generator which can iterate the numbers, which are divisible by 7, between a given range 0 and n.\n",
        "\n"
      ]
    },
    {
      "cell_type": "code",
      "execution_count": null,
      "metadata": {
        "colab": {
          "base_uri": "https://localhost:8080/"
        },
        "id": "p1rneOjnxeUO",
        "outputId": "5779f4dd-4d45-4480-b807-a9d54a00b423"
      },
      "outputs": [
        {
          "name": "stdout",
          "output_type": "stream",
          "text": [
            "Enter a number to generate numbers between 0 and n: 100\n",
            "0, 7, 14, 21, 28, 35, 42, 49, 56, 63, 70, 77, 84, 91, 98, "
          ]
        }
      ],
      "source": [
        "class DivGen:\n",
        "  def __init__(self, num: int):\n",
        "    self.num = num\n",
        "\n",
        "  def gen(self):\n",
        "    for i in range(0, self.num+1):\n",
        "      if i % 7 == 0:\n",
        "        yield i\n",
        "\n",
        "num = int(input('Enter a number to generate numbers between 0 and n: '))\n",
        "obj = DivGen(num)\n",
        "for i in obj.gen():\n",
        "  print(i, end=\", \")\n",
        "\n"
      ]
    },
    {
      "cell_type": "markdown",
      "metadata": {
        "id": "fMFRZFGTy0R6"
      },
      "source": [
        "### 2. Write a program to compute the frequency of the words from the input. The output should output after sorting the key alphanumerically.\n",
        "Suppose the following input is supplied to the program:\n",
        "New to Python or choosing between Python 2 and Python 3? Read Python 2 or Python 3. Then, the output should be:\n",
        "\n",
        "2:2\n",
        "\n",
        "3.:1\n",
        "\n",
        "3?:1\n",
        "\n",
        "New:1\n",
        "\n",
        "Python:5\n",
        "\n",
        "Read:1\n",
        "\n",
        "and:1\n",
        "\n",
        "between:1\n",
        "\n",
        "choosing:1\n",
        "\n",
        "or:2\n",
        "\n",
        "to:1\n",
        "\n"
      ]
    },
    {
      "cell_type": "code",
      "execution_count": null,
      "metadata": {
        "colab": {
          "base_uri": "https://localhost:8080/"
        },
        "id": "VApHy5jjz7Cj",
        "outputId": "9196db23-0711-44f8-97d4-d8616914d817"
      },
      "outputs": [
        {
          "name": "stdout",
          "output_type": "stream",
          "text": [
            "Enter a sentence to find the frequency of its words: New to Python or choosing between Python 2 and Python 3? Read Python 2 or Python 3\n",
            "2 : 2\n",
            "3 : 1\n",
            "3? : 1\n",
            "New : 1\n",
            "Python : 5\n",
            "Read : 1\n",
            "and : 1\n",
            "between : 1\n",
            "choosing : 1\n",
            "or : 2\n",
            "to : 1\n"
          ]
        }
      ],
      "source": [
        "def frequency(input_seq):\n",
        "  unique_input_seq = sorted(set(input_seq))\n",
        "  for word in unique_input_seq:\n",
        "    count = 0\n",
        "    for word_scan in input_seq:\n",
        "      if word == word_scan:\n",
        "        count += 1\n",
        "    print(word, ':', count)\n",
        "input_seq = input('Enter a sentence to find the frequency of its words: ').split(' ')\n",
        "frequency(input_seq)\n",
        "\n"
      ]
    },
    {
      "cell_type": "markdown",
      "metadata": {
        "id": "FZ5v9OTxz7f3"
      },
      "source": [
        "### 3. Define a class Person and its two child classes: Male and Female. All classes have a method &quot;getGender&quot; which can print &quot;Male&quot; for Male class and &quot;Female&quot; for Female class.\n",
        "\n"
      ]
    },
    {
      "cell_type": "code",
      "execution_count": null,
      "metadata": {
        "colab": {
          "base_uri": "https://localhost:8080/"
        },
        "id": "jQV3S9Im0nBD",
        "outputId": "a0536aec-a027-4a1a-bfb3-ceb7a6d7e3f3"
      },
      "outputs": [
        {
          "name": "stdout",
          "output_type": "stream",
          "text": [
            "Male\n",
            "Female\n"
          ]
        }
      ],
      "source": [
        "class Person:\n",
        "  def __init__(self):\n",
        "    pass\n",
        "  def getGender(self):\n",
        "    print('Person')\n",
        "\n",
        "class Male(Person):\n",
        "  def __init__(self):\n",
        "    pass\n",
        "  def getGender(self):\n",
        "    print('Male')\n",
        "\n",
        "class Female(Person):\n",
        "  def __init__(self):\n",
        "    pass\n",
        "  def getGender(self):\n",
        "    print('Female')\n",
        "\n",
        "male = Male()\n",
        "female = Female()\n",
        "\n",
        "male.getGender()\n",
        "female.getGender()"
      ]
    },
    {
      "cell_type": "markdown",
      "metadata": {
        "id": "Oo5CR6Ui0nj5"
      },
      "source": [
        "### 4. Please write a program to generate all sentences where subject is in [&quot;I&quot;, &quot;You&quot;] and verb is in [&quot;Play&quot;, &quot;Love&quot;] and the object is in [&quot;Hockey&quot;,&quot;Football&quot;].\n",
        "\n"
      ]
    },
    {
      "cell_type": "code",
      "execution_count": null,
      "metadata": {
        "colab": {
          "base_uri": "https://localhost:8080/"
        },
        "id": "7VZZJirf0phi",
        "outputId": "512ab756-b1cd-4674-fd80-50fd1cd9485b"
      },
      "outputs": [
        {
          "name": "stdout",
          "output_type": "stream",
          "text": [
            "I Play Hockey\n",
            "I Play Football\n",
            "I Love Hockey\n",
            "I Love Football\n",
            "You Play Hockey\n",
            "You Play Football\n",
            "You Love Hockey\n",
            "You Love Football\n"
          ]
        }
      ],
      "source": [
        "def generate_sent():\n",
        "  subject = ['I', 'You']\n",
        "  verb = ['Play', 'Love']\n",
        "  object_ = ['Hockey', 'Football']\n",
        "  for i in subject:\n",
        "    for j in verb:\n",
        "      for k in object_:\n",
        "        print(f'{i} {j} {k}')\n",
        "generate_sent()        "
      ]
    },
    {
      "cell_type": "markdown",
      "metadata": {
        "id": "3sL7-tc90p1K"
      },
      "source": [
        "### 5. Please write a program to compress and decompress the string &quot;hello world!hello world!hello world!hello world!&quot;.\n"
      ]
    },
    {
      "cell_type": "code",
      "execution_count": null,
      "metadata": {
        "colab": {
          "base_uri": "https://localhost:8080/"
        },
        "id": "z2Wg1BpD0rkx",
        "outputId": "cba38c9f-1124-4009-a5c2-8c584123f7e5"
      },
      "outputs": [
        {
          "name": "stdout",
          "output_type": "stream",
          "text": [
            "a 2\n",
            "b 2\n",
            "d 0\n",
            "d 0\n",
            "d 0\n"
          ]
        }
      ],
      "source": []
    },
    {
      "cell_type": "code",
      "execution_count": null,
      "metadata": {
        "colab": {
          "base_uri": "https://localhost:8080/"
        },
        "id": "5r01DJl02g50",
        "outputId": "4c96a9f4-81ed-451f-ab0b-d69805ef3cbf"
      },
      "outputs": [
        {
          "name": "stdout",
          "output_type": "stream",
          "text": [
            "1. Compressed version of 'hello world!hello world!hello world!hello world!' is: \n",
            "hel2o world!hel2o world!hel2o world!hel2o world!\n",
            "2. Decompressed version of a2b3c2 is:  aabbbcc\n"
          ]
        }
      ],
      "source": [
        "def compress(word):\n",
        "    res = \"\"\n",
        "    count = 1\n",
        "    res += word[0]\n",
        "    for i in range(len(word)-1):\n",
        "        if(word[i] == word[i+1]):\n",
        "            count+=1\n",
        "        else:\n",
        "            if(count > 1):\n",
        "                res += str(count)\n",
        "            res += word[i+1]\n",
        "            count = 1\n",
        "    if(count > 1):\n",
        "        res += str(count)\n",
        "    return res\n",
        "\n",
        "def decompress(word):\n",
        "  res = ''\n",
        "  for i in word:\n",
        "    if i.isdigit() == False:\n",
        "      res += i\n",
        "    else: \n",
        "      res += res[-1]*(int(i)-1)\n",
        "  return res\n",
        "print('1. Compressed version of \\'hello world!hello world!hello world!hello world!\\' is: ')\n",
        "print(compress('hello world!hello world!hello world!hello world!'))\n",
        "print('2. Decompressed version of a2b3c2 is: ',decompress('a2b3c2'))"
      ]
    },
    {
      "cell_type": "markdown",
      "metadata": {
        "id": "Y3WDoUmQ0r35"
      },
      "source": [
        "### 6. Please write a binary search function which searches an item in a sorted list. The function should return the index of element to be searched in the list."
      ]
    },
    {
      "cell_type": "code",
      "execution_count": null,
      "metadata": {
        "colab": {
          "base_uri": "https://localhost:8080/"
        },
        "id": "HqNU4j980trR",
        "outputId": "dcc4e568-bb30-4b96-c0ae-368a565cf686"
      },
      "outputs": [
        {
          "name": "stdout",
          "output_type": "stream",
          "text": [
            "Item found at index:  8\n"
          ]
        }
      ],
      "source": [
        "def binary_search(sorted_list, num):\n",
        "  left = 0\n",
        "  right = len(sorted_list)\n",
        " \n",
        "  while(left != right):\n",
        "    mid = int((left+right)/2)\n",
        "    if num == sorted_list[mid]:\n",
        "      return mid\n",
        "    else:\n",
        "      if num < sorted_list[mid]:\n",
        "        right = mid-1\n",
        "      if num > sorted_list[mid]:\n",
        "        left = mid+1\n",
        "print('Item found at index: ',binary_search([1,2,5,8,10,23,45,56,72,75,88,91,100], 72))  \n"
      ]
    }
  ],
  "metadata": {
    "colab": {
      "collapsed_sections": [],
      "name": "Programming Assignment_14.ipynb",
      "provenance": []
    },
    "kernelspec": {
      "display_name": "Python 3",
      "name": "python3"
    },
    "language_info": {
      "name": "python"
    }
  },
  "nbformat": 4,
  "nbformat_minor": 0
}
