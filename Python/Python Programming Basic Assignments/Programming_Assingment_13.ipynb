{
 "cells": [
  {
   "cell_type": "markdown",
   "metadata": {},
   "source": [
    "# Ineuron Programming Assingment_13"
   ]
  },
  {
   "cell_type": "markdown",
   "metadata": {},
   "source": [
    "### 1. Write a program that calculates and prints the value according to the given formula:\n",
    "\n",
    "Q = Square root of [(2 * C * D)/H]\n",
    "\n",
    "Following are the fixed values of C and H:\n",
    "\n",
    "C is 50. H is 30.\n",
    "\n",
    "D is the variable whose values should be input to your program in a comma-separated sequence.\n",
    "\n",
    "Example\n",
    "\n",
    "Let us assume the following comma separated input sequence is given to the program:\n",
    "\n",
    "100,150,180\n",
    "\n",
    "The output of the program should be:\n",
    "\n",
    "18,22,24\n"
   ]
  },
  {
   "cell_type": "code",
   "execution_count": 1,
   "metadata": {},
   "outputs": [
    {
     "name": "stdout",
     "output_type": "stream",
     "text": [
      "Entered input is:  100,150,180\n",
      "18,22,24\n"
     ]
    }
   ],
   "source": [
    "from math import sqrt\n",
    "C = 50\n",
    "H = 30\n",
    "output = []\n",
    "def formula(input_):\n",
    "    for num in input_.split(','):\n",
    "        q = str(int(sqrt((2 * C * int(num))/H)))\n",
    "        output.append(q)\n",
    "    print(','.join(output))\n",
    "input_ = input('Enter no.s in comma separated format: ')\n",
    "print('Entered input is: ', input_)\n",
    "formula(input_)"
   ]
  },
  {
   "cell_type": "markdown",
   "metadata": {},
   "source": [
    "### 2. Write a program which takes 2 digits, X,Y as input and generates a 2-dimensional array. The element value in the i-th row and j-th column of the array should be i*j.\n",
    "\n",
    "Note: i=0,1.., X-1; j=0,1,¡¬Y-1.\n",
    "\n",
    "Example\n",
    "\n",
    "Suppose the following inputs are given to the program:\n",
    "\n",
    "3,5\n",
    "\n",
    "Then, the output of the program should be:\n",
    "\n",
    "[[0, 0, 0, 0, 0], [0, 1, 2, 3, 4], [0, 2, 4, 6, 8]] "
   ]
  },
  {
   "cell_type": "code",
   "execution_count": 12,
   "metadata": {},
   "outputs": [
    {
     "name": "stdout",
     "output_type": "stream",
     "text": [
      "Entered Rows, Columns:  3,5\n",
      "2D Array:  [[0, 0, 0, 0, 0], [0, 1, 2, 3, 4], [0, 2, 4, 6, 8]]\n"
     ]
    }
   ],
   "source": [
    "def array_generator(row, col):    \n",
    "    arr = []\n",
    "    for row_idx in range(int(row)):\n",
    "        temp = []\n",
    "        for col_idx in range(int(col)):\n",
    "            temp.append(row_idx*col_idx)\n",
    "        arr.append(temp)\n",
    "    return arr\n",
    "input_ = input('Enter no. of rows and cols in csv format to generate 2D array: ')\n",
    "row = int(input_.split(',')[0])\n",
    "col = int(input_.split(',')[1])\n",
    "print('Entered Rows, Columns: ', input_)\n",
    "print('2D Array: ', array_generator(row, col))\n"
   ]
  },
  {
   "cell_type": "markdown",
   "metadata": {},
   "source": [
    "### 3. Write a program that accepts a comma separated sequence of words as input and prints the words in a comma-separated sequence after sorting them alphabetically.\n",
    "\n",
    "Suppose the following input is supplied to the program:\n",
    "\n",
    "without,hello,bag,world\n",
    "\n",
    "Then, the output should be:\n",
    "\n",
    "bag,hello,without,world"
   ]
  },
  {
   "cell_type": "code",
   "execution_count": 13,
   "metadata": {},
   "outputs": [
    {
     "name": "stdout",
     "output_type": "stream",
     "text": [
      "Entered sequence of words:  without,hello,bag,world\n",
      "Sorted sequence is:  bag,hello,without,world\n"
     ]
    }
   ],
   "source": [
    "def sort_seq(input_seq):\n",
    "    print('Entered sequence of words: ', input_seq)\n",
    "    print('Sorted sequence is: ', ','.join(sorted(input_seq.split(','))))\n",
    "input_seq = input('Enter comma separated sequence of words: ')\n",
    "sort_seq(input_seq)\n"
   ]
  },
  {
   "cell_type": "markdown",
   "metadata": {},
   "source": [
    "### 4. Write a program that accepts a sequence of whitespace separated words as input and prints the words after removing all duplicate words and sorting them alphanumerically.\n",
    "\n",
    "Suppose the following input is supplied to the program:\n",
    "\n",
    "hello world and practice makes perfect and hello world again\n",
    "\n",
    "Then, the output should be:\n",
    "\n",
    "again and hello makes perfect practice world\n",
    "\n"
   ]
  },
  {
   "cell_type": "code",
   "execution_count": 14,
   "metadata": {},
   "outputs": [
    {
     "name": "stdout",
     "output_type": "stream",
     "text": [
      "Entered sequence of words:  hello world and practice makes perfect and hello world again\n",
      "Sorted sequence is:  again and hello makes perfect practice world\n"
     ]
    }
   ],
   "source": [
    "def sort_seq(input_seq):\n",
    "    print('Entered sequence of words: ', input_seq)\n",
    "    print('Sorted sequence is: ', ' '.join(list(sorted(set(input_seq.split(' '))))))\n",
    "input_seq = input('Enter space separated sequence of words: ')\n",
    "sort_seq(input_seq)"
   ]
  },
  {
   "cell_type": "markdown",
   "metadata": {},
   "source": [
    "### 5. Write a program that accepts a sentence and calculate the number of letters and digits.\n",
    "\n",
    "Suppose the following input is supplied to the program:\n",
    "\n",
    "hello world! 123\n",
    "\n",
    "Then, the output should be:\n",
    "\n",
    "LETTERS 10\n",
    "\n",
    "DIGITS 3\n"
   ]
  },
  {
   "cell_type": "code",
   "execution_count": 18,
   "metadata": {},
   "outputs": [
    {
     "name": "stdout",
     "output_type": "stream",
     "text": [
      "Entered sequence of words:  hello world! 123\n",
      "LETTERS  10\n",
      "DIGITS  3\n"
     ]
    }
   ],
   "source": [
    "def cal_letter_digits_seq(input_seq):\n",
    "    print('Entered sequence of words: ', input_seq)\n",
    "    digit_list = '0123456789'\n",
    "    letter_list = 'abcdefghijklmnopqrstuvwxyz'\n",
    "    digit_count, letter_count = 0, 0\n",
    "    for val in input_seq:\n",
    "        if val in digit_list:\n",
    "            digit_count += 1\n",
    "        if val in letter_list or val.lower() in letter_list:\n",
    "            letter_count += 1\n",
    "    print('LETTERS ', letter_count)\n",
    "    print('DIGITS ', digit_count)\n",
    "\n",
    "input_seq = input('Enter space separated sequence of letters and numbers: ')\n",
    "cal_letter_digits_seq(input_seq)"
   ]
  },
  {
   "cell_type": "markdown",
   "metadata": {},
   "source": [
    "### 6. A website requires the users to input username and password to register. Write a program to check the validity of password input by users.\n",
    "\n",
    "Following are the criteria for checking the password:\n",
    "\n",
    "1. At least 1 letter between [a-z]\n",
    "\n",
    "2. At least 1 number between [0-9]\n",
    "\n",
    "1. At least 1 letter between [A-Z]\n",
    "\n",
    "3. At least 1 character from [$#@]\n",
    "\n",
    "4. Minimum length of transaction password: 6\n",
    "\n",
    "5. Maximum length of transaction password: 12\n",
    "\n",
    "Your program should accept a sequence of comma separated passwords and will check them according to the above criteria. Passwords that match the criteria are to be printed, each separated by a comma.\n",
    "\n",
    "Example\n",
    "\n",
    "If the following passwords are given as input to the program:\n",
    "\n",
    "ABd1234@1,a F1#,2w3E*,2We3345\n",
    "\n",
    "Then, the output of the program should be:\n",
    "\n",
    "ABd1234@1"
   ]
  },
  {
   "cell_type": "code",
   "execution_count": 20,
   "metadata": {},
   "outputs": [
    {
     "name": "stdout",
     "output_type": "stream",
     "text": [
      "Entered sequence of passwords:  ABd1234@1,a F1#,2w3E*,2We3345\n",
      "Valid Passwords:  ABd1234@1\n"
     ]
    }
   ],
   "source": [
    "def password_validation(input_seq):\n",
    "    print('Entered sequence of passwords: ', input_seq)\n",
    "    digit_list = '0123456789'\n",
    "    lower_letter_list = 'abcdefghijklmnopqrstuvwxyz'\n",
    "    upper_letter_list = lower_letter_list.upper()\n",
    "    special_char_list = '$#@'\n",
    "    valid_password_list = []\n",
    "    for password in input_seq.split(','):\n",
    "        digit_list_flag, lower_letter_list_flag, upper_letter_list_flag, special_char_list_flag = False, False, False, False\n",
    "        if len(password) >= 6 and len(password) <= 12:\n",
    "            for char in password:\n",
    "                if char in digit_list:\n",
    "                    digit_list_flag = True \n",
    "                    break\n",
    "            for char in password:\n",
    "                if char in lower_letter_list:\n",
    "                    lower_letter_list_flag = True \n",
    "                    break\n",
    "            for char in password:\n",
    "                if char in upper_letter_list:\n",
    "                    upper_letter_list_flag = True \n",
    "                    break\n",
    "            for char in password:\n",
    "                if char in special_char_list:\n",
    "                    special_char_list_flag = True \n",
    "                    break\n",
    "            if (digit_list_flag and lower_letter_list_flag and upper_letter_list_flag and special_char_list_flag):\n",
    "                valid_password_list.append(password)\n",
    "    print('Valid Passwords: ', ','.join(valid_password_list))\n",
    "input_seq = input('Enter comma separated sequence of passwords to validate: ')\n",
    "password_validation(input_seq)"
   ]
  }
 ],
 "metadata": {
  "interpreter": {
   "hash": "ed98f0601b831bcc7b83204b240d5de8690f3d4c7ae43c4dad5e24aa4ea3791d"
  },
  "kernelspec": {
   "display_name": "Python 3.9.7 ('base')",
   "language": "python",
   "name": "python3"
  },
  "language_info": {
   "codemirror_mode": {
    "name": "ipython",
    "version": 3
   },
   "file_extension": ".py",
   "mimetype": "text/x-python",
   "name": "python",
   "nbconvert_exporter": "python",
   "pygments_lexer": "ipython3",
   "version": "3.9.7"
  },
  "orig_nbformat": 4
 },
 "nbformat": 4,
 "nbformat_minor": 2
}
