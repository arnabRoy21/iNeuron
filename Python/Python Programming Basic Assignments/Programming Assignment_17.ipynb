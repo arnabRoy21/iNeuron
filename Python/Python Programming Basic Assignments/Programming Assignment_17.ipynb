{
 "cells": [
  {
   "cell_type": "markdown",
   "metadata": {},
   "source": [
    "# Ineuron Programming Assignment_17"
   ]
  },
  {
   "cell_type": "markdown",
   "metadata": {},
   "source": [
    "### 1. Create a function that takes three arguments a, b, c and returns the sum of the numbers that are evenly divided by c from the range a, b inclusive.\n",
    "**Examples:**<br><br>\n",
    "evenly_divisible(1, 10, 20) ➞ 0<br>\n",
    "\\# No number between 1 and 10 can be evenly divided by 20.<br><br>\n",
    "evenly_divisible(1, 10, 2) ➞ 30<br>\n",
    "\\# 2 \\+ 4 \\+ 6 \\+ 8 \\+ 10 = 30<br><br>\n",
    "evenly_divisible(1, 10, 3) ➞ 18<br>\n",
    "\\# 3 \\+ 6 \\+ 9 = 18"
   ]
  },
  {
   "cell_type": "code",
   "execution_count": 1,
   "metadata": {},
   "outputs": [
    {
     "name": "stdout",
     "output_type": "stream",
     "text": [
      "0\n",
      "30\n",
      "18\n"
     ]
    }
   ],
   "source": [
    "def evenly_divisible(a,b,c):\n",
    "    sum = 0\n",
    "    for  i in range(a,b+1):\n",
    "        if i%c == 0:\n",
    "            sum = sum + i\n",
    "    print(sum)\n",
    "\n",
    "evenly_divisible(1, 10, 20)\n",
    "evenly_divisible(1, 10, 2)\n",
    "evenly_divisible(1, 10, 3)"
   ]
  },
  {
   "cell_type": "markdown",
   "metadata": {},
   "source": [
    "### 2. Create a function that returns True if a given inequality expression is correct and False otherwise.\n",
    "**Examples:**<br>\n",
    "correct_signs(\"3 < 7 < 11\") ➞ True<br>\n",
    "correct_signs(\"13 > 44 > 33 > 1\") ➞ False<br>\n",
    "correct_signs(\"1 < 2 < 6 < 9 > 3\") ➞ True<br>"
   ]
  },
  {
   "cell_type": "code",
   "execution_count": 8,
   "metadata": {},
   "outputs": [
    {
     "name": "stdout",
     "output_type": "stream",
     "text": [
      "True\n",
      "False\n",
      "True\n"
     ]
    }
   ],
   "source": [
    "def correct_signs(logic_string):\n",
    "    return eval(logic_string)\n",
    "\n",
    "print(correct_signs(\"3 < 7 < 11\"))\n",
    "print(correct_signs(\"13 > 44 > 33 > 1\"))\n",
    "print(correct_signs(\"1 < 2 < 6 < 9 > 3\"))"
   ]
  },
  {
   "cell_type": "markdown",
   "metadata": {},
   "source": [
    "### 3. Create a function that replaces all the vowels in a string with a specified character.\n",
    "**Examples:**<br>\n",
    "replace_vowels(\"the aardvark\", \"#\") ➞ \"th# ##rdv#rk\"<br>\n",
    "replace_vowels(\"minnie mouse\", \"?\") ➞ \"m?nn?? m??s?\"<br>\n",
    "replace_vowels(\"shakespeare\", \"*\") ➞ \"sh\\*k\\*sp\\*\\*r\\*\""
   ]
  },
  {
   "cell_type": "code",
   "execution_count": 10,
   "metadata": {},
   "outputs": [
    {
     "name": "stdout",
     "output_type": "stream",
     "text": [
      "th# ##rdv#rk\n",
      "m?nn?? m??s?\n",
      "sh*k*sp**r*\n"
     ]
    }
   ],
   "source": [
    "def replace_vowels(sent, replace):\n",
    "    return sent.replace('a', replace).replace('e', replace).replace('i', replace).replace('o', replace).replace('u', replace)\n",
    "\n",
    "print(replace_vowels(\"the aardvark\", \"#\"))\n",
    "print(replace_vowels(\"minnie mouse\", \"?\"))\n",
    "print(replace_vowels(\"shakespeare\", \"*\"))"
   ]
  },
  {
   "cell_type": "markdown",
   "metadata": {},
   "source": [
    "### 4. Write a function that calculates the factorial of a number recursively.\n",
    "**Examples:**<br>\n",
    "factorial(5) ➞ 120<br>\n",
    "factorial(3) ➞ 6<br>\n",
    "factorial(1) ➞ 1<br>\n",
    "factorial(0) ➞ 1"
   ]
  },
  {
   "cell_type": "code",
   "execution_count": 11,
   "metadata": {},
   "outputs": [
    {
     "name": "stdout",
     "output_type": "stream",
     "text": [
      "120\n",
      "6\n",
      "1\n",
      "1\n"
     ]
    }
   ],
   "source": [
    "def factorial(num):\n",
    "    fact = 1\n",
    "    for i in range(1, num+1):\n",
    "        fact = fact * i\n",
    "    return fact\n",
    "\n",
    "print(factorial(5))\n",
    "print(factorial(3))\n",
    "print(factorial(1))\n",
    "print(factorial(0))\n"
   ]
  },
  {
   "cell_type": "markdown",
   "metadata": {},
   "source": [
    "### 5. Hamming distance is the number of characters that differ between two strings.\n",
    "**To illustrate:**<br>\n",
    "String1: \"abcbba\"<br>\n",
    "String2: \"abcbda\"<br>\n",
    "Hamming Distance: 1 - \"b\" vs. \"d\" is the only difference.<br>\n",
    "Create a function that computes the hamming distance between two strings.<br>\n",
    "\n",
    "**Examples:**<br>\n",
    "hamming_distance(\"abcde\", \"bcdef\") ➞ 5<br>\n",
    "hamming_distance(\"abcde\", \"abcde\") ➞ 0<br>\n",
    "hamming_distance(\"strong\", \"strung\") ➞ 1<br>"
   ]
  },
  {
   "cell_type": "code",
   "execution_count": 20,
   "metadata": {},
   "outputs": [
    {
     "name": "stdout",
     "output_type": "stream",
     "text": [
      "5\n",
      "0\n",
      "1\n"
     ]
    }
   ],
   "source": [
    "def hamming_distance(string1, string2):\n",
    "    assert len(string1) == len(string2)\n",
    "    sum = 0\n",
    "    for i in range(len(string1)):\n",
    "        if string1[i] != string2[i]:\n",
    "            sum += 1\n",
    "    return sum\n",
    "\n",
    "print(hamming_distance(\"abcde\", \"bcdef\"))\n",
    "print(hamming_distance(\"abcde\", \"abcde\"))\n",
    "print(hamming_distance(\"strong\", \"strung\"))"
   ]
  }
 ],
 "metadata": {
  "interpreter": {
   "hash": "ed98f0601b831bcc7b83204b240d5de8690f3d4c7ae43c4dad5e24aa4ea3791d"
  },
  "kernelspec": {
   "display_name": "Python 3.9.7 ('base')",
   "language": "python",
   "name": "python3"
  },
  "language_info": {
   "codemirror_mode": {
    "name": "ipython",
    "version": 3
   },
   "file_extension": ".py",
   "mimetype": "text/x-python",
   "name": "python",
   "nbconvert_exporter": "python",
   "pygments_lexer": "ipython3",
   "version": "3.9.7"
  },
  "orig_nbformat": 4
 },
 "nbformat": 4,
 "nbformat_minor": 2
}
