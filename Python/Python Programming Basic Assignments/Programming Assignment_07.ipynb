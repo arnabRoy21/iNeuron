{
 "cells": [
  {
   "cell_type": "markdown",
   "metadata": {},
   "source": [
    "# Programming Assignment_07"
   ]
  },
  {
   "cell_type": "markdown",
   "metadata": {},
   "source": [
    "### 1. Write a Python Program to find sum of array?\n"
   ]
  },
  {
   "cell_type": "code",
   "execution_count": 1,
   "metadata": {},
   "outputs": [
    {
     "name": "stdout",
     "output_type": "stream",
     "text": [
      "Sum of the array [1, 3, 4, 22, 75] is: 105\n"
     ]
    }
   ],
   "source": [
    "def array_sum(seq):\n",
    "    print(f'Sum of the array {seq} is: {sum(seq)}')\n",
    "\n",
    "array_sum([1, 3, 4, 22, 75])"
   ]
  },
  {
   "cell_type": "markdown",
   "metadata": {},
   "source": [
    "### 2. Write a Python Program to find largest element in an array?\n"
   ]
  },
  {
   "cell_type": "code",
   "execution_count": 3,
   "metadata": {},
   "outputs": [
    {
     "name": "stdout",
     "output_type": "stream",
     "text": [
      "Largest element in the array [1, 3, 4, 22, 75] is: 75\n"
     ]
    }
   ],
   "source": [
    "def array_max(seq):\n",
    "    print(f'Largest element in the array {seq} is: {max(seq)}')\n",
    "\n",
    "array_max([1, 3, 4, 22, 75])"
   ]
  },
  {
   "cell_type": "markdown",
   "metadata": {},
   "source": [
    "### 3. Write a Python Program for array rotation?\n"
   ]
  },
  {
   "cell_type": "code",
   "execution_count": 13,
   "metadata": {},
   "outputs": [
    {
     "name": "stdout",
     "output_type": "stream",
     "text": [
      "The array [1, 3, 4, 22, 75] shifted by 2 is: [4, 22, 75, 1, 3]\n"
     ]
    }
   ],
   "source": [
    "def array_rotate(seq,shift_by):\n",
    "    n = len(seq)\n",
    "    a = seq[shift_by:n] + seq[0:shift_by]\n",
    "    print(f'The array {seq} shifted by {shift_by} is: {a}')\n",
    "\n",
    "array_rotate([1, 3, 4, 22, 75], 2)"
   ]
  },
  {
   "cell_type": "markdown",
   "metadata": {},
   "source": [
    "### 4. Write a Python Program to Split the array and add the first part to the end?\n"
   ]
  },
  {
   "cell_type": "code",
   "execution_count": 10,
   "metadata": {},
   "outputs": [
    {
     "name": "stdout",
     "output_type": "stream",
     "text": [
      "The array [1, 3, 4, 22, 75] split at 2 is: [4, 22, 75, 1, 3]\n"
     ]
    }
   ],
   "source": [
    "def split_array(seq, split_pos):\n",
    "    new_seq = seq[split_pos:] + seq[:split_pos]\n",
    "    print(f'The array {seq} split at {split_pos} is: {new_seq}')\n",
    "\n",
    "split_array([1, 3, 4, 22, 75], 2)"
   ]
  },
  {
   "cell_type": "markdown",
   "metadata": {},
   "source": [
    "### 5. Write a Python Program to check if given array is Monotonic?"
   ]
  },
  {
   "cell_type": "code",
   "execution_count": 11,
   "metadata": {},
   "outputs": [
    {
     "data": {
      "text/plain": [
       "True"
      ]
     },
     "execution_count": 11,
     "metadata": {},
     "output_type": "execute_result"
    }
   ],
   "source": [
    "def is_monotonic(seq):\n",
    "    return (all(seq[i] <= seq[i + 1] for i in range(len(seq) - 1)) or\n",
    "            all(seq[i] >= seq[i + 1] for i in range(len(seq) - 1)))\n",
    "\n",
    "is_monotonic([3,56,66,71])"
   ]
  }
 ],
 "metadata": {
  "interpreter": {
   "hash": "ed98f0601b831bcc7b83204b240d5de8690f3d4c7ae43c4dad5e24aa4ea3791d"
  },
  "kernelspec": {
   "display_name": "Python 3.9.7 ('base')",
   "language": "python",
   "name": "python3"
  },
  "language_info": {
   "codemirror_mode": {
    "name": "ipython",
    "version": 3
   },
   "file_extension": ".py",
   "mimetype": "text/x-python",
   "name": "python",
   "nbconvert_exporter": "python",
   "pygments_lexer": "ipython3",
   "version": "3.9.7"
  },
  "orig_nbformat": 4
 },
 "nbformat": 4,
 "nbformat_minor": 2
}
