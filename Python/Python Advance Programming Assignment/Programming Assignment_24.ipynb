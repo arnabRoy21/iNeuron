{
 "cells": [
  {
   "cell_type": "markdown",
   "metadata": {},
   "source": [
    "#### 1. Implement a class iterator to flatten a nested list of lists of integers. Each list element is either an integer or a list. There can be many levels of nested lists in lists.\n",
    "The class initializes with a nested list. It also has two methods:\n",
    "\n",
    "1. next() returns an integer in the order of appearance.\n",
    "2. hasNext() returns True / False regarding if all integers have been retrieved or not.\n",
    "Write the Class implementation for three required methods.\n",
    "\n",
    "**Examples:**\n",
    "\n",
    "ni, actual = NestedIterator([[1, 1], 2, [1, 1]]), []<br>\n",
    "while ni.hasNext():<br>\n",
    "    &emsp; actual.append(ni.next())<br>\n",
    "actual ➞ [1, 1, 2, 1, 1]<br>\n",
    "\n",
    "ni, actual = NestedIterator([1, [4, [6]]]), []<br>\n",
    "while ni.hasNext():<br>\n",
    "    &emsp; actual.append(ni.next())<br>\n",
    "actual ➞ [1, 4, 6]<br>\n",
    "\n",
    "ni, actual = NestedIterator([[[]], []]), []<br>\n",
    "while ni.hasNext():<br>\n",
    "    &emsp; actual.append(ni.next())<br>\n",
    "actual ➞ []"
   ]
  },
  {
   "cell_type": "code",
   "execution_count": 3,
   "metadata": {},
   "outputs": [
    {
     "name": "stdout",
     "output_type": "stream",
     "text": [
      "actual ➞ [1, 1, 2, 1, 1]\n",
      "actual ➞ [1, 4, 6]\n",
      "actual ➞ []\n"
     ]
    }
   ],
   "source": [
    "class NestedIterator:\n",
    "    def __init__(self,in_list):\n",
    "        self.list = in_list\n",
    "        self.flatten_list = []\n",
    "        self.flatten(self.list)\n",
    "    \n",
    "    def flatten(self,in_list):\n",
    "        for ele in in_list:\n",
    "            if isinstance(ele,int):\n",
    "                self.flatten_list.append(ele)\n",
    "            else:\n",
    "                self.flatten(ele)\n",
    "                \n",
    "    def hasNext(self):\n",
    "        return True if len(self.flatten_list) > 0 else False\n",
    "    \n",
    "    def next(self):\n",
    "        return self.flatten_list.pop(0)\n",
    "    \n",
    "ni, actual = NestedIterator([[1, 1], 2, [1, 1]]), []\n",
    "while ni.hasNext():\n",
    "    actual.append(ni.next())\n",
    "print(f'actual ➞ {actual}')\n",
    "\n",
    "ni, actual = NestedIterator([1, [4, [6]]]), []\n",
    "while ni.hasNext():\n",
    "    actual.append(ni.next())\n",
    "print(f'actual ➞ {actual}')\n",
    "\n",
    "ni, actual = NestedIterator([[[]], []]), []\n",
    "while ni.hasNext():\n",
    "    actual.append(ni.next())\n",
    "print(f'actual ➞ {actual}')"
   ]
  },
  {
   "cell_type": "markdown",
   "metadata": {},
   "source": [
    "#### 2. Given a 3x3 matrix of a completed tic-tac-toe game, create a function that returns whether the game is a win for \"X\", \"O\", or a \"Draw\", where \"X\" and \"O\" represent themselves on the matrix, and \"E\" represents an empty spot.\n",
    "\n",
    "**Examples:**<br>\n",
    "tic_tac_toe([<br>\n",
    "  &emsp; [\"X\", \"O\", \"X\"],<br>\n",
    "  &emsp; [\"O\", \"X\",  \"O\"],<br>\n",
    "  &emsp; [\"O\", \"X\",  \"X\"]<br>\n",
    "]) ➞ \"X\"<br>\n",
    "\n",
    "tic_tac_toe([<br>\n",
    "  &emsp; [\"O\", \"O\", \"O\"],<br>\n",
    "  &emsp; [\"O\", \"X\", \"X\"],<br>\n",
    "  &emsp; [\"E\", \"X\", \"X\"]<br>\n",
    "]) ➞ \"O\"<br>\n",
    "\n",
    "tic_tac_toe([<br>\n",
    "  &emsp; [\"X\", \"X\", \"O\"],<br>\n",
    "  &emsp; [\"O\", \"O\", \"X\"],<br>\n",
    "  &emsp; [\"X\", \"X\", \"O\"]<br>\n",
    "]) ➞ \"Draw\""
   ]
  },
  {
   "cell_type": "code",
   "execution_count": 19,
   "metadata": {},
   "outputs": [
    {
     "name": "stdout",
     "output_type": "stream",
     "text": [
      "tic_tac_toe([['X', 'O', 'X'], ['O', 'X', 'O'], ['O', 'X', 'X']]) ➞ \"X\"\n",
      "tic_tac_toe([['O', 'O', 'O'], ['O', 'X', 'X'], ['E', 'X', 'X']]) ➞ \"O\"\n",
      "tic_tac_toe([['X', 'X', 'O'], ['O', 'O', 'X'], ['X', 'X', 'O']]) ➞ \"Draw\"\n",
      "tic_tac_toe([['X', 'X', 'O'], ['X', 'O', 'X'], ['X', 'O', 'O']]) ➞ \"X\"\n",
      "tic_tac_toe([['O', 'O', 'X'], ['O', 'X', 'O'], ['X', 'O', 'O']]) ➞ \"X\"\n"
     ]
    }
   ],
   "source": [
    "def tic_tac_toe(seq):\n",
    "    def check_row(seq, char):\n",
    "        for i in range(3):\n",
    "            if ''.join(set(seq[i])) == char: return True\n",
    "        return False\n",
    "\n",
    "    def check_column(seq, char):\n",
    "        for i in range(3):\n",
    "            if ''.join(set([item[i] for item in seq])) == char: return True\n",
    "        return False\n",
    "\n",
    "    def check_diagonal(seq, char):\n",
    "        main_diagonal, anti_diagonal = [], []\n",
    "        for i in range(3):\n",
    "            for j in range(3):\n",
    "                if i == j: main_diagonal.append(seq[i][j])\n",
    "                if i+j == 2: anti_diagonal.append(seq[i][j])\n",
    "        if ''.join(set(main_diagonal)) == char: return True\n",
    "        if ''.join(set(anti_diagonal)) == char: return True\n",
    "        return False\n",
    "\n",
    "    if (check_row(seq, 'X') or check_column(seq, 'X') or check_diagonal(seq, 'X')) == True: result = 'X'\n",
    "    elif (check_row(seq, 'O') or check_column(seq, 'O') or check_diagonal(seq, 'O')) == True: result = 'O'\n",
    "    else: result = 'Draw'\n",
    "    print(f'tic_tac_toe({seq}) ➞ \"{result}\"')\n",
    "\n",
    "tic_tac_toe([[\"X\", \"O\", \"X\"],[\"O\", \"X\", \"O\"],[\"O\", \"X\", \"X\"]])\n",
    "tic_tac_toe([[\"O\", \"O\", \"O\"],[\"O\",\"X\", \"X\"],[\"E\", \"X\", \"X\"]])\n",
    "tic_tac_toe([[\"X\", \"X\", \"O\"],[\"O\", \"O\", \"X\"],[\"X\", \"X\", \"O\"]])\n",
    "tic_tac_toe([[\"X\", \"X\", \"O\"],[\"X\", \"O\", \"X\"],[\"X\", \"O\", \"O\"]])\n",
    "tic_tac_toe([[\"O\", \"O\", \"X\"],[\"O\", \"X\", \"O\"],[\"X\", \"O\", \"O\"]])"
   ]
  },
  {
   "cell_type": "markdown",
   "metadata": {},
   "source": [
    "#### 3. Your computer might have been infected by a virus! Create a function that finds the viruses in files and removes them from your computer.\n",
    "**Examples:**<br>\n",
    "remove_virus(\"PC Files: spotifysetup.exe, virus.exe, dog.jpg\") ➞ \"PC Files: spotifysetup.exe, dog.jpg\"<br>\n",
    "remove_virus(\"PC Files: antivirus.exe, cat.pdf, lethalmalware.exe, dangerousvirus.exe \") ➞ \"PC Files: antivirus.exe, cat.pdf\" remove_virus(\"PC Files: notvirus.exe, funnycat.gif\") ➞ \"PC Files: notvirus.exe, funnycat.gif\")"
   ]
  },
  {
   "cell_type": "code",
   "execution_count": 2,
   "metadata": {},
   "outputs": [
    {
     "name": "stdout",
     "output_type": "stream",
     "text": [
      "remove_virus(PC Files: spotifysetup.exe, virus.exe, dog.jpg) ➞ \"PC Files: spotifysetup.exe, dog.jpg\"\n",
      "remove_virus(PC Files: antivirus.exe, cat.pdf, lethalmalware.exe, dangerousvirus.exe ) ➞ \"PC Files: antivirus.exe, cat.pdf\"\n",
      "remove_virus(PC Files: notvirus.exe, funnycat.gif) ➞ \"PC Files: notvirus.exe, funnycat.gif\"\n"
     ]
    }
   ],
   "source": [
    "import re\n",
    "def remove_virus(in_string):\n",
    "    in_list = [x.strip() for x in re.split(\", \",in_string)]\n",
    "    output = []\n",
    "    for ele in in_list:\n",
    "        if ele not in ['virus.exe','dangerousvirus.exe','lethalmalware.exe']:\n",
    "            output.append(ele)\n",
    "    print(f'remove_virus({in_string}) ➞ \"{\", \".join(output)}\"')\n",
    "    \n",
    "remove_virus(\"PC Files: spotifysetup.exe, virus.exe, dog.jpg\")\n",
    "remove_virus(\"PC Files: antivirus.exe, cat.pdf, lethalmalware.exe, dangerousvirus.exe \")\n",
    "remove_virus(\"PC Files: notvirus.exe, funnycat.gif\")"
   ]
  },
  {
   "cell_type": "markdown",
   "metadata": {},
   "source": [
    "#### 4. In a video game, a meteor will fall toward the main character's home planet. Given the meteor's trajectory as a string in the form y = mx + b and the character's position as a tuple of (x, y), return True if the meteor will hit the character and False if it will not.\n",
    "**Examples:**<br>\n",
    "will_hit(\"y = 2x - 5\", (0, 0)) ➞ False<br>\n",
    "will_hit(\"y = -4x + 6\", (1, 2)) ➞ True<br>\n",
    "will_hit(\"y = 2x + 6\", (3, 2)) ➞ False"
   ]
  },
  {
   "cell_type": "code",
   "execution_count": 20,
   "metadata": {},
   "outputs": [
    {
     "name": "stdout",
     "output_type": "stream",
     "text": [
      "will_hit('y = 2x - 5', (0, 0)) ➞ False\n",
      "will_hit('y = -4x + 6', (1, 2)) ➞ True\n",
      "will_hit('y = 2x + 6', (3, 2)) ➞ False\n"
     ]
    }
   ],
   "source": [
    "def will_hit(equation, position):\n",
    "    result = False\n",
    "    coeff_x = eval(equation.split('=')[1].split('x')[0])\n",
    "    intercept = eval(equation.split('=')[1].split('x')[1])\n",
    "    if position[1] == coeff_x*position[0] + intercept: result = True\n",
    "    print(f'will_hit{equation,position} ➞ {result}')\n",
    "\n",
    "will_hit(\"y = 2x - 5\", (0, 0))\n",
    "will_hit(\"y = -4x + 6\", (1, 2))\n",
    "will_hit(\"y = 2x + 6\", (3, 2))\n"
   ]
  }
 ],
 "metadata": {
  "interpreter": {
   "hash": "d3385ffa824e79b639a85f5819399c84610b70fd8f6089eec9f6490f08f8500c"
  },
  "kernelspec": {
   "display_name": "Python 3.8.10 64-bit",
   "language": "python",
   "name": "python3"
  },
  "language_info": {
   "codemirror_mode": {
    "name": "ipython",
    "version": 3
   },
   "file_extension": ".py",
   "mimetype": "text/x-python",
   "name": "python",
   "nbconvert_exporter": "python",
   "pygments_lexer": "ipython3",
   "version": "3.8.10"
  },
  "orig_nbformat": 4
 },
 "nbformat": 4,
 "nbformat_minor": 2
}
