{
 "cells": [
  {
   "cell_type": "markdown",
   "metadata": {},
   "source": [
    "#### 1. Given a sentence as txt, return True if any two adjacent words have this property: One word ends with a vowel, while the word immediately after begins with a vowel (a e i o u).\n",
    "**Examples:**<br>\n",
    "vowel_links(\"a very large appliance\") ➞ True<br>\n",
    "vowel_links(\"go to edabit\") ➞ True<br>\n",
    "vowel_links(\"an open fire\") ➞ False<br>\n",
    "vowel_links(\"a sudden applause\") ➞ False"
   ]
  },
  {
   "cell_type": "code",
   "execution_count": 3,
   "metadata": {},
   "outputs": [
    {
     "name": "stdout",
     "output_type": "stream",
     "text": [
      "vowel_links(a very large appliance) ➞ True\n",
      "vowel_links(go to edabit) ➞ True\n",
      "vowel_links(an open fire) ➞ False\n",
      "vowel_links(a sudden applause) ➞ False\n"
     ]
    }
   ],
   "source": [
    "def vowel_links(string):\n",
    "    vowels = ['a','e','i','o','u']\n",
    "    result = False\n",
    "    seq = string.split(' ')\n",
    "    for idx in range(len(seq) - 1):\n",
    "        if seq[idx][-1] in vowels and  seq[idx+1][0] in vowels:\n",
    "            result = True\n",
    "\n",
    "    print(f'vowel_links({string}) ➞ {result}')\n",
    "                \n",
    "vowel_links(\"a very large appliance\")\n",
    "vowel_links(\"go to edabit\")\n",
    "vowel_links(\"an open fire\")\n",
    "vowel_links(\"a sudden applause\")"
   ]
  },
  {
   "cell_type": "markdown",
   "metadata": {},
   "source": [
    "#### 2. You are given three inputs: a string, one letter, and a second letter. Write a function that returns True if every instance of the first letter occurs before every instance of the second letter.\n",
    "**Examples:**<br>\n",
    "first_before_second(\"a rabbit jumps joyfully\", \"a\", \"j\") ➞ True<br>\n",
    "\\# Every instance of \"a\" occurs before every instance of \"j\".<br>\n",
    "\n",
    "first_before_second(\"knaves knew about waterfalls\", \"k\", \"w\") ➞  True<br>\n",
    "\n",
    "first_before_second(\"happy birthday\", \"a\", \"y\") ➞ False<br>\n",
    "\\# The \"a\" in \"birthday\" occurs after the \"y\" in \"happy\".<br>\n",
    "\n",
    "first_before_second(\"precarious kangaroos\", \"k\", \"a\") ➞ False<br>"
   ]
  },
  {
   "cell_type": "code",
   "execution_count": 4,
   "metadata": {},
   "outputs": [
    {
     "name": "stdout",
     "output_type": "stream",
     "text": [
      "first_before_second_find(a rabbit jumps joyfully, a, j) ➞ True\n",
      "first_before_second_find(knaves knew about waterfalls, k, w) ➞ True\n",
      "first_before_second_find(happy birthday, a, y) ➞ False\n",
      "first_before_second_find(precarious kangaroos, k, a) ➞ False\n"
     ]
    }
   ],
   "source": [
    "def first_before_second(string, before_letter, after_letter):\n",
    "    result = string.rfind(before_letter) < string.index(after_letter)\n",
    "    print(f'first_before_second_find({string}, {before_letter}, {after_letter}) ➞ {result}')\n",
    "\n",
    "first_before_second(\"a rabbit jumps joyfully\", \"a\", \"j\")\n",
    "first_before_second(\"knaves knew about waterfalls\", \"k\", \"w\")\n",
    "first_before_second(\"happy birthday\", \"a\", \"y\")\n",
    "first_before_second(\"precarious kangaroos\", \"k\", \"a\")"
   ]
  },
  {
   "cell_type": "markdown",
   "metadata": {},
   "source": [
    "#### 3. Create a function that returns the characters from a list or string r on odd or even positions, depending on the specifier s. The specifier will be \"odd\" for items on odd positions (1, 3, 5, ...) and \"even\" for items on even positions (2, 4, 6, ...).\n",
    "**Examples:**<br>\n",
    "char_at_pos([2, 4, 6, 8, 10], \"even\") ➞ [4, 8]<br>\n",
    "\\# 4 & 8 occupy the 2nd & 4th positions<br>\n",
    "\n",
    "char_at_pos(\"EDABIT\", \"odd\") ➞ \"EAI\"<br>\n",
    "\\# \"E\", \"A\" and \"I\" occupy the 1st, 3rd and 5th positions<br>\n",
    "\n",
    "char_at_pos([\"A\", \"R\", \"B\", \"I\", \"T\", \"R\", \"A\", \"R\", \"I\", \"L\", \"Y\"], \"odd\") ➞ [\"A\", \"B\", \"T\", \"A\", \"I\", \"Y\"]"
   ]
  },
  {
   "cell_type": "code",
   "execution_count": 5,
   "metadata": {},
   "outputs": [
    {
     "name": "stdout",
     "output_type": "stream",
     "text": [
      "char_at_pos(([2, 4, 6, 8, 10], 'even')) ➞ [4, 8]\n",
      "char_at_pos(('EDABIT', 'odd')) ➞ ['E', 'A', 'I']\n",
      "char_at_pos((['A', 'R', 'B', 'I', 'T', 'R', 'A', 'R', 'I', 'L', 'Y'], 'odd')) ➞ ['A', 'B', 'T', 'A', 'I', 'Y']\n"
     ]
    }
   ],
   "source": [
    "def char_at_pos(seq, specifier):\n",
    "    if specifier == 'even': result =  [ item for idx, item in enumerate(seq) if (idx+1)%2 == 0]\n",
    "    else: result = [ item for idx, item in enumerate(seq) if (idx+1)%2 != 0]\n",
    "    print(f'char_at_pos({seq, specifier}) ➞ {result}')\n",
    "\n",
    "char_at_pos([2, 4, 6, 8, 10], \"even\")\n",
    "char_at_pos(\"EDABIT\", \"odd\")\n",
    "char_at_pos([\"A\", \"R\", \"B\", \"I\", \"T\", \"R\", \"A\", \"R\", \"I\", \"L\", \"Y\"], \"odd\")"
   ]
  },
  {
   "cell_type": "markdown",
   "metadata": {},
   "source": [
    "#### 4. Write a function that returns the greatest common divisor of all list elements. If the greatest common divisor is 1, return 1.\n",
    "**Examples:**<br>\n",
    "GCD([10, 20, 40]) ➞ 10<br>\n",
    "GCD([1, 2, 3, 100]) ➞ 1<br>\n",
    "GCD([1024, 192, 2048, 512]) ➞ 64<br>"
   ]
  },
  {
   "cell_type": "code",
   "execution_count": 6,
   "metadata": {},
   "outputs": [
    {
     "name": "stdout",
     "output_type": "stream",
     "text": [
      "GCD([10, 20, 40]) ➞ 10\n",
      "GCD([1, 2, 3, 100]) ➞ 1\n",
      "GCD([1024, 192, 2048, 512]) ➞ 64\n"
     ]
    }
   ],
   "source": [
    "def GCD(in_list):\n",
    "    small = min(in_list)\n",
    "    gcd = -1\n",
    "    for i in range(1, small+1):\n",
    "        output = []\n",
    "        for ele in in_list:\n",
    "            output.append(ele%i)\n",
    "        if len(set(output)) == 1 and list(set(output))[0] == 0:\n",
    "            gcd = i\n",
    "    print(f'GCD({in_list}) ➞ {gcd}')\n",
    "    \n",
    "GCD([10, 20, 40])\n",
    "GCD([1, 2, 3, 100])\n",
    "GCD([1024, 192, 2048, 512])"
   ]
  },
  {
   "cell_type": "markdown",
   "metadata": {},
   "source": [
    "#### 5. A number/string is a palindrome if the digits/characters are the same when read both forward and backward. Examples include \"racecar\" and 12321. Given a positive number n, check if n or the binary representation of n is palindromic. Return the following:\n",
    "- \"Decimal only.\" if only n is a palindrome.<br>\n",
    "- \"Binary only.\" if only the binary representation of n is a palindrome.<br>\n",
    "- \"Decimal and binary.\" if both are palindromes.<br>\n",
    "- \"Neither!\" if neither are palindromes.\n",
    "\n",
    "\n",
    "**Examples:**<br>\n",
    "\n",
    "palindrome_type(1306031) ➞ \"Decimal only.\"<br>\n",
    "\\# decimal = 1306031<br>\n",
    "\\# binary  = \"100111110110110101111\"<br>\n",
    "\n",
    "palindrome_type(427787) ➞ \"Binary only.\"<br>\n",
    "\\# decimal = 427787<br>\n",
    "\\# binary  = \"1101000011100001011\"<br>\n",
    "\n",
    "palindrome_type(313) ➞ \"Decimal and binary.\"<br>\n",
    "\\# decimal = 313<br>\n",
    "\\# binary  = 100111001<br>\n",
    "\n",
    "palindrome_type(934) ➞ \"Neither!\"<br>\n",
    "\\# decimal = 934<br>\n",
    "\\# binary  = \"1110100110\""
   ]
  },
  {
   "cell_type": "code",
   "execution_count": 19,
   "metadata": {},
   "outputs": [
    {
     "name": "stdout",
     "output_type": "stream",
     "text": [
      "palindrome(1306031) ➞ Decimal only\n",
      "palindrome(427787) ➞ Binary only\n",
      "palindrome(313) ➞ Decimal and binary\n",
      "palindrome(934) ➞ Neither!\n"
     ]
    }
   ],
   "source": [
    "def palindrome_type(num):\n",
    "    decimal, binary = False, False\n",
    "    if str(num) == str(num)[::-1]: decimal = True\n",
    "    if bin(num)[2:] == bin(num)[2:][::-1]: binary = True\n",
    "    if decimal and binary: result = 'Decimal and binary'\n",
    "    elif decimal == True and binary == False: result = 'Decimal only'\n",
    "    elif decimal == False and binary == True: result = 'Binary only'\n",
    "    else: result = 'Neither!'\n",
    "    print(f'palindrome({num}) ➞ {result}')\n",
    "\n",
    "palindrome_type(1306031)\n",
    "palindrome_type(427787)\n",
    "palindrome_type(313)\n",
    "palindrome_type(934)\n",
    "\n"
   ]
  }
 ],
 "metadata": {
  "interpreter": {
   "hash": "ed98f0601b831bcc7b83204b240d5de8690f3d4c7ae43c4dad5e24aa4ea3791d"
  },
  "kernelspec": {
   "display_name": "Python 3.9.7 ('base')",
   "language": "python",
   "name": "python3"
  },
  "language_info": {
   "codemirror_mode": {
    "name": "ipython",
    "version": 3
   },
   "file_extension": ".py",
   "mimetype": "text/x-python",
   "name": "python",
   "nbconvert_exporter": "python",
   "pygments_lexer": "ipython3",
   "version": "3.9.7"
  },
  "orig_nbformat": 4
 },
 "nbformat": 4,
 "nbformat_minor": 2
}
