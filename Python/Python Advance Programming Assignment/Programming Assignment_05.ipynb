{
 "cells": [
  {
   "cell_type": "markdown",
   "metadata": {},
   "source": [
    "#### 1. Create a function that takes a number n (integer greater than zero) as an argument, and returns 2 if n is odd and 8 if n is even.\n",
    "You can only use the following arithmetic operators:<br>\n",
    "- addition of numbers +,<br> \n",
    "- subtraction of numbers -,<br> \n",
    "- multiplication of number *,<br> \n",
    "- division of number /,<br> \n",
    "- exponentiation **.\n",
    "\n",
    "\n",
    "You are not allowed to use any other methods in this challenge (i.e. no if statements, comparison operators, etc).<br><br>\n",
    "**Examples:**<br>\n",
    "f(1) ➞ 2<br>\n",
    "f(2) ➞ 8<br>\n",
    "f(3) ➞ 2"
   ]
  },
  {
   "cell_type": "code",
   "execution_count": 1,
   "metadata": {},
   "outputs": [
    {
     "name": "stdout",
     "output_type": "stream",
     "text": [
      "f(1)➞ 2\n",
      "f(2)➞ 8\n",
      "f(3)➞ 2\n"
     ]
    }
   ],
   "source": [
    "def f(in_num):\n",
    "    output = [8,2]\n",
    "    print(f'f({in_num})➞ {output[in_num&1]}')\n",
    "    \n",
    "f(1)\n",
    "f(2)\n",
    "f(3)"
   ]
  },
  {
   "cell_type": "markdown",
   "metadata": {},
   "source": [
    "#### 2. Create a function that returns the majority vote in a list. A majority vote is an element that occurs > N/2 times in a list (where N is the length of the list).\n",
    "**Examples:**<br>\n",
    "majority_vote([\"A\", \"A\", \"B\"]) ➞ \"A\"<br>\n",
    "majority_vote([\"A\", \"A\", \"A\", \"B\", \"C\", \"A\"]) ➞ \"A\"<br>\n",
    "majority_vote([\"A\", \"B\", \"B\", \"A\", \"C\", \"C\"]) ➞ None"
   ]
  },
  {
   "cell_type": "code",
   "execution_count": 2,
   "metadata": {},
   "outputs": [
    {
     "name": "stdout",
     "output_type": "stream",
     "text": [
      "majority_vote(['A', 'A', 'B']) ➞ A\n",
      "majority_vote(['A', 'A', 'A', 'B', 'C', 'A']) ➞ A\n",
      "majority_vote(['A', 'B', 'B', 'A', 'C', 'C']) ➞ None\n"
     ]
    }
   ],
   "source": [
    "def majority_vote(seq):\n",
    "    unique = set(seq)\n",
    "    result = None\n",
    "    for item in unique:\n",
    "        count = seq.count(item)\n",
    "        if count > len(seq)/2:\n",
    "            result = item\n",
    "    print(f'majority_vote({seq}) ➞ {result}')\n",
    "    \n",
    "majority_vote([\"A\", \"A\", \"B\"])\n",
    "majority_vote([\"A\", \"A\", \"A\", \"B\", \"C\", \"A\"])\n",
    "majority_vote([\"A\", \"B\", \"B\", \"A\", \"C\", \"C\"])"
   ]
  },
  {
   "cell_type": "markdown",
   "metadata": {},
   "source": [
    "#### 3. Create a function that takes a string txt and censors any word from a given list lst. The text removed must be replaced by the given character char.\n",
    "**Examples:**<br>\n",
    "censor_string(\"Today is a Wednesday!\", [\"Today\", \"a\"], \"-\") ➞ \"----- is - Wednesday!\"<br>\n",
    "censor_string(\"The cow jumped over the moon.\", [\"cow\", \"over\"], \"\\*\"), \"The \\*\\*\\* jumped \\*\\*\\*\\* the moon.\")<br>\n",
    "censor_string(\"Why did the chicken cross the road ?\", [\"Did\", \"chicken\", \"road\"], \"\\*\") ➞ \"Why \\*\\*\\* the \\*\\*\\*\\*\\*\\*\\* cross the \\*\\*\\*\\*?\""
   ]
  },
  {
   "cell_type": "code",
   "execution_count": 15,
   "metadata": {},
   "outputs": [
    {
     "name": "stdout",
     "output_type": "stream",
     "text": [
      "censor_string(Today is a Wednesday!, ['Today', 'a'], \"-\") ➞ ----- is - Wednesday!\n",
      "censor_string(The cow jumped over the moon., ['cow', 'over'], \"*\") ➞ The *** jumped **** the moon.\n",
      "censor_string(Why did the chicken cross the road ?, ['Did', 'chicken', 'road'], \"*\") ➞ Why *** the ******* cross the **** ?\n"
     ]
    }
   ],
   "source": [
    "def censor_string(sent, seq, mask):\n",
    "    result = []\n",
    "    for word in sent.split():\n",
    "        if word.lower() in ' '.join(seq).lower():\n",
    "            result.append(mask*len(word))\n",
    "        else:\n",
    "            result.append(word)\n",
    "    result = ' '.join(result)\n",
    "\n",
    "    print(f'censor_string({sent}, {seq}, \"{mask}\") ➞ {result}')\n",
    "\n",
    "censor_string(\"Today is a Wednesday!\", [\"Today\", \"a\"], \"-\")\n",
    "censor_string(\"The cow jumped over the moon.\", [\"cow\", \"over\"], \"*\")\n",
    "censor_string(\"Why did the chicken cross the road ?\", [\"Did\", \"chicken\", \"road\"], \"*\")\n"
   ]
  },
  {
   "cell_type": "markdown",
   "metadata": {},
   "source": [
    "#### 4. In mathematics a Polydivisible Number (or magic number) is a number in a given number base with digits abcde... that has the following properties:\n",
    "- Its first digit a is not 0.\n",
    "- The number formed by its first two digits ab is a multiple of 2.\n",
    "- The number formed by its first three digits abc is a multiple of 3.\n",
    "- The number formed by its first four digits abcd is a multiple of 4. Create a function which takes an integer n and returns True if the given number is a Polydivisible Number and False otherwise.<br><br>\n",
    "\n",
    "**Examples:**<br>\n",
    "is_polydivisible(1232) ➞ True<br>\n",
    "\\# 1     / 1 = 1<br>\n",
    "\\# 12    / 2 = 6<br>\n",
    "\\# 123   / 3 = 41<br>\n",
    "\\# 1232  / 4 = 308<br><br>\n",
    "is_polydivisible(123220 ) ➞ False<br>\n",
    "\\# 1   / 1 = 1<br>\n",
    "\\# 12   / 2 = 6<br>\n",
    "\\# 123   / 3 = 41<br>\n",
    "\\# 1232   / 4 = 308<br>\n",
    "\\# 12322   / 5 = 2464.4         # Not a Whole Number<br>\n",
    "\\# 123220   /6 = 220536.333...  # Not a Whole Number<br>"
   ]
  },
  {
   "cell_type": "code",
   "execution_count": 17,
   "metadata": {},
   "outputs": [
    {
     "name": "stdout",
     "output_type": "stream",
     "text": [
      "is_polydivisible(1232) ➞ True\n",
      "is_polydivisible(123220) ➞ False\n"
     ]
    }
   ],
   "source": [
    "def is_polydivisible(num):\n",
    "    input_num = num\n",
    "    div = len(str(num))\n",
    "    flag=True\n",
    "    while num!=0:\n",
    "        if num%div == 0:\n",
    "            num = num//10\n",
    "            div -= 1\n",
    "        else: \n",
    "            flag=False\n",
    "            break\n",
    "    print(f'is_polydivisible({input_num}) ➞ {flag}')\n",
    "        \n",
    "is_polydivisible(1232)\n",
    "is_polydivisible(123220)"
   ]
  },
  {
   "cell_type": "markdown",
   "metadata": {},
   "source": [
    "#### 5. Create a function that takes a list of numbers and returns the sum of all prime numbers in the list.\n",
    "Examples:<br>\n",
    "sum_primes([1, 2, 3, 4, 5, 6, 7, 8, 9, 10]) ➞ 17<br>\n",
    "sum_primes([2, 3, 4, 11, 20, 50, 71]) ➞ 87<br>\n",
    "sum_primes([]) ➞ None<br>"
   ]
  },
  {
   "cell_type": "code",
   "execution_count": 23,
   "metadata": {},
   "outputs": [
    {
     "name": "stdout",
     "output_type": "stream",
     "text": [
      "sum_prices([1, 2, 3, 4, 5, 6, 7, 8, 9, 10]) ➞ 17\n",
      "sum_prices([2, 3, 4, 11, 20, 50, 71]) ➞ 87\n",
      "sum_prices([]) ➞ 0\n"
     ]
    }
   ],
   "source": [
    "def sum_primes(seq):\n",
    "    primes=[]\n",
    "    flag=True\n",
    "    seq_without_1 = [item for item in seq if item !=1]\n",
    "    for num in seq_without_1:\n",
    "        for i in range(2,num):\n",
    "            if num%i == 0:\n",
    "                flag = False\n",
    "                break\n",
    "        if flag == True:\n",
    "            primes.append(num)\n",
    "        flag=True\n",
    "    result = sum(primes)\n",
    "\n",
    "    print(f'sum_prices({seq}) ➞ {result}')\n",
    "        \n",
    "sum_primes([1, 2, 3, 4, 5, 6, 7, 8, 9, 10])\n",
    "sum_primes([2, 3, 4, 11, 20, 50, 71])\n",
    "sum_primes([])\n"
   ]
  }
 ],
 "metadata": {
  "interpreter": {
   "hash": "ed98f0601b831bcc7b83204b240d5de8690f3d4c7ae43c4dad5e24aa4ea3791d"
  },
  "kernelspec": {
   "display_name": "Python 3.9.7 ('base')",
   "language": "python",
   "name": "python3"
  },
  "language_info": {
   "codemirror_mode": {
    "name": "ipython",
    "version": 3
   },
   "file_extension": ".py",
   "mimetype": "text/x-python",
   "name": "python",
   "nbconvert_exporter": "python",
   "pygments_lexer": "ipython3",
   "version": "3.9.7"
  },
  "orig_nbformat": 4
 },
 "nbformat": 4,
 "nbformat_minor": 2
}
