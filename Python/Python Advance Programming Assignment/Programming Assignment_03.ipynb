{
 "cells": [
  {
   "cell_type": "markdown",
   "metadata": {},
   "source": [
    "#### 1. Create a function to perform basic arithmetic operations that includes addition, subtraction, multiplication and division on a string number (e.g. \"12 + 24\" or \"23 - 21\" or \"12 // 12\" or \"12 * 21\").\n",
    "Here, we have 1 followed by a space, operator followed by another space and 2. For the challenge, we are going to have only two numbers between 1 valid operator. The return value should be a number.\n",
    "eval() is not allowed. In case of division, whenever the second number equals \"0\" return -1.<br>\n",
    "For example: \"15 // 0\"  ➞ -1<br><br>\n",
    "**Examples:**<br>\n",
    "arithmetic_operation(\"12 + 12\") ➞ 24 // 12 + 12 = 24<br>\n",
    "arithmetic_operation(\"12 - 12\") ➞ 24 // 12 - 12 = 0<br>\n",
    "arithmetic_operation(\"12 * 12\") ➞ 144 // 12 * 12 = 144<br>\n",
    "arithmetic_operation(\"12 // 0\") ➞ -1 // 12 / 0 = -1"
   ]
  },
  {
   "cell_type": "code",
   "execution_count": 5,
   "metadata": {},
   "outputs": [
    {
     "name": "stdout",
     "output_type": "stream",
     "text": [
      "arithmetic_operation(12 + 12) ➞ 24\n",
      "arithmetic_operation(12 - 12) ➞ 0\n",
      "arithmetic_operation(12 * 12) ➞ 144\n",
      "arithmetic_operation(12 // 0) ➞ -1\n"
     ]
    }
   ],
   "source": [
    "import operator\n",
    "\n",
    "def arithmetic_operation(string):\n",
    "    operation = {'+':operator.add,'-':operator.sub,'*':operator.mul,'//':operator.floordiv}\n",
    "    val = string.split(' ')\n",
    "    result = operation[val[1]](int(val[0]), int(val[2])) if int(val[2]) != 0 else -1\n",
    "    print(f'arithmetic_operation({val[0]} {val[1]} {val[2]}) ➞ {result}')\n",
    "    \n",
    "arithmetic_operation(\"12 + 12\")\n",
    "arithmetic_operation(\"12 - 12\")\n",
    "arithmetic_operation(\"12 * 12\")\n",
    "arithmetic_operation(\"12 // 0\")\n"
   ]
  },
  {
   "cell_type": "markdown",
   "metadata": {},
   "source": [
    "#### 2. Write a function that takes the coordinates of three points in the form of a 2d array and returns the perimeter of the triangle. The given points are the vertices of a triangle on a two-dimensional plane.\n",
    "**Examples:**<br>\n",
    "perimeter( [ [15, 7], [5, 22], [11, 1] ] ) ➞ 47.08<br>\n",
    "perimeter( [ [0, 0], [0, 1], [1, 0] ] ) ➞ 3.42<br>\n",
    "perimeter( [ [-10, -10], [10, 10 ], [-10, 10] ] ) ➞ 68.28"
   ]
  },
  {
   "cell_type": "code",
   "execution_count": 7,
   "metadata": {},
   "outputs": [
    {
     "name": "stdout",
     "output_type": "stream",
     "text": [
      "perimeter([[15, 7], [5, 22], [11, 1]]) ➞ 47.08\n",
      "perimeter([[0, 0], [0, 1], [1, 0]]) ➞ 3.41\n",
      "perimeter([[-10, -10], [10, 10], [-10, 10]]) ➞ 68.28\n"
     ]
    }
   ],
   "source": [
    "import math\n",
    "\n",
    "def perimeter(seq):\n",
    "    peri = math.dist(seq[0], seq[1]) + math.dist(seq[1], seq[2]) + math.dist(seq[2], seq[0])\n",
    "    print(f'perimeter({seq}) ➞ {peri:.2f}')\n",
    "\n",
    "perimeter([[15,7],[5,22],[11,1]])\n",
    "perimeter([[0,0],[0,1],[1,0]])\n",
    "perimeter([[-10,-10],[10,10],[-10,10]])\n"
   ]
  },
  {
   "cell_type": "markdown",
   "metadata": {},
   "source": [
    "#### 3. A city skyline can be represented as a 2-D list with 1s representing buildings. In the example below, the height of the tallest building is 4 (second-most right column).\n",
    "[[0, 0, 0, 0, 0, 0],<br>\n",
    "[0, 0, 0, 0, 1, 0],<br>\n",
    "[0, 0, 1, 0, 1, 0],<br>\n",
    "[0, 1, 1, 1, 1, 0],<br>\n",
    "[1, 1, 1, 1, 1, 1]]<br><br>\n",
    "Create a function that takes a skyline (2-D list of 0's and 1's) and returns the height of the tallest skyscraper.<br><br>\n",
    "**Examples:**<br>\n",
    "tallest_skyscraper([[0, 0, 0, 0],[0, 1, 0, 0],[0, 1, 1, 0],[1, 1, 1, 1]]) ➞ 3<br>\n",
    "tallest_skyscraper([[0, 1, 0, 0],[0, 1, 0, 0],[0, 1, 1, 0],[1, 1, 1, 1]]) ➞ 4<br>\n",
    "tallest_skyscraper([[0, 0, 0, 0],[0, 0, 0, 0],[1, 1, 1, 0],[1, 1, 1, 1]]) ➞ 2"
   ]
  },
  {
   "cell_type": "code",
   "execution_count": 9,
   "metadata": {},
   "outputs": [
    {
     "name": "stdout",
     "output_type": "stream",
     "text": [
      "tallest_skyscraper([[0, 0, 0, 0], [0, 1, 0, 0], [0, 1, 1, 0], [1, 1, 1, 1]]) ➞ 3\n",
      "tallest_skyscraper([[0, 1, 0, 0], [0, 1, 0, 0], [0, 1, 1, 0], [1, 1, 1, 1]]) ➞ 4\n",
      "tallest_skyscraper([[0, 0, 0, 0], [0, 0, 0, 0], [1, 1, 1, 0], [1, 1, 1, 1]]) ➞ 2\n"
     ]
    }
   ],
   "source": [
    "def tallest_skyscraper(seq):\n",
    "    row = len(seq)\n",
    "    col = len(seq[0])\n",
    "    max_ = 0\n",
    "\n",
    "    for i in range(col):\n",
    "        count = 0\n",
    "        for j in range(row):\n",
    "            count += seq[j][i]\n",
    "        if  count > max_:\n",
    "            max_ = count\n",
    "    print(f'tallest_skyscraper({seq}) ➞ {max_}')\n",
    "        \n",
    "tallest_skyscraper([[0, 0, 0, 0],[0, 1, 0, 0],[0, 1, 1, 0],[1, 1, 1, 1]])\n",
    "tallest_skyscraper([[0, 1, 0, 0],[0, 1, 0, 0],[0, 1, 1, 0],[1, 1, 1, 1]])\n",
    "tallest_skyscraper([[0, 0, 0, 0],[0, 0, 0, 0],[1, 1, 1, 0],[1, 1, 1, 1]])    \n",
    "        "
   ]
  },
  {
   "cell_type": "markdown",
   "metadata": {},
   "source": [
    "#### 4. A financial institution provides professional services to banks and claims charges from the customers based on the number of man-days provided. Internally, it has set a scheme to motivate and reward staff to meet and exceed targeted billable utilization and revenues by paying a bonus for each day claimed from customers in excess of a threshold target.\n",
    "This quarterly scheme is calculated with a threshold target of 32 days per quarter, and the incentive payment for each billable day in excess of such threshold target is shown as follows:\n",
    "\n",
    "<table>\n",
    "  <tr>\n",
    "    <th>Days</th>\n",
    "    <th>Bonus</th>\n",
    "  </tr>\n",
    "  <tr>\n",
    "    <td>0 to 32 days </td>\n",
    "    <td>Zero</td>\n",
    "  </tr>\n",
    "  <tr>\n",
    "    <td>33 to 40 days</td>\n",
    "    <td>SGD$325 per billable day </td>\n",
    "  </tr>\n",
    "    <tr>\n",
    "    <td>41 to 48 days</td>\n",
    "    <td>SGD$550 per billable day</td>\n",
    "  </tr>\n",
    "    <tr>\n",
    "    <td>Greater than 48 days</td>\n",
    "    <td>SGD$600 per billable day</td>\n",
    "  </tr>\n",
    "</table>\n",
    "\n",
    "Please note that incentive payment is calculated progressively. As an example, if an employee reached total billable days of 45 in a quarter, his/her incentive payment is computed as follows:\n",
    "32\\*0 + 8\\*325 + 5\\*550 = 5350<br>\n",
    "Write a function to read the billable days of an employee and return the bonus he/she has obtained in that quarter.\n",
    "\n",
    "**Examples:**<br>\n",
    "bonus(15) ➞ 0<br>\n",
    "bonus(37) ➞ 1625<br>\n",
    "bonus(50) ➞ 8200"
   ]
  },
  {
   "cell_type": "code",
   "execution_count": 11,
   "metadata": {},
   "outputs": [
    {
     "name": "stdout",
     "output_type": "stream",
     "text": [
      "bonus(15) ➞ 0\n",
      "bonus(37) ➞ 1625\n",
      "bonus(50) ➞ 8200\n"
     ]
    }
   ],
   "source": [
    "def bonus(num):\n",
    "    if num > 48:\n",
    "        output = 0+(8*325)+(8*550)+((num-48)*600)\n",
    "    elif num < 48 and num >= 41:\n",
    "        output = 0+(8*325)+((num-41+1)*550)\n",
    "    elif num >33 and num <= 40:\n",
    "        output = 0+((num-33+1)*325)\n",
    "    else:\n",
    "        output = 0\n",
    "    print(f'bonus({num}) ➞ {output}')\n",
    "        \n",
    "bonus(15)\n",
    "bonus(37)\n",
    "bonus(50)\n"
   ]
  },
  {
   "cell_type": "markdown",
   "metadata": {},
   "source": [
    "#### 5. A number is said to be Disarium if the sum of its digits raised to their respective positions is the number itself.\n",
    "Create a function that determines whether a number is a Disarium or not.<br><br>\n",
    "**Examples:**<br>\n",
    "is_disarium(75) ➞ False<br>\n",
    "\\# 7^1 + 5^2 = 7 + 25 = 32<br>\n",
    "is_disarium(135) ➞ True<br>\n",
    "\\# 1^1 + 3^2 + 5^3 = 1 + 9 + 125 = 135<br>\n",
    "is_disarium(544) ➞ False<br>\n",
    "is_disarium(518) ➞ True<br>\n",
    "is_disarium(466) ➞ False<br>\n",
    "is_disarium(8) ➞ True"
   ]
  },
  {
   "cell_type": "code",
   "execution_count": 14,
   "metadata": {},
   "outputs": [
    {
     "name": "stdout",
     "output_type": "stream",
     "text": [
      "is_disarium(75) ➞ False\n",
      "is_disarium(135) ➞ True\n",
      "is_disarium(544) ➞ False\n",
      "is_disarium(518) ➞ True\n",
      "is_disarium(466) ➞ False\n",
      "is_disarium(8) ➞ True\n"
     ]
    }
   ],
   "source": [
    "def is_disarium(num):\n",
    "    string_num = str(num)\n",
    "    sum = 0\n",
    "    for i in range(len(string_num)):\n",
    "        sum += int(string_num[i])**(i+1)\n",
    "    if num == sum:\n",
    "        result = True\n",
    "    else: \n",
    "        result = False\n",
    "    print(f'is_disarium({num}) ➞ {result}')\n",
    "    \n",
    "is_disarium(75)\n",
    "is_disarium(135)\n",
    "is_disarium(544)\n",
    "is_disarium(518)\n",
    "is_disarium(466)\n",
    "is_disarium(8)\n",
    "\n"
   ]
  }
 ],
 "metadata": {
  "interpreter": {
   "hash": "ed98f0601b831bcc7b83204b240d5de8690f3d4c7ae43c4dad5e24aa4ea3791d"
  },
  "kernelspec": {
   "display_name": "Python 3.9.7 ('base')",
   "language": "python",
   "name": "python3"
  },
  "language_info": {
   "codemirror_mode": {
    "name": "ipython",
    "version": 3
   },
   "file_extension": ".py",
   "mimetype": "text/x-python",
   "name": "python",
   "nbconvert_exporter": "python",
   "pygments_lexer": "ipython3",
   "version": "3.9.7"
  },
  "orig_nbformat": 4
 },
 "nbformat": 4,
 "nbformat_minor": 2
}
