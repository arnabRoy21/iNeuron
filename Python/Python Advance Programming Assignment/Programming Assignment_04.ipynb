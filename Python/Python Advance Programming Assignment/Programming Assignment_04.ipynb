{
 "cells": [
  {
   "cell_type": "markdown",
   "metadata": {},
   "source": [
    "#### 1. In mathematics, the Fibonacci numbers, commonly denoted Fn, form a sequence, called the Fibonacci sequence, such that each number is the sum of the two preceding ones, starting from 0 and 1: \n",
    "\n",
    "$\n",
    "F_0 = 0,\\ F_1 = 1\\\\\n",
    "and\\\\\n",
    "F_n = F_{n-1} + F_{n-2}\\enspace for\\ n > 1\n",
    "$\n",
    "\n",
    "\n",
    "The beginning of the sequence is this: 0, 1, 1, 2, 3, 5, 8, 13, 21, 34, 55, 89, 144, ...<br>\n",
    "The function fastFib(num) returns the fibonacci number Fn, of the given num as an argument.<br><br>\n",
    "**Examples:**<br>\n",
    "fib_fast(5) ➞ 5<br>\n",
    "fib_fast(10) ➞ 55<br>\n",
    "fib_fast(20) ➞ 6765<br>\n",
    "fib_fast(50) ➞ 12586269025"
   ]
  },
  {
   "cell_type": "code",
   "execution_count": 1,
   "metadata": {},
   "outputs": [
    {
     "name": "stdout",
     "output_type": "stream",
     "text": [
      "fib_fast_two(5) ➞ 5\n",
      "fib_fast_two(10) ➞ 55\n",
      "fib_fast_two(20) ➞ 6765\n",
      "fib_fast_two(50) ➞ 12586269025\n"
     ]
    }
   ],
   "source": [
    "def fib_fast_two(num):\n",
    "    a,b,c = 0,1,0\n",
    "    for ele in range(num+1):\n",
    "        if ele > 1:\n",
    "            c = a+b\n",
    "            a = b\n",
    "            b = c\n",
    "    print(f'fib_fast_two({num}) ➞ {c}')\n",
    "\n",
    "fib_fast_two(5)\n",
    "fib_fast_two(10)\n",
    "fib_fast_two(20)\n",
    "fib_fast_two(50)"
   ]
  },
  {
   "cell_type": "markdown",
   "metadata": {},
   "source": [
    "#### 2. Create a function that takes a strings characters as ASCII and returns each characters hexadecimal value as a string.\n",
    "**Examples:**<br>\n",
    "convert_to_hex(\"hello world\") ➞ \"68 65 6c 6c 6f 20 77 6f 72 6c 64\"<br>\n",
    "convert_to_hex(\"Big Boi\") ➞ \"42 69 67 20 42 6f 69\"<br>\n",
    "convert_to_hex(\"Marty Poppinson\") ➞ \"4d 61 72 74 79 20 50 6f 70 70 69 6e 73 6f 6e\""
   ]
  },
  {
   "cell_type": "code",
   "execution_count": 5,
   "metadata": {},
   "outputs": [
    {
     "name": "stdout",
     "output_type": "stream",
     "text": [
      "convert_to_hex(hello world) ➞ 68 65 6c 6c 6f 20 77 6f 72 6c 64 \n",
      "convert_to_hex(Big Boi) ➞ 42 69 67 20 42 6f 69 \n",
      "convert_to_hex(Marty Poppinson) ➞ 4d 61 72 74 79 20 50 6f 70 70 69 6e 73 6f 6e \n"
     ]
    }
   ],
   "source": [
    "def convert_to_hex(string):\n",
    "    result = ''\n",
    "    for char in string:\n",
    "        result += str(hex(ord(char)))+\" \"\n",
    "    result = result.replace('0x', '')\n",
    "    print(f'convert_to_hex({string}) ➞ {result}')\n",
    "\n",
    "convert_to_hex(\"hello world\")\n",
    "convert_to_hex(\"Big Boi\")\n",
    "convert_to_hex(\"Marty Poppinson\")"
   ]
  },
  {
   "cell_type": "markdown",
   "metadata": {},
   "source": [
    "#### 3.Someone has attempted to censor my strings by replacing every vowel with a \\*, l\\*k\\* th\\*s. Luckily, I've been able to find the vowels that were removed.Given a censored string and a string of the censored vowels, return the original uncensored string.\n",
    "**Examples:**<br>\n",
    "uncensor(\"Wh\\*r\\* d\\*d my v\\*w\\*ls g\\*?\", \"eeioeo\") ➞ \"Where did my vowels go?\"<br>\n",
    "uncensor(\"abcd\", \"\") ➞ \"abcd\"<br>\n",
    "uncensor(\"\\*PP\\*RC\\*S\\*\", \"UEAE\") ➞ \"UPPERCASE\""
   ]
  },
  {
   "cell_type": "code",
   "execution_count": 7,
   "metadata": {},
   "outputs": [
    {
     "name": "stdout",
     "output_type": "stream",
     "text": [
      "uncensor('Wh*r* d*d my v*w*ls g*?', 'eeioeo') ➞ Where did my vowels go?\n",
      "uncensor('abcd', '') ➞ abcd\n",
      "uncensor('*PP*RC*S*', 'UEAE') ➞ UPPERCASE\n"
     ]
    }
   ],
   "source": [
    "def uncensor(string, replaced_chars):\n",
    "    idx = 0\n",
    "    result = ''\n",
    "    for char in string:\n",
    "        if char != '*':\n",
    "            result += char\n",
    "        else: \n",
    "            result += replaced_chars[idx]\n",
    "            idx += 1\n",
    "    print(f'uncensor{string, replaced_chars} ➞ {result}')\n",
    "\n",
    "uncensor(\"Wh*r* d*d my v*w*ls g*?\", \"eeioeo\")\n",
    "uncensor(\"abcd\", \"\")\n",
    "uncensor(\"*PP*RC*S*\", \"UEAE\") \n"
   ]
  },
  {
   "cell_type": "code",
   "execution_count": null,
   "metadata": {},
   "outputs": [],
   "source": []
  }
 ],
 "metadata": {
  "interpreter": {
   "hash": "ed98f0601b831bcc7b83204b240d5de8690f3d4c7ae43c4dad5e24aa4ea3791d"
  },
  "kernelspec": {
   "display_name": "Python 3.9.7 ('base')",
   "language": "python",
   "name": "python3"
  },
  "language_info": {
   "codemirror_mode": {
    "name": "ipython",
    "version": 3
   },
   "file_extension": ".py",
   "mimetype": "text/x-python",
   "name": "python",
   "nbconvert_exporter": "python",
   "pygments_lexer": "ipython3",
   "version": "3.9.7"
  },
  "orig_nbformat": 4
 },
 "nbformat": 4,
 "nbformat_minor": 2
}
