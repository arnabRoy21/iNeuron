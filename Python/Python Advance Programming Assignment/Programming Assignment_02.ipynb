{
 "cells": [
  {
   "cell_type": "markdown",
   "metadata": {},
   "source": [
    "#### 1. Write a function that takes a positive integer num and calculates how many dots exist in a pentagonal shape around the center dot on the Nth iteration. In the image below you can see the first iteration is only a single dot. On the second, there are 6 dots. On the third, there are 16 dots, and on the fourth there are 31 dots.  Return the number of dots that exist in the whole pentagon on the Nth iteration.\n",
    "\n",
    "**Example:**<br>\n",
    "pentagonal(1) ➞ 1<br>\n",
    "pentagonal(2) ➞ 6<br>\n",
    "pentagonal(3) ➞ 16<br>\n",
    "pentagonal(8) ➞ 141\n",
    "\n"
   ]
  },
  {
   "cell_type": "code",
   "execution_count": 2,
   "metadata": {},
   "outputs": [
    {
     "name": "stdout",
     "output_type": "stream",
     "text": [
      "pentagonal(1) ➞ 1\n",
      "pentagonal(2) ➞ 6\n",
      "pentagonal(3) ➞ 16\n",
      "pentagonal(8) ➞ 141\n"
     ]
    }
   ],
   "source": [
    "def pentagonal(num):\n",
    "    print(f'pentagonal({num}) ➞ {int(5*num*(num-1)/2 + 1)}')\n",
    "\n",
    "pentagonal(1)\n",
    "pentagonal(2)\n",
    "pentagonal(3)\n",
    "pentagonal(8)"
   ]
  },
  {
   "cell_type": "markdown",
   "metadata": {},
   "source": [
    "#### 2. Make a function that encrypts a given input with these steps:\n",
    "**Input:** \"apple\"<br>\n",
    "**Step 1:** Reverse the input: \"elppa\"<br>\n",
    "**Step 2:** Replace all vowels using the following chart:<br>\n",
    "a => 0<br>\n",
    "e => 1<br>\n",
    "i => 2<br>\n",
    "o => 2<br>\n",
    "u => 3<br>\n",
    "\\# \"1lpp0\"<br>\n",
    "**Step 3:** Add \"aca\" to the end of the word: \"1lpp0aca\"<br><br>\n",
    "**Output:** \"1lpp0aca\"<br><br>\n",
    "**Example:**<br>\n",
    "encrypt(\"banana\") ➞ \"0n0n0baca\"<br>\n",
    "encrypt(\"karaca\") ➞ \"0c0r0kaca\"<br>\n",
    "encrypt(\"burak\") ➞ \"k0r3baca\"<br>\n",
    "encrypt(\"alpaca\") ➞ \"0c0pl0aca\"<br>\n",
    "\n"
   ]
  },
  {
   "cell_type": "code",
   "execution_count": 1,
   "metadata": {},
   "outputs": [
    {
     "name": "stdout",
     "output_type": "stream",
     "text": [
      "encrypt(banana) ➞ 0n0n0baca\n",
      "encrypt(karaca) ➞ 0c0r0kaca\n",
      "encrypt(burak) ➞ k0r3baca\n",
      "encrypt(alpaca) ➞ 0c0pl0aca\n"
     ]
    }
   ],
   "source": [
    "def encrypt(string):\n",
    "    rev_string = string[::-1]\n",
    "    mapping = {\n",
    "        'a': '0',\n",
    "        'e': '1',\n",
    "        'i': '2',\n",
    "        'o': '2',\n",
    "        'u': '3'\n",
    "    }\n",
    "    encrypted_string = ''\n",
    "    for char in rev_string:\n",
    "        if char in mapping:\n",
    "            encrypted_string += mapping[char]\n",
    "        else:\n",
    "            encrypted_string += char\n",
    "    encrypted_string += 'aca'\n",
    "    print(f'encrypt({string}) ➞ {encrypted_string}')\n",
    "\n",
    "encrypt(\"banana\")\n",
    "encrypt(\"karaca\")\n",
    "encrypt(\"burak\")\n",
    "encrypt(\"alpaca\")"
   ]
  },
  {
   "cell_type": "markdown",
   "metadata": {},
   "source": [
    "#### 3. Given the month and year as numbers, return whether that month contains a Friday 13th.(i.e You can check Python's datetime module)\n",
    "**Example:**<br>\n",
    "has_friday_13(3, 2020) ➞ True<br>\n",
    "has_friday_13(10, 2017) ➞ True<br>\n",
    "has_friday_13(1, 1985) ➞ False<br>\n",
    "\n"
   ]
  },
  {
   "cell_type": "code",
   "execution_count": 12,
   "metadata": {},
   "outputs": [
    {
     "name": "stdout",
     "output_type": "stream",
     "text": [
      "has_friday_13(3, 2020) ➞ True\n",
      "has_friday_13(10, 2017) ➞ True\n",
      "has_friday_13(1, 1985) ➞ False\n"
     ]
    }
   ],
   "source": [
    "import datetime\n",
    "def has_friday_13(month, year):\n",
    "    output = False\n",
    "    if datetime.datetime(year,month,13).strftime('%A') == 'Friday':\n",
    "        output = True\n",
    "    print(f'has_friday_13{month,year} ➞ {output}')\n",
    "\n",
    "has_friday_13(3, 2020)\n",
    "has_friday_13(10, 2017)\n",
    "has_friday_13(1, 1985)"
   ]
  },
  {
   "cell_type": "markdown",
   "metadata": {},
   "source": [
    "#### 4. Write a regular expression that will help us count how many bad cookies are produced every day. You must use RegEx negative lookbehind.\n",
    "**Example:**<br>\n",
    "lst = [\"bad cookie\", \"good cookie\", \"bad cookie\", \"good cookie\", \"good cookie\"]<br>\n",
    "pattern = \"yourregularexpressionhere\"<br>\n",
    "len(re.findall(pattern, \", \".join(lst))) ➞ 2\n",
    "\n",
    "\n"
   ]
  },
  {
   "cell_type": "code",
   "execution_count": 8,
   "metadata": {},
   "outputs": [
    {
     "name": "stdout",
     "output_type": "stream",
     "text": [
      "No of Bad cookies produced per day ➞ 2\n"
     ]
    }
   ],
   "source": [
    "import re\n",
    "lst = [\"bad cookie\", \"good cookie\", \"bad cookie\", \"good cookie\", \"good cookie\"]\n",
    "pattern = r'(?<!good)\\scookie'\n",
    "data = re.findall(pattern,' '.join(lst))\n",
    "print(f'No of Bad cookies produced per day ➞ {len(data)}')"
   ]
  },
  {
   "cell_type": "markdown",
   "metadata": {},
   "source": [
    "#### 5. Given a list of words in the singular form, return a set of those words in the plural form if they appear more than once in the list.\n",
    "**Examples:**<br>\n",
    "pluralize([\"cow\", \"pig\", \"cow\", \"cow\"]) ➞ { \"cows\", \"pig\" }<br>\n",
    "pluralize([\"table\", \"table\", \"table\"]) ➞ { \"tables\" }<br>\n",
    "pluralize([\"chair\", \"pencil\", \"arm\"]) ➞ { \"chair\", \"pencil\", \"arm\" }"
   ]
  },
  {
   "cell_type": "code",
   "execution_count": 5,
   "metadata": {},
   "outputs": [
    {
     "name": "stdout",
     "output_type": "stream",
     "text": [
      "pluralize(['cow', 'pig', 'cow', 'cow']) ➞ {'pig', 'cows'}\n",
      "pluralize(['table', 'table', 'table']) ➞ {'tables'}\n",
      "pluralize(['chair', 'pencil', 'arm']) ➞ {'pencil', 'arm', 'chair'}\n"
     ]
    }
   ],
   "source": [
    "def pluralize(seq):\n",
    "    output = set()\n",
    "    for char in set(seq):\n",
    "        if seq.count(char) > 1:\n",
    "            output.add(char+'s')\n",
    "        else: \n",
    "            output.add(char)    \n",
    "    print(f'pluralize({seq}) ➞ {output}')\n",
    "                \n",
    "pluralize([\"cow\", \"pig\", \"cow\", \"cow\"])\n",
    "pluralize([\"table\", \"table\", \"table\"])\n",
    "pluralize([\"chair\", \"pencil\", \"arm\"])\n"
   ]
  }
 ],
 "metadata": {
  "interpreter": {
   "hash": "ed98f0601b831bcc7b83204b240d5de8690f3d4c7ae43c4dad5e24aa4ea3791d"
  },
  "kernelspec": {
   "display_name": "Python 3.9.7 ('base')",
   "language": "python",
   "name": "python3"
  },
  "language_info": {
   "codemirror_mode": {
    "name": "ipython",
    "version": 3
   },
   "file_extension": ".py",
   "mimetype": "text/x-python",
   "name": "python",
   "nbconvert_exporter": "python",
   "pygments_lexer": "ipython3",
   "version": "3.9.7"
  },
  "orig_nbformat": 4
 },
 "nbformat": 4,
 "nbformat_minor": 2
}
