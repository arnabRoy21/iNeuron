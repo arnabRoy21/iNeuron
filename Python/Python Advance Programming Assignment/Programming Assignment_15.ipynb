{
 "cells": [
  {
   "cell_type": "markdown",
   "metadata": {},
   "source": [
    "#### 1. Write a function that returns True if a given name can generate an array of words.\n",
    "**Examples:**<br>\n",
    "anagram(\"Justin Bieber\", [\"injures\", \"ebb\", \"it\"]) ➞ True<br>\n",
    "anagram(\"Natalie Portman\", [\"ornamental\", \"pita\"]) ➞ True<br>\n",
    "anagram(\"Chris Pratt\", [\"chirps\", \"rat\"]) ➞ False<br>\n",
    "\\# Not all letters are used<br>\n",
    "anagram(\"Jeff Goldblum\", [\"jog\", \"meld\", \"bluffs\"]) ➞ False<br>\n",
    "\\# \"s\" does not exist in the original name"
   ]
  },
  {
   "cell_type": "code",
   "execution_count": 11,
   "metadata": {},
   "outputs": [
    {
     "name": "stdout",
     "output_type": "stream",
     "text": [
      "anagram('Justin Bieber', ['injures', 'ebb', 'it']) ➞ True\n",
      "anagram('Natalie Portman', ['ornamental', 'pita']) ➞ True\n",
      "anagram('Chris Pratt', ['chirps', 'rat']) ➞ False\n",
      "anagram('Jeff Goldblum', ['jog', 'meld', 'bluffs']) ➞ False\n"
     ]
    }
   ],
   "source": [
    "def anagram(in_string,in_list):\n",
    "    in_string_list = list(in_string.lower())\n",
    "    in_string_list.remove(' ')\n",
    "    not_exist_list = []\n",
    "    output = False\n",
    "    for item in in_list:\n",
    "        for ele in item:\n",
    "            if ele in in_string_list:\n",
    "                in_string_list.remove(ele)\n",
    "            else:\n",
    "                not_exist_list.append(ele)\n",
    "    if len(in_string_list) == 0 and len(not_exist_list) == 0:\n",
    "        output = True\n",
    "    print(f'anagram{in_string,in_list} ➞ {output}')\n",
    "            \n",
    "anagram(\"Justin Bieber\", [\"injures\", \"ebb\", \"it\"])\n",
    "anagram(\"Natalie Portman\", [\"ornamental\", \"pita\"])\n",
    "anagram(\"Chris Pratt\", [\"chirps\", \"rat\"])\n",
    "anagram(\"Jeff Goldblum\", [\"jog\", \"meld\", \"bluffs\"])"
   ]
  },
  {
   "cell_type": "markdown",
   "metadata": {},
   "source": [
    "#### 2. Given an array of users, each defined by an object with the following properties: name, score, reputation create a function that sorts the array to form the correct leaderboard.\n",
    "The leaderboard takes into consideration the score of each user of course, but an emphasis is put on their reputation in the community, so to get the trueScore, you should add the reputation multiplied by 2 to the score.<br>\n",
    "\n",
    "Once you know the trueScore of each user, sort the array according to it in descending order.<br>\n",
    "\n",
    "**Examples:**<br>\n",
    "leaderboards([<br>\n",
    "  &emsp;{ \"name\": \"a\", \"score\": 100, \"reputation\": 20 },<br>\n",
    "  &emsp;{ \"name\": \"b\", \"score\": 90, \"reputation\": 40 },<br>\n",
    "  &emsp;{ \"name\": \"c\", \"score\": 115, \"reputation\": 30 },<br>\n",
    "]) ➞ [<br>\n",
    "  &emsp;{ \"name\": \"c\", \"score\": 115, \"reputation\": 30 },  # trueScore = 175<br>\n",
    "  &emsp;{ \"name\": \"b\", \"score\": 90, \"reputation\": 40 },   # trueScore = 170<br>\n",
    "  &emsp;{ \"name\": \"a\", \"score\": 100, \"reputation\": 20 }   # trueScore = 140<br>\n",
    "]"
   ]
  },
  {
   "cell_type": "code",
   "execution_count": 6,
   "metadata": {},
   "outputs": [
    {
     "name": "stdout",
     "output_type": "stream",
     "text": [
      "leaderboards([{'name': 'a', 'score': 100, 'reputation': 20}, {'name': 'b', 'score': 90, 'reputation': 40}, {'name': 'c', 'score': 115, 'reputation': 30}]) ➞ [{'name': 'c', 'score': 115, 'reputation': 30}, {'name': 'b', 'score': 90, 'reputation': 40}, {'name': 'a', 'score': 100, 'reputation': 20}]\n"
     ]
    }
   ],
   "source": [
    "def leaderboards(seq):\n",
    "    sorted_seq = sorted(seq, key=lambda x: x['score'] + x['reputation']*2, reverse=True)\n",
    "    print(f'leaderboards({seq}) ➞ {sorted_seq}')\n",
    "    \n",
    "leaderboards([\n",
    "  { \"name\": \"a\", \"score\": 100, \"reputation\": 20 },\n",
    "  { \"name\": \"b\", \"score\": 90, \"reputation\": 40 },\n",
    "  { \"name\": \"c\", \"score\": 115, \"reputation\": 30 },\n",
    "])"
   ]
  },
  {
   "cell_type": "markdown",
   "metadata": {},
   "source": [
    "#### 3. Create a function that, given a phrase and a number of letters guessed, returns a string with hyphens - for every letter of the phrase not guessed, and each letter guessed in place.\n",
    "**Examples:**<br>\n",
    "hangman(\"helicopter\", [\"o\", \"e\", \"s\"]) ➞ \"-e---o--e-\"<br>\n",
    "hangman(\"tree\", [\"r\", \"t\", \"e\"]) ➞ \"tree\"<br>\n",
    "hangman(\"Python rules\", [\"a\", \"n\", \"p\", \"r\", \"z\"]) ➞ \"P----n r----\"<br>\n",
    "hangman(\"He\"s a very naughty boy!\", [\"e\", \"a\", \"y\"]) ➞ \"-e\"- a -e-y -a----y –y!\""
   ]
  },
  {
   "cell_type": "code",
   "execution_count": 10,
   "metadata": {},
   "outputs": [
    {
     "name": "stdout",
     "output_type": "stream",
     "text": [
      "hangman('helicopter', ['o', 'e', 's']) ➞ -e---o--e-\n",
      "hangman('tree', ['r', 't', 'e']) ➞ tree\n",
      "hangman('Python rules', ['a', 'n', 'p', 'r', 'z']) ➞ -----n r----\n",
      "hangman('He\"s a very naughty boy!', ['e', 'a', 'y']) ➞ -e-- a -e-y -a----y --y-\n"
     ]
    }
   ],
   "source": [
    "def hangman(string, seq):\n",
    "    result = ''\n",
    "    for char in string:\n",
    "        if char not in seq and char != ' ': result += '-'\n",
    "        else: result += char\n",
    "    print(f'hangman{string,seq} ➞ {result}')\n",
    "        \n",
    "hangman(\"helicopter\", [\"o\", \"e\", \"s\"])\n",
    "hangman(\"tree\", [\"r\", \"t\", \"e\"])\n",
    "hangman(\"Python rules\", [\"a\", \"n\", \"p\", \"r\", \"z\"])\n",
    "hangman(\"He\\\"s a very naughty boy!\", [\"e\", \"a\", \"y\"])"
   ]
  },
  {
   "cell_type": "markdown",
   "metadata": {},
   "source": [
    "#### 4. The Collatz sequence is as follows:\n",
    "- Start with some given integer n.\n",
    "- If it is even, the next number will be n divided by 2.\n",
    "- If it is odd, multiply it by 3 and add 1 to make the next number.\n",
    "- The sequence stops when it reaches 1.\n",
    "\n",
    "According to the Collatz conjecture, it will always reach 1. If that's true, you can construct a finite sequence following the aforementioned method for any given integer.\n",
    "\n",
    "Write a function that takes in an integer n and returns the highest integer in the corresponding Collatz sequence.\n",
    "\n",
    "**Examples:**<br>\n",
    "max_collatz(10) ➞ 16\n",
    "\\# Collatz sequence: 10, 5, 16, 8, 4, 2, 1\n",
    "\n",
    "max_collatz(32) ➞ 32\n",
    "\\# Collatz sequence: 32, 16, 8, 4, 2, 1\n",
    "\n",
    "max_collatz(85) ➞ 256\n",
    "\\# Collatz sequence: 85, 256, 128, 64, 32, 16, 8, 4, 2, 1"
   ]
  },
  {
   "cell_type": "code",
   "execution_count": 16,
   "metadata": {},
   "outputs": [
    {
     "name": "stdout",
     "output_type": "stream",
     "text": [
      "max_collatz(1) ➞ 16\n",
      "max_collatz(1) ➞ 32\n",
      "max_collatz(1) ➞ 256\n"
     ]
    }
   ],
   "source": [
    "def max_collatz(num):\n",
    "    collatz_seq = []\n",
    "    while num != 1:\n",
    "        collatz_seq.append(num)\n",
    "        if num%2==0: num=num//2\n",
    "        else: num=num*3+1\n",
    "    print(f'max_collatz({num}) ➞ {max(collatz_seq)}')\n",
    "\n",
    "max_collatz(10)\n",
    "max_collatz(32)\n",
    "max_collatz(85)"
   ]
  },
  {
   "cell_type": "markdown",
   "metadata": {},
   "source": [
    "#### 5. Write a function that sorts a list of integers by their digit length in descending order, then settles ties by sorting numbers with the same digit length in ascending order.\n",
    "**Examples:**<br>\n",
    "digit_sort([77, 23, 5, 7, 101]) ➞ [101, 23, 77, 5, 7]<br>\n",
    "digit_sort([1, 5, 9, 2, 789, 563, 444]) ➞ [444, 563, 789, 1, 2, 5, 9]<br>\n",
    "digit_sort([53219, 3772, 564, 32, 1]) ➞ [53219, 3772, 564, 32, 1]"
   ]
  },
  {
   "cell_type": "code",
   "execution_count": 19,
   "metadata": {},
   "outputs": [
    {
     "name": "stdout",
     "output_type": "stream",
     "text": [
      "digit_sort([77, 23, 5, 7, 101]) ➞ [101, 23, 77, 5, 7]\n",
      "digit_sort([1, 5, 9, 2, 789, 563, 444]) ➞ [444, 563, 789, 1, 2, 5, 9]\n",
      "digit_sort([53219, 3772, 564, 32, 1]) ➞ [53219, 3772, 564, 32, 1]\n"
     ]
    }
   ],
   "source": [
    "def digit_sort(in_list):\n",
    "    max_len = len(str(max(in_list)))\n",
    "    output = []\n",
    "    for item in range(max_len,0,-1):\n",
    "        temp = []\n",
    "        for ele in in_list:\n",
    "            if len(str(ele)) == item:\n",
    "                temp.append(ele)\n",
    "        output.extend(sorted(temp))\n",
    "    print(f'digit_sort({in_list}) ➞ {output}')\n",
    "    \n",
    "digit_sort([77, 23, 5, 7, 101])\n",
    "digit_sort([1, 5, 9, 2, 789, 563, 444])\n",
    "digit_sort([53219, 3772, 564, 32, 1])"
   ]
  }
 ],
 "metadata": {
  "interpreter": {
   "hash": "ed98f0601b831bcc7b83204b240d5de8690f3d4c7ae43c4dad5e24aa4ea3791d"
  },
  "kernelspec": {
   "display_name": "Python 3.9.7 ('base')",
   "language": "python",
   "name": "python3"
  },
  "language_info": {
   "codemirror_mode": {
    "name": "ipython",
    "version": 3
   },
   "file_extension": ".py",
   "mimetype": "text/x-python",
   "name": "python",
   "nbconvert_exporter": "python",
   "pygments_lexer": "ipython3",
   "version": "3.9.7"
  },
  "orig_nbformat": 4
 },
 "nbformat": 4,
 "nbformat_minor": 2
}
