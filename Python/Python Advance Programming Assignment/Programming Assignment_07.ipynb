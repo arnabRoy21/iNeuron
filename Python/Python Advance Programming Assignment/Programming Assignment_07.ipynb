{
 "cells": [
  {
   "cell_type": "markdown",
   "metadata": {},
   "source": [
    "#### 1. Write a function that counts how many concentric layers a rug.\n",
    "**Examples:**<br>\n",
    "count_layers([<br>\n",
    "&emsp;\"AAAA\",<br>\n",
    "&emsp;\"ABBA\",<br>\n",
    "&emsp;\"AAAA\"<br>\n",
    "]) ➞ 2<br><br>\n",
    "count_layers([<br>\n",
    "&emsp;\"AAAAAAAAA\",<br>\n",
    "&emsp;\"ABBBBBBBA\",<br>\n",
    "&emsp;\"ABBAAABBA\",<br>\n",
    "&emsp;\"ABBBBBBBA\",<br>\n",
    "&emsp;\"AAAAAAAAA\"<br>\n",
    "]) ➞ 3<br><br>\n",
    "count_layers([<br>\n",
    "&emsp;\"AAAAAAAAAAA\",<br>\n",
    "&emsp;\"AABBBBBBBAA\",<br>\n",
    "&emsp;\"AABCCCCCBAA\",<br>\n",
    "&emsp;\"AABCAAACBAA\",<br>\n",
    "&emsp;\"AABCADACBAA\",<br>\n",
    "&emsp;\"AABCAAACBAA\",<br>\n",
    "&emsp;\"AABCCCCCBAA\",<br>\n",
    "&emsp;\"AABBBBBBBAA\",<br>\n",
    "&emsp;\"AAAAAAAAAAA\"<br>\n",
    "]) ➞ 5"
   ]
  },
  {
   "cell_type": "code",
   "execution_count": 8,
   "metadata": {},
   "outputs": [
    {
     "name": "stdout",
     "output_type": "stream",
     "text": [
      "count_layers(['AAAA', 'ABBA', 'AAAA']) ➞ 2\n",
      "count_layers(['AAAAAAAAA', 'ABBBBBBBA', 'ABBAAABBA', 'ABBBBBBBA', 'AAAAAAAAA']) ➞ 3\n",
      "count_layers(['AAAAAAAAAAA', 'AABBBBBBBAA', 'AABCCCCCBAA', 'AABCAAACBAA', 'AABCADACBAA', 'AABCAAACBAA', 'AABCCCCCBAA', 'AABBBBBBBAA', 'AAAAAAAAAAA']) ➞ 5\n"
     ]
    }
   ],
   "source": [
    "def count_layers(array):\n",
    "    if len(array[0]) < len(array): num = len(array[0])\n",
    "    else: num = len(array)\n",
    "    result = num // 2 + 1\n",
    "    print(f'count_layers({array}) ➞ {result}')\n",
    "\n",
    "count_layers([\n",
    "\"AAAA\",\n",
    "\"ABBA\",\n",
    "\"AAAA\"\n",
    "])\n",
    "\n",
    "count_layers([\n",
    "\"AAAAAAAAA\",\n",
    "\"ABBBBBBBA\",\n",
    "\"ABBAAABBA\",\n",
    "\"ABBBBBBBA\",\n",
    "\"AAAAAAAAA\"\n",
    "])\n",
    "\n",
    "count_layers([\n",
    "\"AAAAAAAAAAA\",\n",
    "\"AABBBBBBBAA\",\n",
    "\"AABCCCCCBAA\",\n",
    "\"AABCAAACBAA\",\n",
    "\"AABCADACBAA\",\n",
    "\"AABCAAACBAA\",\n",
    "\"AABCCCCCBAA\",\n",
    "\"AABBBBBBBAA\",\n",
    "\"AAAAAAAAAAA\"\n",
    "])"
   ]
  },
  {
   "cell_type": "markdown",
   "metadata": {},
   "source": [
    "#### 2. There are many different styles of music and many albums exhibit multiple styles. Create a function that takes a list of musical styles from albums and returns how many styles are unique.\n",
    "**Examples:**<br>\n",
    "unique_styles([<br>\n",
    "  &emsp;\"Dub,Dancehall\",<br>\n",
    "  &emsp;\"Industrial,Heavy Metal\",<br>\n",
    "  &emsp;\"Techno,Dubstep\",<br>\n",
    "  &emsp;\"Synth-pop,Euro-Disco\",<br>\n",
    "  &emsp;\"Industrial,Techno,Minimal\"<br>\n",
    "]) ➞ 9<br><br>\n",
    "unique_styles([<br>\n",
    "  &emsp;\"Soul\",<br>\n",
    "  &emsp;\"House,Folk\",<br>\n",
    "  &emsp;\"Trance,Downtempo,Big Beat,House\",<br>\n",
    "  &emsp;\"Deep House\",<br>\n",
    "  &emsp;\"Soul\"<br>\n",
    "]) ➞ 7"
   ]
  },
  {
   "cell_type": "code",
   "execution_count": 9,
   "metadata": {},
   "outputs": [
    {
     "name": "stdout",
     "output_type": "stream",
     "text": [
      "unique_styles(['Dub,Dancehall', 'Industrial,Heavy Metal', 'Techno,Dubstep', 'Synth-pop,Euro-Disco', 'Industrial,Techno,Minimal']) ➞ 9\n",
      "unique_styles(['Soul', 'House,Folk', 'Trance,Downtempo,Big Beat,House', 'Deep House', 'Soul']) ➞ 7\n"
     ]
    }
   ],
   "source": [
    "def unique_styles(in_list):\n",
    "    out_list = []\n",
    "    for ele in in_list:\n",
    "        for sub_ele in ele.split(','):\n",
    "            out_list.append(sub_ele)\n",
    "    print(f'unique_styles({in_list}) ➞ {len(set(out_list))}')\n",
    "                \n",
    "unique_styles([\"Dub,Dancehall\",\"Industrial,Heavy Metal\",\"Techno,Dubstep\",\"Synth-pop,Euro-Disco\",\"Industrial,Techno,Minimal\"]) \n",
    "unique_styles([\"Soul\",\"House,Folk\",\"Trance,Downtempo,Big Beat,House\",\"Deep House\",\"Soul\"])"
   ]
  },
  {
   "cell_type": "markdown",
   "metadata": {},
   "source": [
    "#### 3. Create a function that finds a target number in a list of prime numbers. Implement a binary search algorithm in your function. The target number will be from 2 through 97. If the target is prime then return \"yes\" else return \"no\".\n",
    "**Examples:**<br>\n",
    "primes = [2, 3, 5, 7, 11, 13, 17, 19, 23, 29, 31, 37, 41, 43, 47, 53, 59, 61, 67, 71, 73, 79, 83, 89, 97]<br>\n",
    "is_prime(primes, 3) ➞ \"yes\"<br>\n",
    "is_prime(primes, 4) ➞ \"no\"<br>\n",
    "is_prime(primes, 67) ➞ \"yes\"<br>\n",
    "is_prime(primes, 36) ➞ \"no\"<br>"
   ]
  },
  {
   "cell_type": "code",
   "execution_count": 16,
   "metadata": {},
   "outputs": [
    {
     "name": "stdout",
     "output_type": "stream",
     "text": [
      "is_prime(3) ➞ Yes\n",
      "is_prime(4) ➞ No\n",
      "is_prime(67) ➞ Yes\n",
      "is_prime(36) ➞ No\n"
     ]
    }
   ],
   "source": [
    "primes = [2, 3, 5, 7, 11, 13, 17, 19, 23, 29, 31, 37, 41, 43, 47, 53, 59, 61, 67, 71, 73, 79, 83, 89, 97]\n",
    "\n",
    "def is_prime(in_list,in_num):\n",
    "    output = 'No'\n",
    "    start_point = 0\n",
    "    end_point = len(in_list) - 1\n",
    "    mid_point = 0\n",
    "    while start_point <= end_point:\n",
    "        mid_point = (end_point+start_point)//2\n",
    "        if in_list[mid_point] < in_num:\n",
    "            start_point = mid_point + 1\n",
    "        elif in_list[mid_point] > in_num:\n",
    "            end_point = mid_point - 1\n",
    "        else:\n",
    "            output = 'Yes'\n",
    "            break\n",
    "    print(f'is_prime({in_num}) ➞ {output}')\n",
    "\n",
    "is_prime(primes, 3)\n",
    "is_prime(primes, 4)\n",
    "is_prime(primes, 67)\n",
    "is_prime(primes, 36)"
   ]
  },
  {
   "cell_type": "markdown",
   "metadata": {},
   "source": [
    "#### 4. Create a function that takes in n, a, b and returns the number of positive values raised to the nth power that lie in the range [a, b], inclusive.\n",
    "**Examples:**<br>\n",
    "power_ranger(2, 49, 65) ➞ 2<br>\n",
    "\\# 2 squares (n^2) lie between 49 and 65, 49 (7^2) and 64 (8^2)<br>\n",
    "\n",
    "power_ranger(3, 1, 27) ➞ 3<br>\n",
    "\\# 3 cubes (n^3) lie between 1 and 27, 1 (1^3), 8 (2^3) and 27 (3^3)<br>\n",
    "\n",
    "power_ranger(10, 1, 5) ➞ 1<br>\n",
    "\\# 1 value raised to the 10th power lies between 1 and 5, 1 (1^10)<br>\n",
    "\n",
    "power_ranger(5, 31, 33) ➞ 1<br>\n",
    "power_ranger(4, 250, 1300) ➞ 3<br>"
   ]
  },
  {
   "cell_type": "code",
   "execution_count": 13,
   "metadata": {},
   "outputs": [
    {
     "name": "stdout",
     "output_type": "stream",
     "text": [
      "power_ranger((2, 49, 65)) ➞ 2\n",
      "power_ranger((3, 1, 27)) ➞ 3\n",
      "power_ranger((10, 1, 5)) ➞ 1\n",
      "power_ranger((5, 31, 33)) ➞ 1\n",
      "power_ranger((4, 250, 1300)) ➞ 3\n"
     ]
    }
   ],
   "source": [
    "def power_ranger(n, a, b):\n",
    "    count = 0\n",
    "    i = 0\n",
    "    while(i**n <= b):\n",
    "        if i**n >= a:\n",
    "            count += 1\n",
    "        i += 1\n",
    "    print(f'power_ranger({n, a, b}) ➞ {count}')\n",
    "\n",
    "power_ranger(2, 49, 65)\n",
    "power_ranger(3, 1, 27)\n",
    "power_ranger(10, 1, 5)\n",
    "power_ranger(5, 31, 33)\n",
    "power_ranger(4, 250, 1300)"
   ]
  },
  {
   "cell_type": "markdown",
   "metadata": {},
   "source": [
    "#### 5. Given a number, return the difference between the maximum and minimum numbers that can be formed when the digits are rearranged.\n",
    "**Examples:**<br>\n",
    "rearranged_difference(972882) ➞ 760833<br>\n",
    "\\# 988722 - 227889 = 760833<br>\n",
    "rearranged_difference(3320707) ➞ 7709823<br>\n",
    "\\# 7733200 - 23377 = 7709823<br>\n",
    "rearranged_difference(90010) ➞ 90981<br>\n",
    "\\# 91000 - 19 = 90981"
   ]
  },
  {
   "cell_type": "code",
   "execution_count": 15,
   "metadata": {},
   "outputs": [
    {
     "name": "stdout",
     "output_type": "stream",
     "text": [
      "rearranged_difference(972882) ➞ 760833\n",
      "rearranged_difference(3320707) ➞ 7709823\n",
      "rearranged_difference(90010) ➞ 90981\n"
     ]
    }
   ],
   "source": [
    "def rearranged_difference(num):\n",
    "    string_num = str(num)\n",
    "    max = int(''.join(sorted(string_num, reverse=True)))\n",
    "    min = int(''.join(sorted(string_num)))\n",
    "    diff = max - min\n",
    "    print(f'rearranged_difference({num}) ➞ {diff}')\n",
    "\n",
    "rearranged_difference(972882)    \n",
    "rearranged_difference(3320707)\n",
    "rearranged_difference(90010)"
   ]
  }
 ],
 "metadata": {
  "interpreter": {
   "hash": "ed98f0601b831bcc7b83204b240d5de8690f3d4c7ae43c4dad5e24aa4ea3791d"
  },
  "kernelspec": {
   "display_name": "Python 3.9.7 ('base')",
   "language": "python",
   "name": "python3"
  },
  "language_info": {
   "codemirror_mode": {
    "name": "ipython",
    "version": 3
   },
   "file_extension": ".py",
   "mimetype": "text/x-python",
   "name": "python",
   "nbconvert_exporter": "python",
   "pygments_lexer": "ipython3",
   "version": "3.9.7"
  },
  "orig_nbformat": 4
 },
 "nbformat": 4,
 "nbformat_minor": 2
}
