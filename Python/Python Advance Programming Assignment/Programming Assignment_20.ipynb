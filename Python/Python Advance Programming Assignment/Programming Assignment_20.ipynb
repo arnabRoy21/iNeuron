{
 "cells": [
  {
   "cell_type": "markdown",
   "metadata": {},
   "source": [
    "#### 1. Create a function based on the input and output. Look at the examples, there is a pattern.\n",
    "**Examples:**<br>\n",
    "secret(\"p.one.two.three\") ➞ `\"<p class='one two three'></p>\"`<br>\n",
    "secret(\"p.one\") ➞ `\"<p class='one'></p>\"`<br>\n",
    "secret(\"p.four.five\") ➞ `\"<p class='four five'></p>\"`<br>"
   ]
  },
  {
   "cell_type": "code",
   "execution_count": 2,
   "metadata": {},
   "outputs": [
    {
     "name": "stdout",
     "output_type": "stream",
     "text": [
      "secret(\"p.one.two.three\") ➞ <p class=\"one two three\"></p>\n",
      "secret(\"p.one\") ➞ <p class=\"one\"></p>\n",
      "secret(\"p.four.five\") ➞ <p class=\"four five\"></p>\n"
     ]
    }
   ],
   "source": [
    "def secret(string):\n",
    "    components = string.split('.')\n",
    "    result = '<' + components[0] + ' ' + 'class=\"' + ' '.join([i for i in components[1:]]) + '\">' + '</' + components[0] + '>'\n",
    "    print(f'secret(\"{string}\") ➞ {result}')\n",
    "    \n",
    "secret(\"p.one.two.three\")\n",
    "secret(\"p.one\")\n",
    "secret(\"p.four.five\")"
   ]
  },
  {
   "cell_type": "markdown",
   "metadata": {},
   "source": [
    "#### 2. Create a function which counts how many lone 1s appear in a given number. Lone means the number doesn't appear twice or more in a row.\n",
    "**Examples:**\n",
    "count_lone_ones(101) ➞ 2<br>\n",
    "count_lone_ones(1191) ➞ 1<br>\n",
    "count_lone_ones(1111) ➞ 0<br>\n",
    "count_lone_ones(462) ➞ 0"
   ]
  },
  {
   "cell_type": "code",
   "execution_count": 3,
   "metadata": {},
   "outputs": [
    {
     "name": "stdout",
     "output_type": "stream",
     "text": [
      "coint_lone_ones(101) ➞ 2\n",
      "coint_lone_ones(1191) ➞ 1\n",
      "coint_lone_ones(1111) ➞ 0\n",
      "coint_lone_ones(462) ➞ 0\n"
     ]
    }
   ],
   "source": [
    "import re\n",
    "def count_lone_ones(in_num):\n",
    "    pattern = r\"(?<!1)1(?!1)\" \n",
    "    output = re.findall(pattern,str(in_num))\n",
    "    print(f'coint_lone_ones({in_num}) ➞ {len(output)}')\n",
    "    \n",
    "count_lone_ones(101)\n",
    "count_lone_ones(1191)\n",
    "count_lone_ones(1111)\n",
    "count_lone_ones(462)\n",
    "        "
   ]
  },
  {
   "cell_type": "markdown",
   "metadata": {},
   "source": [
    "#### 3. Write a method that accepts two integer parameters rows and cols. The output is a 2d array of numbers displayed in column-major order, meaning the numbers shown increase sequentially down each column and wrap to the top of the next column to the right once the bottom of the current column is reached.\n",
    "**Examples:**<br>\n",
    "printGrid(3, 6) ➞ [<br>\n",
    "  &emsp; [1, 4, 7, 10, 13, 16],<br>\n",
    "  &emsp; [2, 5, 8, 11, 14, 17],<br>\n",
    "  &emsp; [3, 6, 9, 12, 15, 18]<br>\n",
    "]\n",
    "\n",
    "printGrid(5, 3) ➞ [<br>\n",
    "  &emsp; [1, 6, 11],<br>\n",
    "  &emsp; [2, 7, 12],<br>\n",
    "  &emsp; [3, 8, 13],<br>\n",
    "  &emsp; [4, 9, 14],<br>\n",
    "  &emsp; [5, 10, 15]<br>\n",
    "]\n",
    "\n",
    "printGrid(4, 1) ➞ [<br>\n",
    "  &emsp; [1],<br>\n",
    "  &emsp; [2],<br>\n",
    "  &emsp; [3],<br>\n",
    "  &emsp; [4]<br>\n",
    "]"
   ]
  },
  {
   "cell_type": "code",
   "execution_count": 4,
   "metadata": {},
   "outputs": [
    {
     "name": "stdout",
     "output_type": "stream",
     "text": [
      "printGrid(3, 6) ➞ [[1, 4, 7, 10, 13, 16], [2, 5, 8, 11, 14, 17], [3, 6, 9, 12, 15, 18]]\n",
      "printGrid(5, 3) ➞ [[1, 6, 11], [2, 7, 12], [3, 8, 13], [4, 9, 14], [5, 10, 15]]\n",
      "printGrid(4, 1) ➞ [[1], [2], [3], [4]]\n"
     ]
    }
   ],
   "source": [
    "def printGrid(in_one,in_two):\n",
    "    output = []\n",
    "    for ele_1 in range(in_one):\n",
    "        temp = []\n",
    "        for ele_2 in range(in_two):\n",
    "            temp.append(ele_1+(in_one*ele_2)+1)\n",
    "        output.append(temp)\n",
    "    print(f'printGrid{in_one,in_two} ➞ {output}')\n",
    "    \n",
    "printGrid(3, 6)\n",
    "printGrid(5, 3)  \n",
    "printGrid(4, 1)"
   ]
  },
  {
   "cell_type": "markdown",
   "metadata": {},
   "source": [
    "#### 4. Given a list of integers, return the smallest positive integer not present in the list.\n",
    "Here is a representative example.<br>\n",
    "Consider the list: [-2, 6, 4, 5, 7, -1, 7, 1, 3, 6, 6, -2, 9, 10, 2, 2]<br>\n",
    "After reordering, the list becomes: [-2, -2, -1, 1, 2, 2, 3, 4, 5, 6, 6, 6, 7, 7, 9, 10]<br>\n",
    "from which we see that the smallest missing positive integer is 8.\n",
    "\n",
    "**Examples:**<br>\n",
    "min_miss_pos([-2, 6, 4, 5, 7, -1, 1, 3, 6, -2, 9, 10, 2, 2]) ➞ 8<br>\n",
    "\\# After sorting, list becomes [-2, -2, -1, 1, 2, 2, 3, 4, 5, 6, 6, 7, 9, 10]<br>\n",
    "\\# So the smallest missing positive integer is 8<br>\n",
    "\n",
    "min_miss_pos([5, 9, -2, 0, 1, 3, 9, 3, 8, 9]) ➞ 2<br>\n",
    "\\# After sorting, list becomes [-2, 0, 1, 3, 3, 5, 8, 9, 9, 9]<br>\n",
    "\\# So the smallest missing positive integer is 2<br>\n",
    "\n",
    "min_miss_pos([0, 4, 4, -1, 9, 4, 5, 2, 10, 7, 6, 3, 10, 9]) ➞ 1<br>\n",
    "\\# After sorting, list becomes [-1, 0, 2, 3, 4, 4, 4, 5, 6, 7, 9, 9, 10, 10]<br>\n",
    "\\# So the smallest missing positive integer is 1<br>"
   ]
  },
  {
   "cell_type": "code",
   "execution_count": 1,
   "metadata": {},
   "outputs": [
    {
     "name": "stdout",
     "output_type": "stream",
     "text": [
      "min_miss_pos([-2, 6, 4, 5, 7, -1, 1, 3, 6, -2, 9, 10, 2, 2]) ➞ 8\n",
      "min_miss_pos([5, 9, -2, 0, 1, 3, 9, 3, 8, 9]) ➞ 2\n",
      "min_miss_pos([0, 4, 4, -1, 9, 4, 5, 2, 10, 7, 6, 3, 10, 9]) ➞ 1\n"
     ]
    }
   ],
   "source": [
    "def min_miss_pos(seq):\n",
    "    for num in range(1, max(seq)):\n",
    "        if num not in seq:\n",
    "            break\n",
    "    print(f'min_miss_pos({seq}) ➞ {num}')\n",
    "    \n",
    "min_miss_pos([-2, 6, 4, 5, 7, -1, 1, 3, 6, -2, 9, 10, 2, 2])\n",
    "min_miss_pos([5, 9, -2, 0, 1, 3, 9, 3, 8, 9])\n",
    "min_miss_pos([0, 4, 4, -1, 9, 4, 5, 2, 10, 7, 6, 3, 10, 9])\n"
   ]
  },
  {
   "cell_type": "markdown",
   "metadata": {},
   "source": [
    "#### 5. Google is launching a network of autonomous pizza delivery drones and wants you to create a flexible rewards system (Pizza Points™) that can be tweaked in the future. The rules are simple: if a customer has made at least N orders of at least Y price, they get a FREE pizza!\n",
    "Create a function that takes a dictionary of customers, a minimum number of orders and a minimum order price. Return a list of customers that are eligible for a free pizza.\n",
    "\n",
    "**Examples:**<br>\n",
    "\n",
    "customers = {<br>\n",
    "  &emsp; \"Batman\": [22, 30, 11, 17, 15, 52, 27, 12],<br>\n",
    "  &emsp; \"Spider-Man\": [5, 17, 30, 33, 40, 22, 26, 10, 11, 45]<br>\n",
    "}\n",
    "\n",
    "pizza_points(customers, 5, 20) ➞ [\"Spider-Man\"]<br>\n",
    "pizza_points(customers, 3, 10) ➞ [\"Batman\", \"Spider-Man\"]<br>\n",
    "pizza_points(customers, 5, 100) ➞ []"
   ]
  },
  {
   "cell_type": "code",
   "execution_count": 2,
   "metadata": {},
   "outputs": [
    {
     "name": "stdout",
     "output_type": "stream",
     "text": [
      "pizza_points('customers', 5, 20) ➞ ['Spider-Man']\n",
      "pizza_points('customers', 3, 10) ➞ ['Batman', 'Spider-Man']\n",
      "pizza_points('customers', 5, 100) ➞ []\n"
     ]
    }
   ],
   "source": [
    "def pizza_points(customers, min_order, min_price):\n",
    "    result = []\n",
    "    for customer in customers:\n",
    "        if len([order_price for order_price in customers[customer] if order_price>min_price]) > min_order:\n",
    "            result.append(customer)\n",
    "    print(f'pizza_points{\"customers\",min_order,min_price} ➞ {result}')\n",
    "\n",
    "customers = {\n",
    "  \"Batman\": [22, 30, 11, 17, 15, 52, 27, 12],\n",
    "  \"Spider-Man\": [5, 17, 30, 33, 40, 22, 26, 10, 11, 45]\n",
    "}\n",
    "    \n",
    "pizza_points(customers, 5, 20)\n",
    "pizza_points(customers, 3, 10)\n",
    "pizza_points(customers, 5, 100)"
   ]
  }
 ],
 "metadata": {
  "interpreter": {
   "hash": "ed98f0601b831bcc7b83204b240d5de8690f3d4c7ae43c4dad5e24aa4ea3791d"
  },
  "kernelspec": {
   "display_name": "Python 3.9.7 ('base')",
   "language": "python",
   "name": "python3"
  },
  "language_info": {
   "codemirror_mode": {
    "name": "ipython",
    "version": 3
   },
   "file_extension": ".py",
   "mimetype": "text/x-python",
   "name": "python",
   "nbconvert_exporter": "python",
   "pygments_lexer": "ipython3",
   "version": "3.9.7"
  },
  "orig_nbformat": 4
 },
 "nbformat": 4,
 "nbformat_minor": 2
}
