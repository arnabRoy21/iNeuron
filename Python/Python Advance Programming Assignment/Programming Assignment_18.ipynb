{
 "cells": [
  {
   "cell_type": "markdown",
   "metadata": {},
   "source": [
    "#### 1. A robot has been given a list of movement instructions. Each instruction is either left, right, up or down, followed by a distance to move. The robot starts at [0, 0]. You want to calculate where the robot will end up and return its final position as a list.\n",
    "To illustrate, if the robot is given the following instructions: [\"right 10\", \"up 50\", \"left 30\", \"down 10\"]\n",
    "It will end up 20 left and 40 up from where it started, so we return [-20, 40].\n",
    "\n",
    "**Examples:**<br>\n",
    "track_robot([\"right 10\", \"up 50\", \"left 30\", \"down 10\"]) ➞ [-20, 40]<br>\n",
    "track_robot([]) ➞ [0, 0]<br>\n",
    "// If there are no instructions, the robot doesn't move.<br>\n",
    "track_robot([\"right 100\", \"right 100\", \"up 500\", \"up 10000\"]) ➞ [200, 10500]"
   ]
  },
  {
   "cell_type": "code",
   "execution_count": 2,
   "metadata": {},
   "outputs": [
    {
     "name": "stdout",
     "output_type": "stream",
     "text": [
      "track_robot(['right 10', 'up 50', 'left 30', 'down 10']) ➞ [-20, 40]\n",
      "track_robot([]) ➞ [0, 0]\n",
      "track_robot(['right 100', 'right 100', 'up 500', 'up 10000']) ➞ [200, 10500]\n"
     ]
    }
   ],
   "source": [
    "def track_robot(instructions):\n",
    "    result = [0,0]\n",
    "    mapping = { 'up': 1, 'down': -1, 'right': 1, 'left': -1}\n",
    "    for cmd in instructions:\n",
    "        direction, val = cmd.split(' ')\n",
    "        if direction in ('right', 'left'):\n",
    "            result[0] += int(val)*mapping[direction] \n",
    "        else:\n",
    "            result[1] += int(val)*mapping[direction] \n",
    "    print(f'track_robot({instructions}) ➞ {result}')\n",
    "        \n",
    "track_robot([\"right 10\", \"up 50\", \"left 30\", \"down 10\"])\n",
    "track_robot([])\n",
    "track_robot([\"right 100\", \"right 100\", \"up 500\", \"up 10000\"])\n"
   ]
  },
  {
   "cell_type": "markdown",
   "metadata": {},
   "source": [
    "#### 2. Write a function that will return the longest word in a sentence. In cases where more than one word is found, return the first one.\n",
    "**Examples:**<br>\n",
    "find_longest(\"A thing of beauty is a joy forever.\") ➞ \"forever\"<br>\n",
    "find_longest(\"Forgetfulness is by all means powerless!\") ➞ \"forgetfulness\"<br>\n",
    "find_longest(\"\\\"Strengths\\\" is the longest and most commonly used word that contains only a single vowel.\") ➞ \"strengths\""
   ]
  },
  {
   "cell_type": "code",
   "execution_count": 4,
   "metadata": {},
   "outputs": [
    {
     "name": "stdout",
     "output_type": "stream",
     "text": [
      "find_longest(A thing of beauty is a joy forever.) ➞ forever.\n",
      "find_longest(Forgetfulness is by all means powerless!) ➞ Forgetfulness\n",
      "find_longest(\"Strengths\" is the longest and most commonly used word that contains only a single vowel.) ➞ \"Strengths\"\n"
     ]
    }
   ],
   "source": [
    "def find_longest(sent):\n",
    "    maxlen = ''\n",
    "    for word in sent.split(' '):\n",
    "        if len(word)> len(maxlen): maxlen=word\n",
    "    print(f'find_longest({sent}) ➞ {maxlen}')\n",
    "        \n",
    "find_longest(\"A thing of beauty is a joy forever.\")\n",
    "find_longest(\"Forgetfulness is by all means powerless!\")\n",
    "find_longest(\"\\\"Strengths\\\" is the longest and most commonly used word that contains only a single vowel.\")    "
   ]
  },
  {
   "cell_type": "markdown",
   "metadata": {},
   "source": [
    "#### 3. Create a function to check if a candidate is qualified in an imaginary coding interview of an imaginary tech startup.\n",
    "The criteria for a candidate to be qualified in the coding interview is:\n",
    "\n",
    "- The candidate should have complete all the questions.\n",
    "- The maximum time given to complete the interview is 120 minutes.\n",
    "- The maximum time given for very easy questions is 5 minutes each.\n",
    "- The maximum time given for easy questions is 10 minutes each.\n",
    "- The maximum time given for medium questions is 15 minutes each.\n",
    "- The maximum time given for hard questions is 20 minutes each.\n",
    "If all the above conditions are satisfied, return \"qualified\", else return \"disqualified\".\n",
    "\n",
    "You will be given a list of time taken by a candidate to solve a particular question and the total time taken by the candidate to complete the interview.\n",
    "\n",
    "Given a list , in a true condition will always be in the format [very easy, very easy, easy, easy, medium, medium, hard, hard].\n",
    "\n",
    "The maximum time to complete the interview includes a buffer time of 20 minutes.\n",
    "\n",
    "**Examples:**<br>\n",
    "interview([5, 5, 10, 10, 15, 15, 20, 20], 120) ➞ \"qualified\"<br>\n",
    "interview([2, 3, 8, 6, 5, 12, 10, 18], 64) ➞  \"qualified\"<br>\n",
    "interview([5, 5, 10, 10, 25, 15, 20, 20], 120) ➞ \"disqualified\"<br>\n",
    "\\# Exceeded the time limit for a medium question.<br>\n",
    "interview([5, 5, 10, 10, 15, 15, 20], 120) ➞ \"disqualified\"<br>\n",
    "\\# Did not complete all the questions.<br>\n",
    "interview([5, 5, 10, 10, 15, 15, 20, 20], 130) ➞ \"disqualified\"<br>\n",
    "\\# Solved all the questions in their respected time limits but exceeded the total time limit of the interview."
   ]
  },
  {
   "cell_type": "code",
   "execution_count": 5,
   "metadata": {},
   "outputs": [
    {
     "name": "stdout",
     "output_type": "stream",
     "text": [
      "interview([5, 5, 10, 10, 15, 15, 20, 20], 120) ➞ qualified\n",
      "interview([2, 3, 8, 6, 5, 12, 10, 18], 64) ➞ qualified\n",
      "interview([5, 5, 10, 10, 25, 15, 20, 20], 120) ➞ disqualified\n",
      "interview([5, 5, 10, 10, 15, 15, 20], 120) ➞ disqualified\n",
      "interview([5, 5, 10, 10, 15, 15, 20, 20], 130) ➞ disqualified\n"
     ]
    }
   ],
   "source": [
    "def interview(in_list, in_time):\n",
    "    output = 'qualified'\n",
    "    if in_time > 120 or max(in_list[0:2]) > 5 or max(in_list[2:4]) > 10 or max(in_list[4:6]) > 15 or max(in_list[6:8]) > 20 or len(in_list) != 8:\n",
    "            output = 'disqualified'\n",
    "    print(f'interview{in_list,in_time} ➞ {output}')\n",
    "    \n",
    "interview([5, 5, 10, 10, 15, 15, 20, 20], 120)\n",
    "interview([2, 3, 8, 6, 5, 12, 10, 18], 64)\n",
    "interview([5, 5, 10, 10, 25, 15, 20, 20], 120)\n",
    "interview([5, 5, 10, 10, 15, 15, 20], 120)\n",
    "interview([5, 5, 10, 10, 15, 15, 20, 20], 130)"
   ]
  },
  {
   "cell_type": "markdown",
   "metadata": {},
   "source": [
    "#### 4. Write a function that divides a list into chunks of size n, where n is the length of each chunk.\n",
    "**Examples:**<br>\n",
    "chunkify([2, 3, 4, 5], 2) ➞ [[2, 3], [4, 5]]<br>\n",
    "chunkify([2, 3, 4, 5, 6], 2) ➞ [[2, 3], [4, 5], [6]]<br>\n",
    "chunkify([2, 3, 4, 5, 6, 7], 3) ➞ [[2, 3, 4], [5, 6, 7]]<br>\n",
    "chunkify([2, 3, 4, 5, 6, 7], 1) ➞ [[2], [3], [4], [5], [6], [7]]<br>\n",
    "chunkify([2, 3, 4, 5, 6, 7], 7) ➞ [[2, 3, 4, 5, 6, 7]]"
   ]
  },
  {
   "cell_type": "code",
   "execution_count": 7,
   "metadata": {},
   "outputs": [
    {
     "name": "stdout",
     "output_type": "stream",
     "text": [
      "chunkify([2, 3, 4, 5], 2) ➞ [[2, 3], [4, 5]]\n",
      "chunkify([2, 3, 4, 5, 6], 2) ➞ [[2, 3], [4, 5], [6]]\n",
      "chunkify([2, 3, 4, 5, 6, 7], 3) ➞ [[2, 3, 4], [5, 6, 7]]\n",
      "chunkify([2, 3, 4, 5, 6, 7], 1) ➞ [[2], [3], [4], [5], [6], [7]]\n",
      "chunkify([2, 3, 4, 5, 6, 7], 7) ➞ [[2, 3, 4, 5, 6, 7]]\n"
     ]
    }
   ],
   "source": [
    "def chunkify(seq, chunk_size):\n",
    "    result = []\n",
    "    for i in range(0, len(seq), chunk_size):\n",
    "        result.append(seq[i:i+chunk_size])\n",
    "    print(f'chunkify{seq, chunk_size} ➞ {result}')\n",
    "    \n",
    "chunkify([2, 3, 4, 5], 2)   \n",
    "chunkify([2, 3, 4, 5, 6], 2)\n",
    "chunkify([2, 3, 4, 5, 6, 7], 3)\n",
    "chunkify([2, 3, 4, 5, 6, 7], 1)\n",
    "chunkify([2, 3, 4, 5, 6, 7], 7)"
   ]
  },
  {
   "cell_type": "markdown",
   "metadata": {},
   "source": [
    "#### 5. You are given a list of strings consisting of grocery items, with prices in parentheses. Return a list of prices in float format.\n",
    "**Examples:**<br>\n",
    "get_prices([\"salad ($4.99)\"]) ➞ [4.99]\n",
    "\n",
    "get_prices([<br>\n",
    "  &emsp;\"artichokes ($1.99)\",<br>\n",
    "  &emsp;\"rotiserrie chicken ($5.99)\",<br>\n",
    "  &emsp;\"gum ($0.75)\"<br>\n",
    "]) ➞ [1.99, 5.99, 0.75]<br>\n",
    "\n",
    "get_prices([<br>\n",
    "  &emsp;\"ice cream ($5.99)\",<br>\n",
    "  &emsp;\"banana ($0.20)\",<br>\n",
    "  &emsp;\"sandwich ($8.50)\",<br>\n",
    "  &emsp;\"soup ($1.99)\"<br>\n",
    "]) ➞ [5.99, 0.2, 8.50, 1.99]<br>"
   ]
  },
  {
   "cell_type": "code",
   "execution_count": 16,
   "metadata": {},
   "outputs": [
    {
     "name": "stdout",
     "output_type": "stream",
     "text": [
      "get_prices(['salad ($4.99)']) ➞ ['4.99']\n",
      "get_prices(['artichokes ($1.99)', 'rotiserrie chicken ($5.99)', 'gum ($0.75)']) ➞ ['1.99', '5.99', '0.75']\n",
      "get_prices(['ice cream ($5.99)', 'banana ($0.20)', 'sandwich ($8.50)', 'soup ($1.99)']) ➞ ['5.99', '0.20', '8.50', '1.99']\n"
     ]
    }
   ],
   "source": [
    "import re\n",
    "def get_prices(seq):\n",
    "    result = []\n",
    "    pattern = '\\d+.?\\d+'\n",
    "    for item in seq:\n",
    "        val = re.findall(pattern, item)\n",
    "        result.append(val[0])\n",
    "    print(f'get_prices({seq}) ➞ {result}')\n",
    "        \n",
    "get_prices([\"salad ($4.99)\"])\n",
    "get_prices([\"artichokes ($1.99)\",\"rotiserrie chicken ($5.99)\",\"gum ($0.75)\"])\n",
    "get_prices([\"ice cream ($5.99)\",\"banana ($0.20)\",\"sandwich ($8.50)\",\"soup ($1.99)\"])"
   ]
  }
 ],
 "metadata": {
  "interpreter": {
   "hash": "ed98f0601b831bcc7b83204b240d5de8690f3d4c7ae43c4dad5e24aa4ea3791d"
  },
  "kernelspec": {
   "display_name": "Python 3.9.7 ('base')",
   "language": "python",
   "name": "python3"
  },
  "language_info": {
   "codemirror_mode": {
    "name": "ipython",
    "version": 3
   },
   "file_extension": ".py",
   "mimetype": "text/x-python",
   "name": "python",
   "nbconvert_exporter": "python",
   "pygments_lexer": "ipython3",
   "version": "3.9.7"
  },
  "orig_nbformat": 4
 },
 "nbformat": 4,
 "nbformat_minor": 2
}
