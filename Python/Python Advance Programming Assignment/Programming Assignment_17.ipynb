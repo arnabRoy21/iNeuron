{
 "cells": [
  {
   "cell_type": "markdown",
   "metadata": {},
   "source": [
    "#### 1. Create a function that transposes a 2D matrix.\n",
    "**Examples:**<br>\n",
    "\n",
    "transpose_matrix([<br>\n",
    "  &emsp;[1, 1, 1],<br>\n",
    "  &emsp;[2, 2, 2],<br>\n",
    "  &emsp;[3, 3, 3]<br>\n",
    "]) ➞ [<br>\n",
    "  &emsp;[1, 2, 3],<br>\n",
    "  &emsp;[1, 2, 3],<br>\n",
    "  &emsp;[1, 2, 3]<br>\n",
    "]<br>\n",
    "\n",
    "transpose_matrix([<br>\n",
    "  &emsp;[5, 5],<br>\n",
    "  &emsp;[6, 7],<br>\n",
    "  &emsp;[9, 1]<br>\n",
    "]) ➞ [<br>\n",
    "  &emsp;[5, 6, 9],<br>\n",
    "  &emsp;[5, 7, 1]<br>\n",
    "]"
   ]
  },
  {
   "cell_type": "code",
   "execution_count": 2,
   "metadata": {},
   "outputs": [
    {
     "name": "stdout",
     "output_type": "stream",
     "text": [
      "transpose_matrix([[1, 1, 1], [2, 2, 2], [3, 3, 3]]) ➞ [[1 2 3]\n",
      " [1 2 3]\n",
      " [1 2 3]]\n",
      "transpose_matrix([[5, 5], [6, 7], [9, 1]]) ➞ [[5 6 9]\n",
      " [5 7 1]]\n"
     ]
    }
   ],
   "source": [
    "import numpy as np\n",
    "\n",
    "def transpose_matrix(matrix):\n",
    "    print(f'transpose_matrix({matrix}) ➞ {np.array(matrix).T}')\n",
    "transpose_matrix([[1, 1, 1],[2, 2, 2],[3, 3, 3]])\n",
    "transpose_matrix([[5, 5],[6, 7],[9, 1]])"
   ]
  },
  {
   "cell_type": "markdown",
   "metadata": {},
   "source": [
    "#### 2. Create a function that determines whether a string is a valid hex code.\n",
    "A hex code must begin with a pound key # and is exactly 6 characters in length. Each character must be a digit from 0-9 or an alphabetic character from A-F. All alphabetic characters may be uppercase or lowercase.\n",
    "\n",
    "**Examples:**<br>\n",
    "is_valid_hex_code(\"#CD5C5C\") ➞ True<br>\n",
    "is_valid_hex_code(\"#EAECEE\") ➞ True<br>\n",
    "is_valid_hex_code(\"#eaecee\") ➞ True<br>\n",
    "\n",
    "is_valid_hex_code(\"#CD5C58C\") ➞ False<br>\n",
    "\\# Length exceeds 6<br>\n",
    "\n",
    "is_valid_hex_code(\"#CD5C5Z\") ➞ False<br>\n",
    "\\# Not all alphabetic characters in A-F<br>\n",
    "\n",
    "is_valid_hex_code(\"#CD5C&C\") ➞ False<br>\n",
    "\\# Contains unacceptable character<br>\n",
    "\n",
    "is_valid_hex_code(\"CD5C5C\") ➞ False<br>\n",
    "\\# Missing #<br>"
   ]
  },
  {
   "cell_type": "code",
   "execution_count": 7,
   "metadata": {},
   "outputs": [
    {
     "name": "stdout",
     "output_type": "stream",
     "text": [
      "is_valid_hex_code(#CD5C5C) ➞ True\n",
      "is_valid_hex_code(#EAECEE) ➞ True\n",
      "is_valid_hex_code(#eaecee) ➞ True\n",
      "is_valid_hex_code(#CD5C58C) ➞ False\n",
      "is_valid_hex_code(#CD5C5Z) ➞ False\n",
      "is_valid_hex_code(#CD5C&C) ➞ False\n",
      "is_valid_hex_code(CD5C5C) ➞ False\n"
     ]
    }
   ],
   "source": [
    "def is_valid_hex_code(hex):\n",
    "    flag=True\n",
    "    valid_hex = '#0123456789abcdef'\n",
    "    for char in hex.lower():\n",
    "        if char not in valid_hex or hex[0]!='#' or len(hex[1:]) != 6:\n",
    "            flag=False\n",
    "            break\n",
    "    print(f'is_valid_hex_code({hex}) ➞ {flag}')\n",
    "\n",
    "is_valid_hex_code(\"#CD5C5C\")\n",
    "is_valid_hex_code(\"#EAECEE\")\n",
    "is_valid_hex_code(\"#eaecee\")\n",
    "is_valid_hex_code(\"#CD5C58C\")\n",
    "is_valid_hex_code(\"#CD5C5Z\")\n",
    "is_valid_hex_code(\"#CD5C&C\")\n",
    "is_valid_hex_code(\"CD5C5C\")"
   ]
  },
  {
   "cell_type": "markdown",
   "metadata": {},
   "source": [
    "#### 3. Given a list of math equations (given as strings), return the percentage of correct answers as a string. Round to the nearest whole number.\n",
    "**Examples:**<br>\n",
    "mark_maths([\"2+2=4\", \"3+2=5\", \"10-3=3\", \"5+5=10\"]) ➞ \"75%\"<br>\n",
    "mark_maths([\"1-2=-2\"]), \"0%\"<br>\n",
    "mark_maths([\"2+3=5\", \"4+4=9\", \"3-1=2\"]) ➞ \"67%\""
   ]
  },
  {
   "cell_type": "code",
   "execution_count": 8,
   "metadata": {},
   "outputs": [
    {
     "name": "stdout",
     "output_type": "stream",
     "text": [
      "mark_maths(['2+2=4', '3+2=5', '10-3=3', '5+5=10']) ➞ 75%\n",
      "mark_maths(['1-2=-2']) ➞ 0%\n",
      "mark_maths(['2+3=5', '4+4=9', '3-1=2']) ➞ 67%\n"
     ]
    }
   ],
   "source": [
    "import math\n",
    "def mark_maths(in_list):\n",
    "    out_list = []\n",
    "    for ele in in_list:\n",
    "        ele = ele.split(\"=\")\n",
    "        out_list.append(eval(ele[0]) == int(ele[1])) \n",
    "    print(f'mark_maths({in_list}) ➞ {str(math.ceil((sum(out_list)/len(out_list))*100))}%')\n",
    "        \n",
    "mark_maths([\"2+2=4\", \"3+2=5\", \"10-3=3\", \"5+5=10\"])\n",
    "mark_maths([\"1-2=-2\"])\n",
    "mark_maths([\"2+3=5\", \"4+4=9\", \"3-1=2\"])"
   ]
  },
  {
   "cell_type": "markdown",
   "metadata": {},
   "source": [
    "#### 4. There are two players, Alice and Bob, each with a 3-by-3 grid. A referee tells Alice to fill out one particular row in the grid (say the second row) by putting either a 1 or a 0 in each box, such that the sum of the numbers in that row is odd. The referee tells Bob to fill out one column in the grid (say the first column) by putting either a 1 or a 0 in each box, such that the sum of the numbers in that column is even.\n",
    "Alice and Bob win the game if Alice’s numbers give an odd sum, Bob’s give an even sum, and (most important) they’ve each written down the same number in the one square where their row and column intersect.\n",
    "\n",
    "**Examples:**<br>\n",
    "magic_square_game([2, \"100\"], [1, \"101\"]) ➞ False<br>\n",
    "magic_square_game([2, \"001\"], [1, \"101\"]) ➞ True<br>\n",
    "magic_square_game([3, \"111\"], [2, \"011\"]) ➞ True<br>\n",
    "magic_square_game([1, \"010\"], [3, \"101\"]) ➞ False<br>\n",
    "\\# Two lists, Alice [row, \"her choice\"], Bob [column, \"his choice\"]"
   ]
  },
  {
   "cell_type": "code",
   "execution_count": 9,
   "metadata": {},
   "outputs": [
    {
     "name": "stdout",
     "output_type": "stream",
     "text": [
      "magic_square_game([2, '100'], [1, '101']) ➞ False\n",
      "magic_square_game([2, '001'], [1, '101']) ➞ True\n",
      "magic_square_game([3, '111'], [2, '011']) ➞ True\n",
      "magic_square_game([1, '010'], [3, '101']) ➞ False\n"
     ]
    }
   ],
   "source": [
    "def magic_square_game(in_one,in_two):\n",
    "    output = False\n",
    "    if in_two[1][in_one[0]-1] == in_one[1][in_two[0]-1]:\n",
    "        output = True\n",
    "    print(f'magic_square_game{in_one,in_two} ➞ {output}')\n",
    "    \n",
    "magic_square_game([2, \"100\"], [1, \"101\"])\n",
    "magic_square_game([2, \"001\"], [1, \"101\"]) \n",
    "magic_square_game([3, \"111\"], [2, \"011\"]) \n",
    "magic_square_game([1, \"010\"], [3, \"101\"]) "
   ]
  },
  {
   "cell_type": "markdown",
   "metadata": {},
   "source": [
    "#### 5. From point A, an object is moving towards point B at constant velocity va (in km/hr). From point B, another object is moving towards point A at constant velocity vb (in km/hr). Knowing this and the distance between point A and B (in km), write a function that returns how much time passes until both objects meet.\n",
    "Format the output like this: \"2h 23min 34s\"\n",
    "\n",
    "**Examples:**<br>\n",
    "lets_meet(100, 10, 30) ➞ \"2h 30min 0s\"<br>\n",
    "lets_meet(280, 70, 80) ➞ \"1h 52min 0s\"<br>\n",
    "lets_meet(90, 75, 65) ➞ \"0h 38min 34s\""
   ]
  },
  {
   "cell_type": "code",
   "execution_count": 10,
   "metadata": {},
   "outputs": [
    {
     "name": "stdout",
     "output_type": "stream",
     "text": [
      "lets_meet(100, 10, 30) ➞ 2h 30min 0s\n",
      "lets_meet(280, 70, 80) ➞ 1h 52min 0s\n",
      "lets_meet(90, 75, 65) ➞ 0h 38min 34s\n"
     ]
    }
   ],
   "source": [
    "import math\n",
    "def lets_meet(in_dist,in_va,in_vb):\n",
    "    total_time = in_dist/(in_va+in_vb)\n",
    "    Hours = math.floor(total_time) \n",
    "    Minutes = math.floor((total_time-Hours)*60)\n",
    "    Seconds = math.floor(((((total_time)-Hours)*60)-Minutes)*60)\n",
    "    print(f'lets_meet{in_dist,in_va,in_vb} ➞ {Hours}h {Minutes}min {Seconds}s')\n",
    "    \n",
    "lets_meet(100, 10, 30)\n",
    "lets_meet(280, 70, 80)\n",
    "lets_meet(90, 75, 65)"
   ]
  }
 ],
 "metadata": {
  "interpreter": {
   "hash": "ed98f0601b831bcc7b83204b240d5de8690f3d4c7ae43c4dad5e24aa4ea3791d"
  },
  "kernelspec": {
   "display_name": "Python 3.9.7 ('base')",
   "language": "python",
   "name": "python3"
  },
  "language_info": {
   "codemirror_mode": {
    "name": "ipython",
    "version": 3
   },
   "file_extension": ".py",
   "mimetype": "text/x-python",
   "name": "python",
   "nbconvert_exporter": "python",
   "pygments_lexer": "ipython3",
   "version": "3.9.7"
  },
  "orig_nbformat": 4
 },
 "nbformat": 4,
 "nbformat_minor": 2
}
