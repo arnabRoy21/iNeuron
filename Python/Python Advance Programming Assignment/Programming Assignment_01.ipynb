{
 "cells": [
  {
   "cell_type": "markdown",
   "metadata": {},
   "source": [
    "#### 1. Write a function that takes a list of lists and returns the value of all of the symbols in it, where each symbol adds or takes something from the total score. \n",
    "**Symbol values:**<br>\n",
    "\\# = 5<br>\n",
    "O = 3<br>\n",
    "X = 1<br>\n",
    "! = -1<br>\n",
    "!! = -3<br>\n",
    "!!! = -5<br><br>\n",
    "A list of lists containing 2 #s, a O, and a !!! would equal (0 + 5 + 5 + 3 - 5) 8. If the final score is negative, return 0 (e.g. 3 #s, 3 !!s, 2 !!!s and a X would be (0 + 5 + 5 + 5 - 3 - 3 - 3 - 5 - 5 + 1) -3, so return 0.<br><br>\n",
    "**Examples:**<br>\n",
    "check_score([<br>\n",
    "&emsp;[\"#\", \"!\"],<br>\n",
    "&emsp;[\"!!\", \"X\"]<br>\n",
    "]) ➞ 2<br><br>\n",
    "check_score([<br>\n",
    "&emsp;[\"!!!\", \"O\", \"!\"],<br>\n",
    "&emsp;[\"X\", \"#\", \"!!!\"],<br>\n",
    "&emsp;[\"!!\", \"X\", \"O\"]<br>\n",
    "]) ➞ 0"
   ]
  },
  {
   "cell_type": "code",
   "execution_count": 3,
   "metadata": {},
   "outputs": [
    {
     "name": "stdout",
     "output_type": "stream",
     "text": [
      "Score: 2\n",
      "Score: -1\n"
     ]
    }
   ],
   "source": [
    "def check_score(seq):\n",
    "    dict_ = {\n",
    "        '#': 5,\n",
    "        'O': 3,\n",
    "        'X': 1,\n",
    "        '!': -1,\n",
    "        '!!': -3,\n",
    "        '!!!': -5\n",
    "    }\n",
    "    val=0\n",
    "    for list_ in seq:\n",
    "        for item in list_:\n",
    "            val = val + dict_[item]\n",
    "    print(f'Score: {val}')\n",
    "\n",
    "check_score([\n",
    "    [\"#\", \"!\"],\n",
    "    [\"!!\", \"X\"]\n",
    "])\n",
    "\n",
    "check_score([\n",
    "    [\"!!!\", \"O\", \"!\"],\n",
    "    [\"X\", \"#\", \"!!!\"],\n",
    "    [\"!!\", \"X\", \"O\"]\n",
    "])"
   ]
  },
  {
   "cell_type": "markdown",
   "metadata": {},
   "source": [
    "#### 2. Create a function that takes a variable number of arguments, each argument representing the number of items in a group, and returns the number of permutations (combinations) of items that you could get by taking one item from each group.\n",
    "**Examples:**<br>\n",
    "combinations(2, 3) ➞ 6<br>\n",
    "combinations(3, 7, 4) ➞ 84<br>\n",
    "combinations(2, 3, 4, 5) ➞ 120<br>"
   ]
  },
  {
   "cell_type": "code",
   "execution_count": 5,
   "metadata": {},
   "outputs": [
    {
     "name": "stdout",
     "output_type": "stream",
     "text": [
      "Number of combinations: 6\n",
      "Number of combinations: 84\n",
      "Number of combinations: 120\n"
     ]
    }
   ],
   "source": [
    "import math\n",
    "def combinations(*args):\n",
    "    print(f'Number of combinations: {math.prod(args)}')\n",
    "\n",
    "combinations(2, 3)\n",
    "combinations(3, 7, 4)\n",
    "combinations(2, 3, 4, 5)"
   ]
  },
  {
   "cell_type": "markdown",
   "metadata": {},
   "source": [
    "#### 3. Create a function that takes a string as an argument and returns the Morse code equivalent.\n",
    "**Examples:**\n",
    "encode_morse(\"EDABBIT CHALLENGE\") ➞ \". -.. .- -... -... .. - -.-. .... .- .-.. .-... -. --. .\"<br>\n",
    "encode_morse(\"HELP ME !\") ➞ \".... . .-.. .--. -- . -.-.--\"<br><br>\n",
    "**This dictionary can be used for coding:**<br><br>\n",
    "char_to_dots = {<br>\n",
    "    &emsp;&emsp;'A': '.-','B': '-...','C': '-.-.','D': '-..','E': '.','F': '..-.','G': '--.','H': '....','I': '..','J': '.---','K': '-.-',<br>\n",
    "    &emsp;&emsp;'L': '.-..','M': '--','N': '-.','O': '---','P': '.--.','Q': '--.-','R': '.-.','S': '...','T': '-','U': '..-','V': '...-',<br>\n",
    "    &emsp;&emsp;'W': '.--','X': '-..-','Y': '-.--','Z': '--..',' ': ' ','0': '-----','1': '.----','2': '..---','3': '...--','4': '....-',<br>\n",
    "    &emsp;&emsp;'5': '.....','6': '-....','7': '--...','8': '---..','9': '----.''&': '.-...',\"'\": '.----.','@': '.--.-.',<br>\n",
    "    &emsp;&emsp;')': '-.--.-','(': '-.--.',':': '---...',',': '--..--','=': '-...-','!': '-.-.--','.': '.-.-.-','-': '-....-',<br>\n",
    "    &emsp;&emsp;'+': '.-.-.','\"': '.-..-.','?': '..--..','/': '-..-.'<br>\n",
    "}"
   ]
  },
  {
   "cell_type": "code",
   "execution_count": 2,
   "metadata": {},
   "outputs": [
    {
     "name": "stdout",
     "output_type": "stream",
     "text": [
      "EDABBIT CHALLENGE in morse code: .-...--...-.....- -.-......-.-...-...-.--..\n",
      "HELP ME ! in morse code: ......-...--. --. -.-.--\n"
     ]
    }
   ],
   "source": [
    "def encode_morse(string):\n",
    "\n",
    "    char_to_dots = {\n",
    "        'A': '.-','B': '-...','C': '-.-.','D': '-..','E': '.','F': '..-.','G': '--.','H': '....','I': '..','J': '.---','K': '-.-','L': '.-..',\n",
    "        'M': '--','N': '-.','O': '---','P': '.--.','Q': '--.-','R': '.-.','S': '...','T': '-','U': '..-','V': '...-','W': '.--','X': '-..-',\n",
    "        'Y': '-.--','Z': '--..',' ': ' ','0': '-----','1': '.----','2': '..---','3': '...--','4': '....-','5': '.....','6': '-....','7': '--...', \n",
    "        '8': '---..','9': '----.','&': '.-...',\"'\": '.----.','@': '.--.-.',')': '-.--.-','(': '-.--.',':': '---...',',': '--..--','=': '-...-', \n",
    "        '!': '-.-.--','.': '.-.-.-','-': '-....-','+': '.-.-.','\"': '.-..-.','?': '..--..','/': '-..-.'\n",
    "    }\n",
    "    morse_code = ''\n",
    "    for char in string:\n",
    "        morse_code += char_to_dots[char]\n",
    "    print(f'{string} in morse code: {morse_code}')\n",
    "\n",
    "encode_morse(\"EDABBIT CHALLENGE\")\n",
    "encode_morse(\"HELP ME !\")"
   ]
  },
  {
   "cell_type": "markdown",
   "metadata": {},
   "source": [
    "#### 4. Write a function that takes a number and returns True if it's a prime; False otherwise. The number can be 2^64-1 (2 to the power of 63, not XOR). With the standard technique it would be O(2^64-1), which is much too large for the 10 second time limit.\n",
    "**Examples:**<br>\n",
    "prime(7) ➞ True<br>\n",
    "prime(56963) ➞ True<br>\n",
    "prime(5151512515524) ➞ False"
   ]
  },
  {
   "cell_type": "code",
   "execution_count": 11,
   "metadata": {},
   "outputs": [
    {
     "name": "stdout",
     "output_type": "stream",
     "text": [
      "prime(7) ➞ True\n",
      "prime(56963) ➞ True\n",
      "prime(5151512515524) ➞ False\n"
     ]
    }
   ],
   "source": [
    "def prime(in_num):\n",
    "    out_bool = False\n",
    "    if ((in_num-1)%6 == 0) or ((in_num+1)%6 == 0):\n",
    "        out_bool = True\n",
    "    print(f'prime({in_num}) ➞ {out_bool}')\n",
    "\n",
    "prime(7)\n",
    "prime(56963)\n",
    "prime(5151512515524)"
   ]
  },
  {
   "cell_type": "markdown",
   "metadata": {},
   "source": [
    "#### 5. Create a function that converts a word to a bitstring and then to a boolean list based on the following criteria:\n",
    "1. Locate the position of the letter in the English alphabet (from 1 to 26).\n",
    "2. Odd positions will be represented as 1 and 0 otherwise.\n",
    "3. Convert the represented positions to boolean values, 1 for True and 0 for False.\n",
    "4. Store the conversions into an array.\n",
    "\n",
    "**Examples:**<br>\n",
    "to_boolean_list(\"deep\") ➞ [False, True, True, False]<br>\n",
    "\\# deep converts to 0110<br>\n",
    "\\# d is the 4th alphabet - 0<br>\n",
    "\\# e is the 5th alphabet - 1<br>\n",
    "\\# e is the 5th alphabet - 1<br>\n",
    "\\# p is the 16th alphabet - 0<br>\n",
    "to_boolean_list(\"loves\") ➞ [False, True, False, True, True]<br>\n",
    "to_boolean_list(\"tesh\") ➞ [False, True, True, False]"
   ]
  },
  {
   "cell_type": "code",
   "execution_count": 12,
   "metadata": {},
   "outputs": [
    {
     "name": "stdout",
     "output_type": "stream",
     "text": [
      "to_boolean_list(deep) ➞ [False, True, True, False]\n",
      "to_boolean_list(loves) ➞ [False, True, False, True, True]\n",
      "to_boolean_list(tesh) ➞ [False, True, True, False]\n"
     ]
    }
   ],
   "source": [
    "def to_boolean_list(string):\n",
    "    alphabets = 'abcdefghijklmnopqrstuvwxyz'\n",
    "    out = []\n",
    "    for ele in string:\n",
    "        out.append(bool((alphabets.index(ele)+1)%2))\n",
    "    print(f'to_boolean_list({string}) ➞ {out}')\n",
    "    \n",
    "to_boolean_list(\"deep\")\n",
    "to_boolean_list(\"loves\")\n",
    "to_boolean_list(\"tesh\")"
   ]
  }
 ],
 "metadata": {
  "interpreter": {
   "hash": "ed98f0601b831bcc7b83204b240d5de8690f3d4c7ae43c4dad5e24aa4ea3791d"
  },
  "kernelspec": {
   "display_name": "Python 3.9.7 ('base')",
   "language": "python",
   "name": "python3"
  },
  "language_info": {
   "codemirror_mode": {
    "name": "ipython",
    "version": 3
   },
   "file_extension": ".py",
   "mimetype": "text/x-python",
   "name": "python",
   "nbconvert_exporter": "python",
   "pygments_lexer": "ipython3",
   "version": "3.9.7"
  },
  "orig_nbformat": 4
 },
 "nbformat": 4,
 "nbformat_minor": 2
}
