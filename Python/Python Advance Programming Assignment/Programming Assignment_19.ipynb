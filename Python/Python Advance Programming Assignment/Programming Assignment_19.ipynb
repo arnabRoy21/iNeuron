{
 "cells": [
  {
   "cell_type": "markdown",
   "metadata": {},
   "source": [
    "#### 1. Create a checker board generator, which takes as inputs n and 2 elements to generate an n x n checkerboard with those two elements as alternating squares.\n",
    "**Examples:**<br>\n",
    "checker_board(2, 7, 6) ➞ [<br>\n",
    "  &emsp; [7, 6],<br>\n",
    "  &emsp; [6, 7]<br>\n",
    "]\n",
    "\n",
    "checker_board(3, \"A\", \"B\") ➞ [<br>\n",
    "  &emsp; [\"A\", \"B\", \"A\"],<br>\n",
    "  &emsp; [\"B\", \"A\", \"B\"],<br>\n",
    "  &emsp; [\"A\", \"B\", \"A\"]<br>\n",
    "]\n",
    "\n",
    "checker_board(4, \"c\", \"d\") ➞ [<br>\n",
    "  &emsp; [\"c\", \"d\", \"c\", \"d\"],<br>\n",
    "  &emsp; [\"d\", \"c\", \"d\", \"c\"],<br>\n",
    "  &emsp; [\"c\", \"d\", \"c\", \"d\"],<br>\n",
    "  &emsp; [\"d\", \"c\", \"d\", \"c\"]<br>\n",
    "]\n",
    "\n",
    "checker_board(4, \"c\", \"c\") ➞ \"invalid\"\n",
    "\n"
   ]
  },
  {
   "cell_type": "code",
   "execution_count": 1,
   "metadata": {},
   "outputs": [
    {
     "name": "stdout",
     "output_type": "stream",
     "text": [
      "checker_board(2, 7, 6) ➞ [[7, 6], [6, 7]]\n",
      "checker_board(3, 'A', 'B') ➞ [['A', 'B', 'A'], ['B', 'A', 'B'], ['A', 'B', 'A']]\n",
      "checker_board(4, 'c', 'd') ➞ [['c', 'd', 'c', 'd'], ['d', 'c', 'd', 'c'], ['c', 'd', 'c', 'd'], ['d', 'c', 'd', 'c']]\n",
      "checker_board(4, 'c', 'c') ➞ Invalid\n"
     ]
    }
   ],
   "source": [
    "def checker_board(grid_size,in_one,in_two):\n",
    "    if in_one != in_two:\n",
    "        input = [in_one,in_two]\n",
    "        output = []\n",
    "        for ele_1 in range(grid_size):\n",
    "            output.append([])\n",
    "            for ele_2 in range(grid_size):\n",
    "                output[ele_1].append(input[(ele_1+ele_2)%2])\n",
    "    else:\n",
    "        output = 'Invalid'\n",
    "    print(f'checker_board{grid_size,in_one,in_two} ➞ {output}')\n",
    "    \n",
    "checker_board(2, 7, 6)\n",
    "checker_board(3, \"A\", \"B\")\n",
    "checker_board(4, \"c\", \"d\")\n",
    "checker_board(4, \"c\", \"c\") "
   ]
  },
  {
   "cell_type": "markdown",
   "metadata": {},
   "source": [
    "#### 2. A string is an almost-palindrome if, by changing only one character, you can make it a palindrome. Create a function that returns True if a string is an almost-palindrome and False otherwise.\n",
    "**Examples:**<br>\n",
    "almost_palindrome(\"abcdcbg\") ➞ True<br>\n",
    "\\# Transformed to \"abcdcba\" by changing \"g\" to \"a\".<br>\n",
    "\n",
    "almost_palindrome(\"abccia\") ➞ True<br>\n",
    "\\# Transformed to \"abccba\" by changing \"i\" to \"b\".<br>\n",
    "\n",
    "almost_palindrome(\"abcdaaa\") ➞ False<br>\n",
    "\\# Can't be transformed to a palindrome in exactly 1 turn.<br>\n",
    "\n",
    "almost_palindrome(\"1234312\") ➞ False"
   ]
  },
  {
   "cell_type": "code",
   "execution_count": 9,
   "metadata": {},
   "outputs": [
    {
     "name": "stdout",
     "output_type": "stream",
     "text": [
      "almost_palindrome(abcdcbg) ➞ True\n",
      "almost_palindrome(abccia) ➞ True\n",
      "almost_palindrome(abcdaaa) ➞ False\n",
      "almost_palindrome(1234312) ➞ False\n"
     ]
    }
   ],
   "source": [
    "def almost_palindrome(string):\n",
    "    count = 0\n",
    "    rev_string = string[::-1]\n",
    "    for i in range(len(string)):\n",
    "        if string[i] != rev_string[i]:\n",
    "            count += 1\n",
    "    if count>2: result = False\n",
    "    else: result = True\n",
    "    print(f'almost_palindrome({string}) ➞ {result}')\n",
    "    \n",
    "almost_palindrome(\"abcdcbg\")\n",
    "almost_palindrome(\"abccia\")\n",
    "almost_palindrome(\"abcdaaa\")\n",
    "almost_palindrome(\"1234312\")"
   ]
  },
  {
   "cell_type": "markdown",
   "metadata": {},
   "source": [
    "#### 3. Create a function that finds how many prime numbers there are, up to the given integer.\n",
    "**Examples:**<br>\n",
    "prime_numbers(10) ➞ 4 # 2, 3, 5 and 7<br>\n",
    "prime_numbers(20) ➞ 8 # 2, 3, 5, 7, 11, 13, 17 and 19<br>\n",
    "prime_numbers(30) ➞ 10 # 2, 3, 5, 7, 11, 13, 17, 19, 23 and 29"
   ]
  },
  {
   "cell_type": "code",
   "execution_count": 21,
   "metadata": {},
   "outputs": [
    {
     "name": "stdout",
     "output_type": "stream",
     "text": [
      "prime_numbers(10) ➞ 4\n",
      "prime_numbers(20) ➞ 8\n",
      "prime_numbers(30) ➞ 10\n"
     ]
    }
   ],
   "source": [
    "def prime_numbers(num):\n",
    "    prime=True\n",
    "    count = 0\n",
    "    for i in range(2,num):\n",
    "        for j in range(2, i):\n",
    "            prime=True\n",
    "            if i%j == 0:\n",
    "                prime=False\n",
    "                break\n",
    "        if prime: count += 1\n",
    "    print(f'prime_numbers({num}) ➞ {count}')\n",
    "        \n",
    "prime_numbers(10)     \n",
    "prime_numbers(20)\n",
    "prime_numbers(30)\n"
   ]
  },
  {
   "cell_type": "markdown",
   "metadata": {},
   "source": [
    "#### 4. If today was Monday, in two days, it would be Wednesday.\n",
    "Create a function that takes in a list of days as input and the number of days to increment by. Return a list of days after n number of days has passed.\n",
    "\n",
    "**Examples:**\n",
    "after_n_days([\"Thursday\", \"Monday\"], 4) ➞ [\"Monday\", \"Friday\"]<br>\n",
    "after_n_days([\"Sunday\", \"Sunday\", \"Sunday\"], 1) ➞ [\"Monday\", \"Monday\", \"Monday\"]<br>\n",
    "after_n_days([\"Monday\", \"Tuesday\", \"Friday\"], 1) ➞ [\"Tuesday\", \"Wednesday\", \"Saturday\"]"
   ]
  },
  {
   "cell_type": "code",
   "execution_count": 28,
   "metadata": {},
   "outputs": [
    {
     "name": "stdout",
     "output_type": "stream",
     "text": [
      "after_n_days(['Thursday', 'Monday'], 4) ➞ ['Monday', 'Friday']\n",
      "after_n_days(['Sunday', 'Sunday', 'Sunday'], 1) ➞ ['Monday', 'Monday', 'Monday']\n",
      "after_n_days(['Monday', 'Tuesday', 'Friday'], 1) ➞ ['Tuesday', 'Wednesday', 'Saturday']\n"
     ]
    }
   ],
   "source": [
    "def after_n_days(seq, incr):\n",
    "    result = []\n",
    "    day_to_num_index = {'Monday': 1, 'Tuesday': 2, 'Wednesday': 3, 'Thursday': 4, 'Friday': 5, 'Saturday': 6, 'Sunday': 7}\n",
    "    num_to_day_index = { value: key for key, value in day_to_num_index.items() }\n",
    "    for day in seq:\n",
    "        result.append(num_to_day_index[(day_to_num_index[day]+incr)%7])\n",
    "    print(f'after_n_days{seq,incr} ➞ {result}')\n",
    "    \n",
    "after_n_days([\"Thursday\", \"Monday\"], 4)\n",
    "after_n_days([\"Sunday\", \"Sunday\", \"Sunday\"], 1)\n",
    "after_n_days([\"Monday\", \"Tuesday\", \"Friday\"], 1)"
   ]
  },
  {
   "cell_type": "markdown",
   "metadata": {},
   "source": [
    "#### 5. You are in the process of creating a chat application and want to add an anonymous name feature. This anonymous name feature will create an alias that consists of two capitalized words beginning with the same letter as the users first name.\n",
    "Create a function that determines if the list of users is mapped to a list of anonymous names correctly.\n",
    "\n",
    "**Examples:**\n",
    "is_correct_aliases([\"Adrian M.\", \"Harriet S.\", \"Mandy T.\"], [\"Amazing Artichoke\", \"Hopeful Hedgehog\", \"Marvelous Mouse\"]) ➞ True\n",
    "\n",
    "is_correct_aliases([\"Rachel F.\", \"Pam G.\", \"Fred Z.\", \"Nancy K.\"], [\"Reassuring Rat\", \"Peaceful Panda\", \"Fantastic Frog\", \"Notable Nickel\"]) ➞ True\n",
    "\n",
    "is_correct_aliases([\"Beth T.\"], [\"Brandishing Mimosa\"]) ➞ False\n",
    "\\# Both words in \"Brandishing Mimosa\" should begin with a \"B\" - \"Brandishing Beaver\" would do the trick."
   ]
  },
  {
   "cell_type": "code",
   "execution_count": 30,
   "metadata": {},
   "outputs": [
    {
     "name": "stdout",
     "output_type": "stream",
     "text": [
      "is_correct_aliases(['Beth T.'], ['Brandishing Mimosa'])➞ False\n",
      "is_correct_aliases(['Adrian M.', 'Harriet S.', 'Mandy T.'], ['Amazing Artichoke', 'Hopeful Hedgehog', 'Marvelous Mouse'])➞ True\n",
      "is_correct_aliases(['Rachel F.', 'Pam G.', 'Fred Z.', 'Nancy K.'], ['Reassuring Rat', 'Peaceful Panda', 'Fantastic Frog', 'Notable Nickel'])➞ True\n"
     ]
    }
   ],
   "source": [
    "def is_correct_aliases(users, aliases):\n",
    "    for i in range(len(users)):\n",
    "        if users[i][0] == aliases[i].split(' ')[0][0] == aliases[i].split(' ')[1][0]:\n",
    "            result = True\n",
    "        else: \n",
    "            result = False\n",
    "            break\n",
    "    print(f'is_correct_aliases{users,aliases}➞ {result}')\n",
    "\n",
    "is_correct_aliases([\"Beth T.\"],[\"Brandishing Mimosa\"])\n",
    "is_correct_aliases([\"Adrian M.\",\"Harriet S.\",\"Mandy T.\"], [\"Amazing Artichoke\", \"Hopeful Hedgehog\", \"Marvelous Mouse\"])\n",
    "is_correct_aliases([\"Rachel F.\",\"Pam G.\",\"Fred Z.\",\"Nancy K.\"], [\"Reassuring Rat\", \"Peaceful Panda\", \"Fantastic Frog\", \"Notable Nickel\"])"
   ]
  }
 ],
 "metadata": {
  "interpreter": {
   "hash": "ed98f0601b831bcc7b83204b240d5de8690f3d4c7ae43c4dad5e24aa4ea3791d"
  },
  "kernelspec": {
   "display_name": "Python 3.9.7 ('base')",
   "language": "python",
   "name": "python3"
  },
  "language_info": {
   "codemirror_mode": {
    "name": "ipython",
    "version": 3
   },
   "file_extension": ".py",
   "mimetype": "text/x-python",
   "name": "python",
   "nbconvert_exporter": "python",
   "pygments_lexer": "ipython3",
   "version": "3.9.7"
  },
  "orig_nbformat": 4
 },
 "nbformat": 4,
 "nbformat_minor": 2
}
