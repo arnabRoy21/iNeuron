{
 "cells": [
  {
   "cell_type": "markdown",
   "metadata": {},
   "source": [
    "#### 1. YouTube offers different playback speed options for users. This allows users to increase or decrease the speed of the video content. Given the actual duration and playback speed of the video, calculate the playback duration of the video.\n",
    "**Examples:**<br>\n",
    "playback_duration(\"00:30:00\", 2) ➞ \"00:15:00\"<br>\n",
    "playback_duration(\"01:20:00\", 1.5) ➞ \"00:53:20\"<br>\n",
    "playback_duration(\"51:20:09\", 0.5) ➞ \"102:40:18\"<br>"
   ]
  },
  {
   "cell_type": "code",
   "execution_count": 22,
   "metadata": {},
   "outputs": [
    {
     "name": "stdout",
     "output_type": "stream",
     "text": [
      "playback_duration('00:30:00', 2) ➞ 00:15:00\n",
      "playback_duration('01:20:00', 1.5) ➞ 00:53:20\n",
      "playback_duration('51:20:09', 0.5) ➞ 102:40:18\n"
     ]
    }
   ],
   "source": [
    "def playback_duration(in_time,playback_speed):\n",
    "    time = in_time.split(\":\")\n",
    "    time_in_secs = (3600*int(time[0])+60*int(time[1])+int(time[2]))/playback_speed\n",
    "    f_time_in_hours = str(int(time_in_secs/3600)) if time_in_secs > 3600 else '00'\n",
    "    f_time_in_mins = str(int((time_in_secs%3600)/60)) if (time_in_secs)%3600 > 60 else '00'\n",
    "    f_time_in_secs = str(int((time_in_secs%3600)%60)) if ((time_in_secs)%3600)%60 > 0 else '00'   \n",
    "    output = f'{f_time_in_hours}:{f_time_in_mins}:{f_time_in_secs}'\n",
    "    print(f'playback_duration{in_time, playback_speed} ➞ {output}')\n",
    "    \n",
    "playback_duration(\"00:30:00\", 2)\n",
    "playback_duration(\"01:20:00\", 1.5)\n",
    "playback_duration(\"51:20:09\", 0.5) "
   ]
  },
  {
   "cell_type": "markdown",
   "metadata": {},
   "source": [
    "#### 2. We needs your help to construct a building which will be a pile of n cubes. The cube at the bottom will have a volume of n^3, the cube above will have volume of (n-1)^3 and so on until the top which will have a volume of 1^3.<br>\n",
    "Given the total volume m of the building, can you find the number of cubes n required for the building?<br>\n",
    "In other words, you have to return an integer n such that: n^3 + (n-1)^3 + ... + 1^3 == m<br>\n",
    "Return None if there is no such number.<br><br>\n",
    "Examples:<br>\n",
    "pile_of_cubes(1071225) ➞ 45<br>\n",
    "pile_of_cubes(4183059834009) ➞ 2022<br>\n",
    "pile_of_cubes(16) ➞ None"
   ]
  },
  {
   "cell_type": "code",
   "execution_count": 15,
   "metadata": {},
   "outputs": [
    {
     "name": "stdout",
     "output_type": "stream",
     "text": [
      "pile_of_cubes(1071225) ➞ 45\n",
      "pile_of_cubes(4183059834009) ➞ 2022\n",
      "pile_of_cubes(16) ➞ None\n"
     ]
    }
   ],
   "source": [
    "def pile_of_cubes(vol):\n",
    "    total = 0\n",
    "    i = 0\n",
    "    result = None\n",
    "    while total < vol:\n",
    "        i += 1\n",
    "        total += i**3\n",
    "    if total == vol:\n",
    "        result = i\n",
    "    print(f'pile_of_cubes({vol}) ➞ {result}')\n",
    "\n",
    "pile_of_cubes(1071225)\n",
    "pile_of_cubes(4183059834009)\n",
    "pile_of_cubes(16)\n"
   ]
  },
  {
   "cell_type": "markdown",
   "metadata": {},
   "source": [
    "#### 3. A fulcrum of a list is an integer such that all elements to the left of it and all elements to the right of it sum to the same value. Write a function that finds the fulcrum of a list.\n",
    "**To illustrate:**<br>\n",
    "find_fulcrum([3, 1, 5, 2, 4, 6, -1]) ➞ 2 // Since [3, 1, 5] and [4, 6, -1] both sum to 9<br>\n",
    "**Examples:**<br>\n",
    "find_fulcrum([1, 2, 4, 9, 10, -10, -9, 3]) ➞ 4<br>\n",
    "find_fulcrum([9, 1, 9]) ➞ 1<br>\n",
    "find_fulcrum([7, -1, 0, -1, 1, 1, 2, 3]) ➞ 0<br>\n",
    "find_fulcrum([8, 8, 8, 8]) ➞ -1<br>"
   ]
  },
  {
   "cell_type": "code",
   "execution_count": 16,
   "metadata": {},
   "outputs": [
    {
     "name": "stdout",
     "output_type": "stream",
     "text": [
      "find_fulcrum([3, 1, 5, 2, 4, 6, -1]) ➞ 2\n",
      "find_fulcrum([1, 2, 4, 9, 10, -10, -9, 3]) ➞ 4\n",
      "find_fulcrum([9, 1, 9]) ➞ 1\n",
      "find_fulcrum([7, -1, 0, -1, 1, 1, 2, 3]) ➞ 0\n",
      "find_fulcrum([8, 8, 8, 8]) ➞ None\n"
     ]
    }
   ],
   "source": [
    "def find_fulcrum(seq):\n",
    "    result = None\n",
    "    for idx in range(len(seq)):\n",
    "        if sum(seq[:idx]) == sum(seq[idx+1:]): result = seq[idx]\n",
    "    print(f'find_fulcrum({seq}) ➞ {result}')\n",
    "        \n",
    "find_fulcrum([3, 1, 5, 2, 4, 6, -1])\n",
    "find_fulcrum([1, 2, 4, 9, 10, -10, -9, 3])\n",
    "find_fulcrum([9, 1, 9])\n",
    "find_fulcrum([7, -1, 0, -1, 1, 1, 2, 3])\n",
    "find_fulcrum([8, 8, 8, 8])\n",
    "\n"
   ]
  },
  {
   "cell_type": "markdown",
   "metadata": {},
   "source": [
    "#### 4. Given a list of integers representing the color of each sock, determine how many pairs of socks with matching colors there are. For example, there are 7 socks with colors [1, 2, 1, 2, 1, 3, 2]. There is one pair of color 1 and one of color 2. There are three odd socks left, one of each color. The number of pairs is 2.\n",
    "Create a function that returns an integer representing the number of matching pairs of socks that are available.<br><br>\n",
    "**Examples:**<br>\n",
    "sock_merchant([10, 20, 20, 10, 10, 30, 50, 10, 20]) ➞ 3<br>\n",
    "sock_merchant([50, 20, 30, 90, 30, 20, 50, 20, 90]) ➞ 4<br>\n",
    "sock_merchant([]) ➞ 0"
   ]
  },
  {
   "cell_type": "code",
   "execution_count": 19,
   "metadata": {},
   "outputs": [
    {
     "name": "stdout",
     "output_type": "stream",
     "text": [
      "sock_merchant([10, 20, 20, 10, 10, 30, 50, 10, 20]) ➞ 3\n",
      "sock_merchant([50, 20, 30, 90, 30, 20, 50, 20, 90]) ➞ 4\n",
      "sock_merchant([]) ➞ 0\n"
     ]
    }
   ],
   "source": [
    "def sock_merchant(in_list):\n",
    "    paired_socks = {}\n",
    "    output = 0\n",
    "    for ele in in_list:\n",
    "        if ele in paired_socks:\n",
    "            paired_socks[ele]+=1\n",
    "        else:\n",
    "            paired_socks[ele]=1\n",
    "    for pair in paired_socks.values():\n",
    "        output += pair//2\n",
    "    print(f'sock_merchant({in_list}) ➞ {output}')\n",
    "    \n",
    "\n",
    "sock_merchant([10, 20, 20, 10, 10, 30, 50, 10, 20])\n",
    "sock_merchant([50, 20, 30, 90, 30, 20, 50, 20, 90])\n",
    "sock_merchant([])"
   ]
  },
  {
   "cell_type": "markdown",
   "metadata": {},
   "source": [
    "#### 5. Create a function that takes a string containing integers as well as other characters and return the sum of the negative integers only.\n",
    "**Examples:**<br>\n",
    "negative_sum(\"-12 13%14&-11\") ➞ -23<br>\n",
    "\\# -12 + -11 = -23<br>\n",
    "negative_sum(\"22 13%14&-11-22 13 12\") ➞ -33<br>\n",
    "\\# -11 + -22 = -33"
   ]
  },
  {
   "cell_type": "code",
   "execution_count": 21,
   "metadata": {},
   "outputs": [
    {
     "name": "stdout",
     "output_type": "stream",
     "text": [
      "negative_sum(\"-12 13%14&-11\") ➞ -23\n",
      "negative_sum(\"22 13%14&-11-22 13 12\") ➞ -33\n"
     ]
    }
   ],
   "source": [
    "import re\n",
    "\n",
    "def negative_sum(string):\n",
    "    pattern = '-\\d+'\n",
    "    result = sum([int(ele) for ele in re.findall(pattern,string)])\n",
    "    print(f'negative_sum(\"{string}\") ➞ {result}')\n",
    "    \n",
    "negative_sum(\"-12 13%14&-11\")\n",
    "negative_sum(\"22 13%14&-11-22 13 12\")"
   ]
  }
 ],
 "metadata": {
  "interpreter": {
   "hash": "ed98f0601b831bcc7b83204b240d5de8690f3d4c7ae43c4dad5e24aa4ea3791d"
  },
  "kernelspec": {
   "display_name": "Python 3.9.7 ('base')",
   "language": "python",
   "name": "python3"
  },
  "language_info": {
   "codemirror_mode": {
    "name": "ipython",
    "version": 3
   },
   "file_extension": ".py",
   "mimetype": "text/x-python",
   "name": "python",
   "nbconvert_exporter": "python",
   "pygments_lexer": "ipython3",
   "version": "3.9.7"
  },
  "orig_nbformat": 4
 },
 "nbformat": 4,
 "nbformat_minor": 2
}
