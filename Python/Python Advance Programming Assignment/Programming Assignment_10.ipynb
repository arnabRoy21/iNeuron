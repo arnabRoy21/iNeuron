{
 "cells": [
  {
   "cell_type": "markdown",
   "metadata": {},
   "source": [
    "#### 1. Create a function that takes the width, height and character and returns a picture frame as a 2D list.\n",
    "**Examples:**\n",
    "\n",
    "get_frame(4, 5, \"#\") ➞ [<br>\n",
    "&emsp;[\"####\"],<br>\n",
    "&emsp;[\"\\# \\#\"],<br>\n",
    "&emsp;[\"\\# \\#\"],<br>\n",
    "&emsp;[\"\\# \\#\"],<br>\n",
    "&emsp;[\"####\"]<br>\n",
    "]<br>\n",
    "\\# Frame is 4 characters wide and 5 characters tall.\n",
    "\n",
    "get_frame(10, 3, \"\\*\") ➞ [<br>\n",
    "&emsp;[\"\\*\\*\\*\\*\\*\\*\\*\\*\\*\\*\"],<br>\n",
    "&emsp;[\"\\* \\*\"],<br>\n",
    "&emsp;[\"\\*\\*\\*\\*\\*\\*\\*\\*\\*\\*\"]<br>\n",
    "]<br>\n",
    "\\# Frame is 10 characters and wide and 3 characters tall.\n",
    "\n",
    "get_frame(2, 5, \"0\") ➞ \"invalid\"\n",
    "\\# Frame&#39;s width is not more than 2."
   ]
  },
  {
   "cell_type": "code",
   "execution_count": 13,
   "metadata": {},
   "outputs": [
    {
     "name": "stdout",
     "output_type": "stream",
     "text": [
      "get_frames(4, 5, #) ➞\n",
      "['####']\n",
      "['#  #']\n",
      "['#  #']\n",
      "['#  #']\n",
      "['####']\n",
      "\n",
      "get_frames(10, 3, *) ➞\n",
      "['**********']\n",
      "['*        *']\n",
      "['**********']\n",
      "\n",
      "get_frames(2, 5, 0) ➞ invalid\n"
     ]
    }
   ],
   "source": [
    "def get_frame(width, height, char):\n",
    "    if width <= 2:\n",
    "        print(f'get_frames({width}, {height}, {char}) ➞ invalid')\n",
    "    else: \n",
    "        print(f'get_frames({width}, {height}, {char}) ➞')\n",
    "        result = []\n",
    "        for i in range(height):\n",
    "            row = []\n",
    "            if i == 0 or i == height-1:\n",
    "                row.append(char*width)\n",
    "            else:\n",
    "                row.append(char + ' '*(width-2) + char)  \n",
    "            result.append(row) \n",
    "        \n",
    "        for i in result:\n",
    "            print(i)\n",
    "        print()\n",
    "\n",
    "get_frame(4, 5, \"#\")\n",
    "get_frame(10, 3, \"*\")\n",
    "get_frame(2, 5, \"0\")"
   ]
  },
  {
   "cell_type": "markdown",
   "metadata": {},
   "source": [
    "#### 2. Write three functions:\n",
    "- boolean_and\n",
    "- boolean_or\n",
    "- boolean_xor\n",
    "\n",
    "These functions should evaluate a list of True and False values, starting from the leftmost element and evaluating pairwise.<br><br>\n",
    "**Examples:**<br>\n",
    "boolean_and([True, True, False, True]) ➞ False\n",
    "\\# [True, True, False, True] => [True, False, True] => [False, True] => False\n",
    "\n",
    "boolean_or([True, True, False, False]) ➞ True\n",
    "\\# [True, True, False, True] => [True, False, False] => [True, False] => True\n",
    "\n",
    "boolean_xor([True, True, False, False]) ➞ False\n",
    "\\# [True, True, False, False] => [False, False, False] => [False, False] => False"
   ]
  },
  {
   "cell_type": "code",
   "execution_count": 10,
   "metadata": {},
   "outputs": [
    {
     "name": "stdout",
     "output_type": "stream",
     "text": [
      "boolean_and([True, True, False, True]) ➞ False\n",
      "boolean_and([True, True, False, False]) ➞ True\n",
      "boolean_and([True, True, False, False]) ➞ False\n"
     ]
    }
   ],
   "source": [
    "from functools import reduce\n",
    "def boolean_and(seq):\n",
    "    result = reduce(lambda x,y: x & y, seq)\n",
    "    print(f'boolean_and({seq}) ➞ {result}')\n",
    "\n",
    "def boolean_or(seq):\n",
    "    result = reduce(lambda x,y: x | y, seq)\n",
    "    print(f'boolean_and({seq}) ➞ {result}')\n",
    "\n",
    "def boolean_xor(seq):\n",
    "    result = reduce(lambda x,y: x ^ y, seq)\n",
    "    print(f'boolean_and({seq}) ➞ {result}')\n",
    "\n",
    "\n",
    "boolean_and([True, True, False, True])\n",
    "boolean_or([True, True, False, False])\n",
    "boolean_xor([True, True, False, False])\n"
   ]
  },
  {
   "cell_type": "markdown",
   "metadata": {},
   "source": [
    "#### 3. Create a function that creates a box based on dimension n.\n",
    "**Examples:**<br>\n",
    "make_box(5) ➞ [<br>\n",
    "  &emsp;\"#####\",<br>\n",
    "  &emsp;\"#   #\",<br>\n",
    "  &emsp;\"#   #\",<br>\n",
    "  &emsp;\"#   #\",<br>\n",
    "  &emsp;\"#####\"<br>\n",
    "]<br>\n",
    "\n",
    "make_box(3) ➞ [<br>\n",
    "  &emsp;\"###\",<br>\n",
    "  &emsp;\"# #\",<br>\n",
    "  &emsp;\"###\"<br>\n",
    "]<br>\n",
    "\n",
    "make_box(2) ➞ [<br>\n",
    "  &emsp;\"##\",<br>\n",
    "  &emsp;\"##\"<br>\n",
    "]<br>\n",
    "\n",
    "make_box(1) ➞ [<br>\n",
    "  &emsp;\"#\"<br>\n",
    "]"
   ]
  },
  {
   "cell_type": "code",
   "execution_count": 15,
   "metadata": {},
   "outputs": [
    {
     "name": "stdout",
     "output_type": "stream",
     "text": [
      "make_box(5) ➞ \n",
      "#####\n",
      "#   #\n",
      "#   #\n",
      "#   #\n",
      "#####\n",
      "\n",
      "make_box(2) ➞ \n",
      "##\n",
      "##\n",
      "\n",
      "make_box(1) ➞ \n",
      "#\n",
      "\n"
     ]
    }
   ],
   "source": [
    "def make_box(num):\n",
    "    print(f'make_box({num}) ➞ ')\n",
    "    result = []\n",
    "    for i in range(num):\n",
    "        if i == 0 or i == num-1:\n",
    "            result.append('#'*num)\n",
    "        else:\n",
    "            result.append('#'+' '*(num-2)+'#')\n",
    "    \n",
    "    for i in result:\n",
    "        print(i)\n",
    "    print()\n",
    "\n",
    "make_box(5)   \n",
    "make_box(2)\n",
    "make_box(1)"
   ]
  },
  {
   "cell_type": "markdown",
   "metadata": {},
   "source": [
    "#### 4. Given a common phrase, return False if any individual word in the phrase contains duplicate letters. Return True otherwise.\n",
    "**Examples:**<br>\n",
    "no_duplicate_letters(\"Fortune favours the bold.\") ➞ True<br>\n",
    "no_duplicate_letters(\"You can lead a horse to water, but you can't make him drink.\") ➞ True<br>\n",
    "no_duplicate_letters(\"Look before you leap.\") ➞ False<br>\n",
    "\\# Duplicate letters in \"Look\" and \"before\".<br>\n",
    "no_duplicate_letters(\"An apple a day keeps the doctor away.\") ➞ False<br>\n",
    "\\# Duplicate letters in \"apple\", \"keeps\", \"doctor\", and \"away\"."
   ]
  },
  {
   "cell_type": "code",
   "execution_count": 22,
   "metadata": {},
   "outputs": [
    {
     "name": "stdout",
     "output_type": "stream",
     "text": [
      "no_duplicate_letters(Fortune favours the bold.) ➞ True\n",
      "no_duplicate_letters(You can lead a horse to water, but you can't make him drink.) ➞ True\n",
      "no_duplicate_letters(Look before you leap.) ➞ False\n",
      "no_duplicate_letters(An apple a day keeps the doctor away.) ➞ False\n"
     ]
    }
   ],
   "source": [
    "def no_duplicate_letters(sent):\n",
    "    flag = True\n",
    "    for word in sent.split():\n",
    "        if len(word) != len(set(word)):\n",
    "            flag = False\n",
    "            break\n",
    "    print(f'no_duplicate_letters({sent}) ➞ {flag}')\n",
    "\n",
    "no_duplicate_letters(\"Fortune favours the bold.\")\n",
    "no_duplicate_letters(\"You can lead a horse to water, but you can't make him drink.\")\n",
    "no_duplicate_letters(\"Look before you leap.\")\n",
    "no_duplicate_letters(\"An apple a day keeps the doctor away.\")"
   ]
  },
  {
   "cell_type": "markdown",
   "metadata": {},
   "source": [
    "#### 5. Write a regular expression that will match the states that voted yes to President Trump's impeachment. You must use RegEx positive lookahead.\n",
    "**Examples:**<br>\n",
    "txt = \"Texas = no, California = yes, Florida = yes, Michigan = no\"<br>\n",
    "pattern = \"yourregularexpressionhere\"<br>\n",
    "re.findall(pattern, txt) ➞ [\"California\", \"Florida\"]"
   ]
  },
  {
   "cell_type": "code",
   "execution_count": 31,
   "metadata": {},
   "outputs": [
    {
     "name": "stdout",
     "output_type": "stream",
     "text": [
      "re.findall(\\w+(?=\\s\\=\\syes), Texas = no, California = yes, Florida = yes, Michigan = no) ➞ ['California', 'Florida']\n"
     ]
    }
   ],
   "source": [
    "import re\n",
    "txt = \"Texas = no, California = yes, Florida = yes, Michigan = no\"\n",
    "pattern = '\\w+(?=\\s\\=\\syes)'\n",
    "print(f're.findall({pattern}, {txt}) ➞ {re.findall(pattern, txt)}')"
   ]
  }
 ],
 "metadata": {
  "interpreter": {
   "hash": "ed98f0601b831bcc7b83204b240d5de8690f3d4c7ae43c4dad5e24aa4ea3791d"
  },
  "kernelspec": {
   "display_name": "Python 3.9.7 ('base')",
   "language": "python",
   "name": "python3"
  },
  "language_info": {
   "codemirror_mode": {
    "name": "ipython",
    "version": 3
   },
   "file_extension": ".py",
   "mimetype": "text/x-python",
   "name": "python",
   "nbconvert_exporter": "python",
   "pygments_lexer": "ipython3",
   "version": "3.9.7"
  },
  "orig_nbformat": 4
 },
 "nbformat": 4,
 "nbformat_minor": 2
}
